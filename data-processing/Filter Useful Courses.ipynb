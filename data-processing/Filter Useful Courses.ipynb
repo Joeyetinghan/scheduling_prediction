{
 "cells": [
  {
   "cell_type": "code",
   "execution_count": 1,
   "metadata": {},
   "outputs": [],
   "source": [
    "%load_ext autoreload\n",
    "%autoreload 2"
   ]
  },
  {
   "cell_type": "code",
   "execution_count": 2,
   "metadata": {},
   "outputs": [],
   "source": [
    "import pandas as pd\n",
    "import numpy as np\n",
    "import matplotlib.pyplot as plt\n",
    "from ast import literal_eval\n",
    "from itertools import permutations\n",
    "from sklearn.linear_model import LogisticRegression\n",
    "from helper import *\n",
    "import copy\n",
    "from tqdm import tqdm\n",
    "import pickle\n",
    "from sklearn.model_selection import train_test_split"
   ]
  },
  {
   "cell_type": "code",
   "execution_count": 227,
   "metadata": {
    "scrolled": true
   },
   "outputs": [
    {
     "name": "stdout",
     "output_type": "stream",
     "text": [
      "478\n"
     ]
    },
    {
     "name": "stderr",
     "output_type": "stream",
     "text": [
      "  0%|▏                                                                                 | 1/478 [00:00<04:22,  1.82it/s]"
     ]
    },
    {
     "name": "stdout",
     "output_type": "stream",
     "text": [
      "145 students pre-enrolled in SPAN-1220\n",
      "7 data point is nan during processing\n",
      "Sanity check passed\n",
      "14 students dropped\n"
     ]
    },
    {
     "name": "stderr",
     "output_type": "stream",
     "text": [
      "\r",
      "  0%|▎                                                                                 | 2/478 [00:01<04:33,  1.74it/s]"
     ]
    },
    {
     "name": "stdout",
     "output_type": "stream",
     "text": [
      "236 students pre-enrolled in ILRLR-2010\n",
      "1 data point is nan during processing\n",
      "Sanity check passed\n",
      "0 students dropped\n"
     ]
    },
    {
     "name": "stderr",
     "output_type": "stream",
     "text": [
      "\r",
      "  1%|▌                                                                                 | 3/478 [00:01<04:37,  1.71it/s]"
     ]
    },
    {
     "name": "stdout",
     "output_type": "stream",
     "text": [
      "97 students pre-enrolled in HADM-4375\n",
      "0 data point is nan during processing\n",
      "Sanity check passed\n",
      "5 students dropped\n"
     ]
    },
    {
     "name": "stderr",
     "output_type": "stream",
     "text": [
      "\r",
      "  1%|▋                                                                                 | 4/478 [00:02<04:26,  1.78it/s]"
     ]
    },
    {
     "name": "stdout",
     "output_type": "stream",
     "text": [
      "27 students pre-enrolled in GOVT-1503\n",
      "2 data point is nan during processing\n",
      "Sanity check passed\n",
      "5 students dropped\n"
     ]
    },
    {
     "name": "stderr",
     "output_type": "stream",
     "text": [
      "\r",
      "  1%|▊                                                                                 | 5/478 [00:02<04:32,  1.73it/s]"
     ]
    },
    {
     "name": "stdout",
     "output_type": "stream",
     "text": [
      "159 students pre-enrolled in MAE-5010\n",
      "6 data point is nan during processing\n",
      "Sanity check passed\n",
      "13 students dropped\n"
     ]
    },
    {
     "name": "stderr",
     "output_type": "stream",
     "text": [
      "\r",
      "  1%|█                                                                                 | 6/478 [00:03<04:33,  1.73it/s]"
     ]
    },
    {
     "name": "stdout",
     "output_type": "stream",
     "text": [
      "54 students pre-enrolled in FDSC-2110\n",
      "0 data point is nan during processing\n",
      "Sanity check passed\n",
      "1 students dropped\n"
     ]
    },
    {
     "name": "stderr",
     "output_type": "stream",
     "text": [
      "\r",
      "  1%|█▏                                                                                | 7/478 [00:03<04:19,  1.82it/s]"
     ]
    },
    {
     "name": "stdout",
     "output_type": "stream",
     "text": [
      "30 students pre-enrolled in ENGRD-2620\n",
      "0 data point is nan during processing\n",
      "Sanity check passed\n",
      "7 students dropped\n"
     ]
    },
    {
     "name": "stderr",
     "output_type": "stream",
     "text": [
      "\r",
      "  2%|█▎                                                                                | 8/478 [00:04<04:23,  1.79it/s]"
     ]
    },
    {
     "name": "stdout",
     "output_type": "stream",
     "text": [
      "157 students pre-enrolled in ARCH-1612\n",
      "0 data point is nan during processing\n",
      "Sanity check passed\n",
      "3 students dropped\n"
     ]
    },
    {
     "name": "stderr",
     "output_type": "stream",
     "text": [
      "\r",
      "  2%|█▌                                                                                | 9/478 [00:05<04:13,  1.85it/s]"
     ]
    },
    {
     "name": "stdout",
     "output_type": "stream",
     "text": [
      "57 students pre-enrolled in MSE-5802\n",
      "3 data point is nan during processing\n",
      "Sanity check passed\n",
      "3 students dropped\n"
     ]
    },
    {
     "name": "stderr",
     "output_type": "stream",
     "text": [
      "\r",
      "  2%|█▋                                                                               | 10/478 [00:05<04:21,  1.79it/s]"
     ]
    },
    {
     "name": "stdout",
     "output_type": "stream",
     "text": [
      "895 students pre-enrolled in ILRST-2100\n",
      "5 data point is nan during processing\n",
      "Sanity check passed\n",
      "54 students dropped\n"
     ]
    },
    {
     "name": "stderr",
     "output_type": "stream",
     "text": [
      "\r",
      "  2%|█▊                                                                               | 11/478 [00:06<04:24,  1.76it/s]"
     ]
    },
    {
     "name": "stdout",
     "output_type": "stream",
     "text": [
      "21 students pre-enrolled in ANSC-4410\n",
      "0 data point is nan during processing\n",
      "Sanity check passed\n",
      "3 students dropped\n"
     ]
    },
    {
     "name": "stderr",
     "output_type": "stream",
     "text": [
      "\r",
      "  3%|██                                                                               | 12/478 [00:06<04:12,  1.85it/s]"
     ]
    },
    {
     "name": "stdout",
     "output_type": "stream",
     "text": [
      "9 students pre-enrolled in RUSSA-2204\n",
      "0 data point is nan during processing\n",
      "Sanity check passed\n",
      "1 students dropped\n"
     ]
    },
    {
     "name": "stderr",
     "output_type": "stream",
     "text": [
      "\r",
      "  3%|██▏                                                                              | 13/478 [00:07<04:20,  1.79it/s]"
     ]
    },
    {
     "name": "stdout",
     "output_type": "stream",
     "text": [
      "277 students pre-enrolled in PLSCI-2013\n",
      "4 data point is nan during processing\n",
      "Sanity check passed\n",
      "41 students dropped\n"
     ]
    },
    {
     "name": "stderr",
     "output_type": "stream",
     "text": [
      "\r",
      "  3%|██▎                                                                              | 14/478 [00:07<04:13,  1.83it/s]"
     ]
    },
    {
     "name": "stdout",
     "output_type": "stream",
     "text": [
      "18 students pre-enrolled in FDSC-5360\n",
      "1 data point is nan during processing\n",
      "Sanity check passed\n",
      "1 students dropped\n"
     ]
    },
    {
     "name": "stderr",
     "output_type": "stream",
     "text": [
      "\r",
      "  3%|██▌                                                                              | 15/478 [00:08<04:24,  1.75it/s]"
     ]
    },
    {
     "name": "stdout",
     "output_type": "stream",
     "text": [
      "1329 students pre-enrolled in PHYS-1112\n",
      "4 data point is nan during processing\n",
      "Sanity check passed\n",
      "41 students dropped\n"
     ]
    },
    {
     "name": "stderr",
     "output_type": "stream",
     "text": [
      "\r",
      "  3%|██▋                                                                              | 16/478 [00:09<04:26,  1.74it/s]"
     ]
    },
    {
     "name": "stdout",
     "output_type": "stream",
     "text": [
      "22 students pre-enrolled in PAM-5301\n",
      "2 data point is nan during processing\n",
      "Sanity check passed\n",
      "4 students dropped\n"
     ]
    },
    {
     "name": "stderr",
     "output_type": "stream",
     "text": [
      "\r",
      "  4%|██▉                                                                              | 17/478 [00:09<04:16,  1.80it/s]"
     ]
    },
    {
     "name": "stdout",
     "output_type": "stream",
     "text": [
      "104 students pre-enrolled in BME-3020\n",
      "0 data point is nan during processing\n",
      "Sanity check passed\n",
      "3 students dropped\n"
     ]
    },
    {
     "name": "stderr",
     "output_type": "stream",
     "text": [
      "\r",
      "  4%|███                                                                              | 18/478 [00:10<04:25,  1.74it/s]"
     ]
    },
    {
     "name": "stdout",
     "output_type": "stream",
     "text": [
      "845 students pre-enrolled in CHEM-2070\n",
      "0 data point is nan during processing\n",
      "Sanity check passed\n",
      "14 students dropped\n"
     ]
    },
    {
     "name": "stderr",
     "output_type": "stream",
     "text": [
      "\r",
      "  4%|███▏                                                                             | 19/478 [00:10<04:18,  1.77it/s]"
     ]
    },
    {
     "name": "stdout",
     "output_type": "stream",
     "text": [
      "61 students pre-enrolled in ORIE-4152\n",
      "0 data point is nan during processing\n",
      "Sanity check passed\n",
      "12 students dropped\n"
     ]
    },
    {
     "name": "stderr",
     "output_type": "stream",
     "text": [
      "\r",
      "  4%|███▍                                                                             | 20/478 [00:11<04:23,  1.74it/s]"
     ]
    },
    {
     "name": "stdout",
     "output_type": "stream",
     "text": [
      "95 students pre-enrolled in CHEM-3900\n",
      "0 data point is nan during processing\n",
      "Sanity check passed\n",
      "5 students dropped\n"
     ]
    },
    {
     "name": "stderr",
     "output_type": "stream",
     "text": [
      "\r",
      "  4%|███▌                                                                             | 21/478 [00:11<04:17,  1.77it/s]"
     ]
    },
    {
     "name": "stdout",
     "output_type": "stream",
     "text": [
      "156 students pre-enrolled in MATH-4310\n",
      "2 data point is nan during processing\n",
      "Sanity check passed\n",
      "21 students dropped\n"
     ]
    },
    {
     "name": "stderr",
     "output_type": "stream",
     "text": [
      "\r",
      "  5%|███▋                                                                             | 22/478 [00:12<04:23,  1.73it/s]"
     ]
    },
    {
     "name": "stdout",
     "output_type": "stream",
     "text": [
      "52 students pre-enrolled in ILRST-2110\n",
      "1 data point is nan during processing\n",
      "Sanity check passed\n",
      "10 students dropped\n"
     ]
    },
    {
     "name": "stderr",
     "output_type": "stream",
     "text": [
      "\r",
      "  5%|███▉                                                                             | 23/478 [00:13<04:26,  1.71it/s]"
     ]
    },
    {
     "name": "stdout",
     "output_type": "stream",
     "text": [
      "121 students pre-enrolled in JAPAN-1102\n",
      "1 data point is nan during processing\n",
      "Sanity check passed\n",
      "4 students dropped\n"
     ]
    },
    {
     "name": "stderr",
     "output_type": "stream",
     "text": [
      "\r",
      "  5%|████                                                                             | 24/478 [00:13<04:18,  1.75it/s]"
     ]
    },
    {
     "name": "stdout",
     "output_type": "stream",
     "text": [
      "120 students pre-enrolled in PHYS-1116\n",
      "1 data point is nan during processing\n",
      "Sanity check passed\n",
      "4 students dropped\n"
     ]
    },
    {
     "name": "stderr",
     "output_type": "stream",
     "text": [
      "\r",
      "  5%|████▏                                                                            | 25/478 [00:14<04:21,  1.73it/s]"
     ]
    },
    {
     "name": "stdout",
     "output_type": "stream",
     "text": [
      "19 students pre-enrolled in CEE-5610\n",
      "2 data point is nan during processing\n",
      "Sanity check passed\n",
      "4 students dropped\n"
     ]
    },
    {
     "name": "stderr",
     "output_type": "stream",
     "text": [
      "\r",
      "  5%|████▍                                                                            | 26/478 [00:14<04:22,  1.72it/s]"
     ]
    },
    {
     "name": "stdout",
     "output_type": "stream",
     "text": [
      "164 students pre-enrolled in AEM-4190\n",
      "5 data point is nan during processing\n",
      "Sanity check passed\n",
      "20 students dropped\n"
     ]
    },
    {
     "name": "stderr",
     "output_type": "stream",
     "text": [
      "\r",
      "  6%|████▌                                                                            | 27/478 [00:15<04:10,  1.80it/s]"
     ]
    },
    {
     "name": "stdout",
     "output_type": "stream",
     "text": [
      "70 students pre-enrolled in EAS-2250\n",
      "0 data point is nan during processing\n",
      "Sanity check passed\n",
      "7 students dropped\n"
     ]
    },
    {
     "name": "stderr",
     "output_type": "stream",
     "text": [
      "\r",
      "  6%|████▋                                                                            | 28/478 [00:15<04:13,  1.78it/s]"
     ]
    },
    {
     "name": "stdout",
     "output_type": "stream",
     "text": [
      "101 students pre-enrolled in CS-1380\n",
      "4 data point is nan during processing\n",
      "Sanity check passed\n",
      "22 students dropped\n"
     ]
    },
    {
     "name": "stderr",
     "output_type": "stream",
     "text": [
      "\r",
      "  6%|████▉                                                                            | 29/478 [00:16<04:08,  1.81it/s]"
     ]
    },
    {
     "name": "stdout",
     "output_type": "stream",
     "text": [
      "329 students pre-enrolled in HADM-2010\n",
      "1 data point is nan during processing\n",
      "Sanity check passed\n",
      "2 students dropped\n"
     ]
    },
    {
     "name": "stderr",
     "output_type": "stream",
     "text": [
      "\r",
      "  6%|█████                                                                            | 30/478 [00:17<04:18,  1.73it/s]"
     ]
    },
    {
     "name": "stdout",
     "output_type": "stream",
     "text": [
      "341 students pre-enrolled in AEM-2300\n",
      "7 data point is nan during processing\n",
      "Sanity check passed\n",
      "42 students dropped\n"
     ]
    },
    {
     "name": "stderr",
     "output_type": "stream",
     "text": [
      "\r",
      "  6%|█████▎                                                                           | 31/478 [00:17<04:12,  1.77it/s]"
     ]
    },
    {
     "name": "stdout",
     "output_type": "stream",
     "text": [
      "266 students pre-enrolled in PSYCH-1102\n",
      "5 data point is nan during processing\n",
      "Sanity check passed\n",
      "56 students dropped\n"
     ]
    },
    {
     "name": "stderr",
     "output_type": "stream",
     "text": [
      "\r",
      "  7%|█████▍                                                                           | 32/478 [00:18<04:22,  1.70it/s]"
     ]
    },
    {
     "name": "stdout",
     "output_type": "stream",
     "text": [
      "2063 students pre-enrolled in HD-3620\n",
      "21 data point is nan during processing\n",
      "Sanity check passed\n",
      "152 students dropped\n"
     ]
    },
    {
     "name": "stderr",
     "output_type": "stream",
     "text": [
      "\r",
      "  7%|█████▌                                                                           | 33/478 [00:18<04:23,  1.69it/s]"
     ]
    },
    {
     "name": "stdout",
     "output_type": "stream",
     "text": [
      "175 students pre-enrolled in FREN-1220\n",
      "5 data point is nan during processing\n",
      "Sanity check passed\n",
      "13 students dropped\n"
     ]
    },
    {
     "name": "stderr",
     "output_type": "stream",
     "text": [
      "\r",
      "  7%|█████▊                                                                           | 34/478 [00:19<04:11,  1.77it/s]"
     ]
    },
    {
     "name": "stdout",
     "output_type": "stream",
     "text": [
      "34 students pre-enrolled in ECE-4300\n",
      "0 data point is nan during processing\n",
      "Sanity check passed\n",
      "7 students dropped\n"
     ]
    },
    {
     "name": "stderr",
     "output_type": "stream",
     "text": [
      "\r",
      "  7%|█████▉                                                                           | 35/478 [00:19<04:13,  1.75it/s]"
     ]
    },
    {
     "name": "stdout",
     "output_type": "stream",
     "text": [
      "11 students pre-enrolled in BIOMS-4040\n",
      "0 data point is nan during processing\n",
      "Sanity check passed\n",
      "2 students dropped\n"
     ]
    },
    {
     "name": "stderr",
     "output_type": "stream",
     "text": [
      "\r",
      "  8%|██████                                                                           | 36/478 [00:20<04:06,  1.79it/s]"
     ]
    },
    {
     "name": "stdout",
     "output_type": "stream",
     "text": [
      "43 students pre-enrolled in ORIE-5550\n",
      "2 data point is nan during processing\n",
      "Sanity check passed\n",
      "6 students dropped\n"
     ]
    },
    {
     "name": "stderr",
     "output_type": "stream",
     "text": [
      "\r",
      "  8%|██████▎                                                                          | 37/478 [00:20<04:08,  1.78it/s]"
     ]
    },
    {
     "name": "stdout",
     "output_type": "stream",
     "text": [
      "99 students pre-enrolled in LAW-4051\n",
      "5 data point is nan during processing\n",
      "Sanity check passed\n",
      "26 students dropped\n"
     ]
    },
    {
     "name": "stderr",
     "output_type": "stream",
     "text": [
      "\r",
      "  8%|██████▍                                                                          | 38/478 [00:21<04:09,  1.77it/s]"
     ]
    },
    {
     "name": "stdout",
     "output_type": "stream",
     "text": [
      "18 students pre-enrolled in ECE-4520\n",
      "0 data point is nan during processing\n",
      "Sanity check passed\n",
      "7 students dropped\n"
     ]
    },
    {
     "name": "stderr",
     "output_type": "stream",
     "text": [
      "\r",
      "  8%|██████▌                                                                          | 39/478 [00:22<04:01,  1.82it/s]"
     ]
    },
    {
     "name": "stdout",
     "output_type": "stream",
     "text": [
      "76 students pre-enrolled in ANSC-3400\n",
      "1 data point is nan during processing\n",
      "Sanity check passed\n",
      "2 students dropped\n"
     ]
    },
    {
     "name": "stderr",
     "output_type": "stream",
     "text": [
      "\r",
      "  8%|██████▊                                                                          | 40/478 [00:22<04:02,  1.81it/s]"
     ]
    },
    {
     "name": "stdout",
     "output_type": "stream",
     "text": [
      "49 students pre-enrolled in PLBIO-3430\n",
      "1 data point is nan during processing\n",
      "Sanity check passed\n",
      "4 students dropped\n"
     ]
    },
    {
     "name": "stderr",
     "output_type": "stream",
     "text": [
      "\r",
      "  9%|██████▉                                                                          | 41/478 [00:23<04:03,  1.80it/s]"
     ]
    },
    {
     "name": "stdout",
     "output_type": "stream",
     "text": [
      "31 students pre-enrolled in PLPPM-6010\n",
      "0 data point is nan during processing\n",
      "Sanity check passed\n",
      "4 students dropped\n"
     ]
    },
    {
     "name": "stderr",
     "output_type": "stream",
     "text": [
      "\r",
      "  9%|███████                                                                          | 42/478 [00:23<03:55,  1.85it/s]"
     ]
    },
    {
     "name": "stdout",
     "output_type": "stream",
     "text": [
      "48 students pre-enrolled in ENTOM-3030\n",
      "1 data point is nan during processing\n",
      "Sanity check passed\n",
      "5 students dropped\n"
     ]
    },
    {
     "name": "stderr",
     "output_type": "stream",
     "text": [
      "\r",
      "  9%|███████▎                                                                         | 43/478 [00:24<03:58,  1.82it/s]"
     ]
    },
    {
     "name": "stdout",
     "output_type": "stream",
     "text": [
      "158 students pre-enrolled in NCC-5560\n",
      "4 data point is nan during processing\n",
      "Sanity check passed\n",
      "14 students dropped\n"
     ]
    },
    {
     "name": "stderr",
     "output_type": "stream",
     "text": [
      "\r",
      "  9%|███████▍                                                                         | 44/478 [00:24<03:51,  1.88it/s]"
     ]
    },
    {
     "name": "stdout",
     "output_type": "stream",
     "text": [
      "111 students pre-enrolled in HADM-6200\n",
      "1 data point is nan during processing\n",
      "Sanity check passed\n",
      "12 students dropped\n"
     ]
    },
    {
     "name": "stderr",
     "output_type": "stream",
     "text": [
      "\r",
      "  9%|███████▋                                                                         | 45/478 [00:25<03:54,  1.85it/s]"
     ]
    },
    {
     "name": "stdout",
     "output_type": "stream",
     "text": [
      "19 students pre-enrolled in HADM-5760\n",
      "2 data point is nan during processing\n",
      "Sanity check passed\n",
      "1 students dropped\n"
     ]
    },
    {
     "name": "stderr",
     "output_type": "stream",
     "text": [
      "\r",
      " 10%|███████▊                                                                         | 46/478 [00:25<03:56,  1.82it/s]"
     ]
    },
    {
     "name": "stdout",
     "output_type": "stream",
     "text": [
      "20 students pre-enrolled in BME-5320\n",
      "0 data point is nan during processing\n",
      "Sanity check passed\n",
      "1 students dropped\n"
     ]
    },
    {
     "name": "stderr",
     "output_type": "stream",
     "text": [
      "\r",
      " 10%|███████▉                                                                         | 47/478 [00:26<03:50,  1.87it/s]"
     ]
    },
    {
     "name": "stdout",
     "output_type": "stream",
     "text": [
      "101 students pre-enrolled in PAM-2208\n",
      "2 data point is nan during processing\n",
      "Sanity check passed\n",
      "18 students dropped\n"
     ]
    },
    {
     "name": "stderr",
     "output_type": "stream",
     "text": [
      "\r",
      " 10%|████████▏                                                                        | 48/478 [00:26<03:54,  1.83it/s]"
     ]
    },
    {
     "name": "stdout",
     "output_type": "stream",
     "text": [
      "93 students pre-enrolled in CHEME-3230\n",
      "0 data point is nan during processing\n",
      "Sanity check passed\n",
      "0 students dropped\n"
     ]
    },
    {
     "name": "stderr",
     "output_type": "stream",
     "text": [
      "\r",
      " 10%|████████▎                                                                        | 49/478 [00:27<03:47,  1.89it/s]"
     ]
    },
    {
     "name": "stdout",
     "output_type": "stream",
     "text": [
      "14 students pre-enrolled in COML-2000\n",
      "0 data point is nan during processing\n",
      "Sanity check passed\n",
      "6 students dropped\n"
     ]
    },
    {
     "name": "stderr",
     "output_type": "stream",
     "text": [
      "\r",
      " 10%|████████▍                                                                        | 50/478 [00:28<03:51,  1.85it/s]"
     ]
    },
    {
     "name": "stdout",
     "output_type": "stream",
     "text": [
      "48 students pre-enrolled in HADM-2740\n",
      "1 data point is nan during processing\n",
      "Sanity check passed\n",
      "14 students dropped\n"
     ]
    },
    {
     "name": "stderr",
     "output_type": "stream",
     "text": [
      "\r",
      " 11%|████████▋                                                                        | 51/478 [00:28<03:44,  1.91it/s]"
     ]
    },
    {
     "name": "stdout",
     "output_type": "stream",
     "text": [
      "24 students pre-enrolled in MAE-4610\n",
      "1 data point is nan during processing\n",
      "Sanity check passed\n",
      "3 students dropped\n"
     ]
    },
    {
     "name": "stderr",
     "output_type": "stream",
     "text": [
      "\r",
      " 11%|████████▊                                                                        | 52/478 [00:29<03:47,  1.88it/s]"
     ]
    },
    {
     "name": "stdout",
     "output_type": "stream",
     "text": [
      "13 students pre-enrolled in BME-3410\n",
      "0 data point is nan during processing\n",
      "Sanity check passed\n",
      "2 students dropped\n"
     ]
    },
    {
     "name": "stderr",
     "output_type": "stream",
     "text": [
      "\r",
      " 11%|████████▉                                                                        | 53/478 [00:29<03:50,  1.84it/s]"
     ]
    },
    {
     "name": "stdout",
     "output_type": "stream",
     "text": [
      "60 students pre-enrolled in INFO-6220\n",
      "4 data point is nan during processing\n",
      "Sanity check passed\n",
      "2 students dropped\n"
     ]
    },
    {
     "name": "stderr",
     "output_type": "stream",
     "text": [
      "\r",
      " 11%|█████████▏                                                                       | 54/478 [00:30<03:47,  1.87it/s]"
     ]
    },
    {
     "name": "stdout",
     "output_type": "stream",
     "text": [
      "49 students pre-enrolled in AEP-3630\n",
      "0 data point is nan during processing\n",
      "Sanity check passed\n",
      "5 students dropped\n"
     ]
    },
    {
     "name": "stderr",
     "output_type": "stream",
     "text": [
      "\r",
      " 12%|█████████▎                                                                       | 55/478 [00:30<03:54,  1.81it/s]"
     ]
    },
    {
     "name": "stdout",
     "output_type": "stream",
     "text": [
      "296 students pre-enrolled in HADM-1210\n",
      "2 data point is nan during processing\n",
      "Sanity check passed\n",
      "2 students dropped\n"
     ]
    },
    {
     "name": "stderr",
     "output_type": "stream",
     "text": [
      "\r",
      " 12%|█████████▍                                                                       | 56/478 [00:31<03:55,  1.79it/s]"
     ]
    },
    {
     "name": "stdout",
     "output_type": "stream",
     "text": [
      "94 students pre-enrolled in GERST-1220\n",
      "2 data point is nan during processing\n",
      "Sanity check passed\n",
      "6 students dropped\n"
     ]
    },
    {
     "name": "stderr",
     "output_type": "stream",
     "text": [
      "\r",
      " 12%|█████████▋                                                                       | 57/478 [00:31<03:46,  1.86it/s]"
     ]
    },
    {
     "name": "stdout",
     "output_type": "stream",
     "text": [
      "60 students pre-enrolled in SPAN-2000\n",
      "1 data point is nan during processing\n",
      "Sanity check passed\n",
      "5 students dropped\n"
     ]
    },
    {
     "name": "stderr",
     "output_type": "stream",
     "text": [
      "\r",
      " 12%|█████████▊                                                                       | 58/478 [00:32<03:49,  1.83it/s]"
     ]
    },
    {
     "name": "stdout",
     "output_type": "stream",
     "text": [
      "13 students pre-enrolled in PLSCI-4825\n",
      "0 data point is nan during processing\n",
      "Sanity check passed\n",
      "1 students dropped\n"
     ]
    },
    {
     "name": "stderr",
     "output_type": "stream",
     "text": [
      "\r",
      " 12%|█████████▉                                                                       | 59/478 [00:32<03:49,  1.83it/s]"
     ]
    },
    {
     "name": "stdout",
     "output_type": "stream",
     "text": [
      "1203 students pre-enrolled in MATH-1110\n",
      "4 data point is nan during processing\n",
      "Sanity check passed\n",
      "110 students dropped\n"
     ]
    },
    {
     "name": "stderr",
     "output_type": "stream",
     "text": [
      "\r",
      " 13%|██████████▏                                                                      | 60/478 [00:33<03:51,  1.80it/s]"
     ]
    },
    {
     "name": "stdout",
     "output_type": "stream",
     "text": [
      "87 students pre-enrolled in CHEM-3590\n",
      "0 data point is nan during processing\n",
      "Sanity check passed\n",
      "3 students dropped\n"
     ]
    },
    {
     "name": "stderr",
     "output_type": "stream",
     "text": [
      "\r",
      " 13%|██████████▎                                                                      | 61/478 [00:34<03:54,  1.78it/s]"
     ]
    },
    {
     "name": "stdout",
     "output_type": "stream",
     "text": [
      "37 students pre-enrolled in HIST-2689\n",
      "3 data point is nan during processing\n",
      "Sanity check passed\n",
      "7 students dropped\n"
     ]
    },
    {
     "name": "stderr",
     "output_type": "stream",
     "text": [
      "\r",
      " 13%|██████████▌                                                                      | 62/478 [00:34<03:45,  1.84it/s]"
     ]
    },
    {
     "name": "stdout",
     "output_type": "stream",
     "text": [
      "187 students pre-enrolled in AMST-1540\n",
      "4 data point is nan during processing\n",
      "Sanity check passed\n",
      "49 students dropped\n"
     ]
    },
    {
     "name": "stderr",
     "output_type": "stream",
     "text": [
      "\r",
      " 13%|██████████▋                                                                      | 63/478 [00:35<03:48,  1.82it/s]"
     ]
    },
    {
     "name": "stdout",
     "output_type": "stream",
     "text": [
      "57 students pre-enrolled in ENGRD-2250\n",
      "0 data point is nan during processing\n",
      "Sanity check passed\n",
      "2 students dropped\n"
     ]
    },
    {
     "name": "stderr",
     "output_type": "stream",
     "text": [
      "\r",
      " 13%|██████████▊                                                                      | 64/478 [00:35<03:40,  1.88it/s]"
     ]
    },
    {
     "name": "stdout",
     "output_type": "stream",
     "text": [
      "42 students pre-enrolled in BME-3210\n",
      "0 data point is nan during processing\n",
      "Sanity check passed\n",
      "2 students dropped\n"
     ]
    },
    {
     "name": "stderr",
     "output_type": "stream",
     "text": [
      "\r",
      " 14%|███████████                                                                      | 65/478 [00:36<03:44,  1.84it/s]"
     ]
    },
    {
     "name": "stdout",
     "output_type": "stream",
     "text": [
      "102 students pre-enrolled in GERST-1210\n",
      "0 data point is nan during processing\n",
      "Sanity check passed\n",
      "12 students dropped\n"
     ]
    },
    {
     "name": "stderr",
     "output_type": "stream",
     "text": [
      "\r",
      " 14%|███████████▏                                                                     | 66/478 [00:36<03:37,  1.89it/s]"
     ]
    },
    {
     "name": "stdout",
     "output_type": "stream",
     "text": [
      "108 students pre-enrolled in ILRLR-5010\n",
      "2 data point is nan during processing\n",
      "Sanity check passed\n",
      "1 students dropped\n"
     ]
    },
    {
     "name": "stderr",
     "output_type": "stream",
     "text": [
      "\r",
      " 14%|███████████▎                                                                     | 67/478 [00:37<03:41,  1.85it/s]"
     ]
    },
    {
     "name": "stdout",
     "output_type": "stream",
     "text": [
      "235 students pre-enrolled in ECE-3100\n",
      "0 data point is nan during processing\n",
      "Sanity check passed\n",
      "10 students dropped\n"
     ]
    },
    {
     "name": "stderr",
     "output_type": "stream",
     "text": [
      "\r",
      " 14%|███████████▌                                                                     | 68/478 [00:37<03:46,  1.81it/s]"
     ]
    },
    {
     "name": "stdout",
     "output_type": "stream",
     "text": [
      "94 students pre-enrolled in MAE-4510\n",
      "0 data point is nan during processing\n",
      "Sanity check passed\n",
      "12 students dropped\n"
     ]
    },
    {
     "name": "stderr",
     "output_type": "stream",
     "text": [
      "\r",
      " 14%|███████████▋                                                                     | 69/478 [00:38<03:39,  1.87it/s]"
     ]
    },
    {
     "name": "stdout",
     "output_type": "stream",
     "text": [
      "71 students pre-enrolled in BEE-5330\n",
      "1 data point is nan during processing\n",
      "Sanity check passed\n",
      "8 students dropped\n"
     ]
    },
    {
     "name": "stderr",
     "output_type": "stream",
     "text": [
      "\r",
      " 15%|███████████▊                                                                     | 70/478 [00:38<03:45,  1.81it/s]"
     ]
    },
    {
     "name": "stdout",
     "output_type": "stream",
     "text": [
      "19 students pre-enrolled in ANSC-4280\n",
      "1 data point is nan during processing\n",
      "Sanity check passed\n",
      "2 students dropped\n"
     ]
    },
    {
     "name": "stderr",
     "output_type": "stream",
     "text": [
      "\r",
      " 15%|████████████                                                                     | 71/478 [00:39<03:48,  1.78it/s]"
     ]
    },
    {
     "name": "stdout",
     "output_type": "stream",
     "text": [
      "37 students pre-enrolled in ARCH-5612\n",
      "0 data point is nan during processing\n",
      "Sanity check passed\n",
      "0 students dropped\n"
     ]
    },
    {
     "name": "stderr",
     "output_type": "stream",
     "text": [
      "\r",
      " 15%|████████████▏                                                                    | 72/478 [00:39<03:40,  1.84it/s]"
     ]
    },
    {
     "name": "stdout",
     "output_type": "stream",
     "text": [
      "81 students pre-enrolled in HADM-1740\n",
      "0 data point is nan during processing\n",
      "Sanity check passed\n",
      "0 students dropped\n"
     ]
    },
    {
     "name": "stderr",
     "output_type": "stream",
     "text": [
      "\r",
      " 15%|████████████▎                                                                    | 73/478 [00:40<03:43,  1.81it/s]"
     ]
    },
    {
     "name": "stdout",
     "output_type": "stream",
     "text": [
      "90 students pre-enrolled in CHEM-4100\n",
      "1 data point is nan during processing\n",
      "Sanity check passed\n",
      "6 students dropped\n"
     ]
    },
    {
     "name": "stderr",
     "output_type": "stream",
     "text": [
      "\r",
      " 15%|████████████▌                                                                    | 74/478 [00:41<03:36,  1.87it/s]"
     ]
    },
    {
     "name": "stdout",
     "output_type": "stream",
     "text": [
      "75 students pre-enrolled in COGST-1105\n",
      "1 data point is nan during processing\n",
      "Sanity check passed\n",
      "18 students dropped\n"
     ]
    },
    {
     "name": "stderr",
     "output_type": "stream",
     "text": [
      "\r",
      " 16%|████████████▋                                                                    | 75/478 [00:41<03:39,  1.84it/s]"
     ]
    },
    {
     "name": "stdout",
     "output_type": "stream",
     "text": [
      "132 students pre-enrolled in FSAD-1350\n",
      "4 data point is nan during processing\n",
      "Sanity check passed\n",
      "15 students dropped\n"
     ]
    },
    {
     "name": "stderr",
     "output_type": "stream",
     "text": [
      "\r",
      " 16%|████████████▉                                                                    | 76/478 [00:42<03:38,  1.84it/s]"
     ]
    },
    {
     "name": "stdout",
     "output_type": "stream",
     "text": [
      "602 students pre-enrolled in STSCI-2150\n",
      "3 data point is nan during processing\n",
      "Sanity check passed\n",
      "30 students dropped\n"
     ]
    },
    {
     "name": "stderr",
     "output_type": "stream",
     "text": [
      "\r",
      " 16%|█████████████                                                                    | 77/478 [00:42<03:41,  1.81it/s]"
     ]
    },
    {
     "name": "stdout",
     "output_type": "stream",
     "text": [
      "191 students pre-enrolled in PAM-2000\n",
      "1 data point is nan during processing\n",
      "Sanity check passed\n",
      "14 students dropped\n"
     ]
    },
    {
     "name": "stderr",
     "output_type": "stream",
     "text": [
      "\r",
      " 16%|█████████████▏                                                                   | 78/478 [00:43<03:42,  1.79it/s]"
     ]
    },
    {
     "name": "stdout",
     "output_type": "stream",
     "text": [
      "61 students pre-enrolled in CS-5820\n",
      "2 data point is nan during processing\n",
      "Sanity check passed\n",
      "11 students dropped\n"
     ]
    },
    {
     "name": "stderr",
     "output_type": "stream",
     "text": [
      "\r",
      " 17%|█████████████▍                                                                   | 79/478 [00:43<03:34,  1.86it/s]"
     ]
    },
    {
     "name": "stdout",
     "output_type": "stream",
     "text": [
      "14 students pre-enrolled in STSCI-2110\n",
      "0 data point is nan during processing\n",
      "Sanity check passed\n",
      "2 students dropped\n"
     ]
    },
    {
     "name": "stderr",
     "output_type": "stream",
     "text": [
      "\r",
      " 17%|█████████████▌                                                                   | 80/478 [00:44<03:40,  1.80it/s]"
     ]
    },
    {
     "name": "stdout",
     "output_type": "stream",
     "text": [
      "697 students pre-enrolled in PHYS-2208\n",
      "3 data point is nan during processing\n",
      "Sanity check passed\n",
      "30 students dropped\n"
     ]
    },
    {
     "name": "stderr",
     "output_type": "stream",
     "text": [
      "\r",
      " 17%|█████████████▋                                                                   | 81/478 [00:44<03:43,  1.77it/s]"
     ]
    },
    {
     "name": "stdout",
     "output_type": "stream",
     "text": [
      "3 students pre-enrolled in INDO-1122\n",
      "0 data point is nan during processing\n",
      "Sanity check passed\n",
      "0 students dropped\n"
     ]
    },
    {
     "name": "stderr",
     "output_type": "stream",
     "text": [
      "\r",
      " 17%|█████████████▉                                                                   | 82/478 [00:45<03:35,  1.83it/s]"
     ]
    },
    {
     "name": "stdout",
     "output_type": "stream",
     "text": [
      "410 students pre-enrolled in EAS-1700\n",
      "1 data point is nan during processing\n",
      "Sanity check passed\n",
      "31 students dropped\n"
     ]
    },
    {
     "name": "stderr",
     "output_type": "stream",
     "text": [
      "\r",
      " 17%|██████████████                                                                   | 83/478 [00:46<03:39,  1.80it/s]"
     ]
    },
    {
     "name": "stdout",
     "output_type": "stream",
     "text": [
      "178 students pre-enrolled in MATH-2220\n",
      "0 data point is nan during processing\n",
      "Sanity check passed\n",
      "24 students dropped\n"
     ]
    },
    {
     "name": "stderr",
     "output_type": "stream",
     "text": [
      "\r",
      " 18%|██████████████▏                                                                  | 84/478 [00:46<03:31,  1.86it/s]"
     ]
    },
    {
     "name": "stdout",
     "output_type": "stream",
     "text": [
      "112 students pre-enrolled in CS-5700\n",
      "8 data point is nan during processing\n",
      "Sanity check passed\n",
      "28 students dropped\n"
     ]
    },
    {
     "name": "stderr",
     "output_type": "stream",
     "text": [
      "\r",
      " 18%|██████████████▍                                                                  | 85/478 [00:47<03:44,  1.75it/s]"
     ]
    },
    {
     "name": "stdout",
     "output_type": "stream",
     "text": [
      "17 students pre-enrolled in CEE-5052\n",
      "1 data point is nan during processing\n",
      "Sanity check passed\n",
      "0 students dropped\n"
     ]
    },
    {
     "name": "stderr",
     "output_type": "stream",
     "text": [
      "\r",
      " 18%|██████████████▌                                                                  | 86/478 [00:47<03:43,  1.76it/s]"
     ]
    },
    {
     "name": "stdout",
     "output_type": "stream",
     "text": [
      "28 students pre-enrolled in COGST-2310\n",
      "1 data point is nan during processing\n",
      "Sanity check passed\n",
      "3 students dropped\n"
     ]
    },
    {
     "name": "stderr",
     "output_type": "stream",
     "text": [
      "\r",
      " 18%|██████████████▋                                                                  | 87/478 [00:48<03:44,  1.74it/s]"
     ]
    },
    {
     "name": "stdout",
     "output_type": "stream",
     "text": [
      "63 students pre-enrolled in AMST-4051\n",
      "2 data point is nan during processing\n",
      "Sanity check passed\n",
      "11 students dropped\n"
     ]
    },
    {
     "name": "stderr",
     "output_type": "stream",
     "text": [
      "\r",
      " 18%|██████████████▉                                                                  | 88/478 [00:48<03:43,  1.75it/s]"
     ]
    },
    {
     "name": "stdout",
     "output_type": "stream",
     "text": [
      "40 students pre-enrolled in SPAN-2205\n",
      "1 data point is nan during processing\n",
      "Sanity check passed\n",
      "1 students dropped\n"
     ]
    },
    {
     "name": "stderr",
     "output_type": "stream",
     "text": [
      "\r",
      " 19%|███████████████                                                                  | 89/478 [00:49<03:33,  1.82it/s]"
     ]
    },
    {
     "name": "stdout",
     "output_type": "stream",
     "text": [
      "12 students pre-enrolled in COML-6159\n",
      "5 data point is nan during processing\n",
      "Sanity check passed\n",
      "1 students dropped\n"
     ]
    },
    {
     "name": "stderr",
     "output_type": "stream",
     "text": [
      "\r",
      " 19%|███████████████▎                                                                 | 90/478 [00:49<03:36,  1.79it/s]"
     ]
    },
    {
     "name": "stdout",
     "output_type": "stream",
     "text": [
      "256 students pre-enrolled in PSYCH-2090\n",
      "2 data point is nan during processing\n",
      "Sanity check passed\n",
      "39 students dropped\n"
     ]
    },
    {
     "name": "stderr",
     "output_type": "stream",
     "text": [
      "\r",
      " 19%|███████████████▍                                                                 | 91/478 [00:50<03:38,  1.77it/s]"
     ]
    },
    {
     "name": "stdout",
     "output_type": "stream",
     "text": [
      "388 students pre-enrolled in ECON-3030\n",
      "4 data point is nan during processing\n",
      "Sanity check passed\n",
      "32 students dropped\n"
     ]
    },
    {
     "name": "stderr",
     "output_type": "stream",
     "text": [
      "\r",
      " 19%|███████████████▌                                                                 | 92/478 [00:51<03:31,  1.82it/s]"
     ]
    },
    {
     "name": "stdout",
     "output_type": "stream",
     "text": [
      "52 students pre-enrolled in BIOMG-6360\n",
      "3 data point is nan during processing\n",
      "Sanity check passed\n",
      "5 students dropped\n"
     ]
    },
    {
     "name": "stderr",
     "output_type": "stream",
     "text": [
      "\r",
      " 19%|███████████████▊                                                                 | 93/478 [00:51<03:34,  1.79it/s]"
     ]
    },
    {
     "name": "stdout",
     "output_type": "stream",
     "text": [
      "27 students pre-enrolled in COML-3021\n",
      "1 data point is nan during processing\n",
      "Sanity check passed\n",
      "3 students dropped\n"
     ]
    },
    {
     "name": "stderr",
     "output_type": "stream",
     "text": [
      "\r",
      " 20%|███████████████▉                                                                 | 94/478 [00:52<03:26,  1.86it/s]"
     ]
    },
    {
     "name": "stdout",
     "output_type": "stream",
     "text": [
      "85 students pre-enrolled in PLSCI-1420\n",
      "0 data point is nan during processing\n",
      "Sanity check passed\n",
      "6 students dropped\n"
     ]
    },
    {
     "name": "stderr",
     "output_type": "stream",
     "text": [
      "\r",
      " 20%|████████████████                                                                 | 95/478 [00:52<03:30,  1.82it/s]"
     ]
    },
    {
     "name": "stdout",
     "output_type": "stream",
     "text": [
      "83 students pre-enrolled in CEE-3510\n",
      "0 data point is nan during processing\n",
      "Sanity check passed\n",
      "2 students dropped\n"
     ]
    },
    {
     "name": "stderr",
     "output_type": "stream",
     "text": [
      "\r",
      " 20%|████████████████▎                                                                | 96/478 [00:53<03:33,  1.79it/s]"
     ]
    },
    {
     "name": "stdout",
     "output_type": "stream",
     "text": [
      "25 students pre-enrolled in LING-1170\n",
      "1 data point is nan during processing\n",
      "Sanity check passed\n",
      "7 students dropped\n"
     ]
    },
    {
     "name": "stderr",
     "output_type": "stream",
     "text": [
      "\r",
      " 20%|████████████████▍                                                                | 97/478 [00:53<03:25,  1.86it/s]"
     ]
    },
    {
     "name": "stdout",
     "output_type": "stream",
     "text": [
      "22 students pre-enrolled in STSCI-5150\n",
      "3 data point is nan during processing\n",
      "Sanity check passed\n",
      "10 students dropped\n"
     ]
    },
    {
     "name": "stderr",
     "output_type": "stream",
     "text": [
      "\r",
      " 21%|████████████████▌                                                                | 98/478 [00:54<03:29,  1.81it/s]"
     ]
    },
    {
     "name": "stdout",
     "output_type": "stream",
     "text": [
      "20 students pre-enrolled in COGST-3420\n",
      "2 data point is nan during processing\n",
      "Sanity check passed\n",
      "1 students dropped\n"
     ]
    },
    {
     "name": "stderr",
     "output_type": "stream",
     "text": [
      "\r",
      " 21%|████████████████▊                                                                | 99/478 [00:54<03:25,  1.84it/s]"
     ]
    },
    {
     "name": "stdout",
     "output_type": "stream",
     "text": [
      "529 students pre-enrolled in HADM-2230\n",
      "2 data point is nan during processing\n",
      "Sanity check passed\n",
      "57 students dropped\n"
     ]
    },
    {
     "name": "stderr",
     "output_type": "stream",
     "text": [
      "\r",
      " 21%|████████████████▋                                                               | 100/478 [00:55<03:27,  1.82it/s]"
     ]
    },
    {
     "name": "stdout",
     "output_type": "stream",
     "text": [
      "13 students pre-enrolled in FDSC-4220\n",
      "0 data point is nan during processing\n",
      "Sanity check passed\n",
      "1 students dropped\n"
     ]
    },
    {
     "name": "stderr",
     "output_type": "stream",
     "text": [
      "\r",
      " 21%|████████████████▉                                                               | 101/478 [00:56<03:30,  1.79it/s]"
     ]
    },
    {
     "name": "stdout",
     "output_type": "stream",
     "text": [
      "302 students pre-enrolled in LING-1101\n",
      "3 data point is nan during processing\n",
      "Sanity check passed\n",
      "45 students dropped\n"
     ]
    },
    {
     "name": "stderr",
     "output_type": "stream",
     "text": [
      "\r",
      " 21%|█████████████████                                                               | 102/478 [00:56<03:22,  1.86it/s]"
     ]
    },
    {
     "name": "stdout",
     "output_type": "stream",
     "text": [
      "18 students pre-enrolled in TAG-1122\n",
      "0 data point is nan during processing\n",
      "Sanity check passed\n",
      "0 students dropped\n"
     ]
    },
    {
     "name": "stderr",
     "output_type": "stream",
     "text": [
      "\r",
      " 22%|█████████████████▏                                                              | 103/478 [00:57<03:26,  1.81it/s]"
     ]
    },
    {
     "name": "stdout",
     "output_type": "stream",
     "text": [
      "62 students pre-enrolled in BIOMI-2600\n",
      "0 data point is nan during processing\n",
      "Sanity check passed\n",
      "12 students dropped\n"
     ]
    },
    {
     "name": "stderr",
     "output_type": "stream",
     "text": [
      "\r",
      " 22%|█████████████████▍                                                              | 104/478 [00:57<03:19,  1.88it/s]"
     ]
    },
    {
     "name": "stdout",
     "output_type": "stream",
     "text": [
      "27 students pre-enrolled in AEM-6300\n",
      "2 data point is nan during processing\n",
      "Sanity check passed\n",
      "4 students dropped\n"
     ]
    },
    {
     "name": "stderr",
     "output_type": "stream",
     "text": [
      "\r",
      " 22%|█████████████████▌                                                              | 105/478 [00:58<03:22,  1.84it/s]"
     ]
    },
    {
     "name": "stdout",
     "output_type": "stream",
     "text": [
      "82 students pre-enrolled in ECON-2300\n",
      "2 data point is nan during processing\n",
      "Sanity check passed\n",
      "15 students dropped\n"
     ]
    },
    {
     "name": "stderr",
     "output_type": "stream",
     "text": [
      "\r",
      " 22%|█████████████████▋                                                              | 106/478 [00:58<03:25,  1.81it/s]"
     ]
    },
    {
     "name": "stdout",
     "output_type": "stream",
     "text": [
      "111 students pre-enrolled in ORIE-4600\n",
      "2 data point is nan during processing\n",
      "Sanity check passed\n",
      "16 students dropped\n"
     ]
    },
    {
     "name": "stderr",
     "output_type": "stream",
     "text": [
      "\r",
      " 22%|█████████████████▉                                                              | 107/478 [00:59<03:18,  1.87it/s]"
     ]
    },
    {
     "name": "stdout",
     "output_type": "stream",
     "text": [
      "11 students pre-enrolled in CRP-4590\n",
      "2 data point is nan during processing\n",
      "Sanity check passed\n",
      "4 students dropped\n"
     ]
    },
    {
     "name": "stderr",
     "output_type": "stream",
     "text": [
      "\r",
      " 23%|██████████████████                                                              | 108/478 [00:59<03:22,  1.83it/s]"
     ]
    },
    {
     "name": "stdout",
     "output_type": "stream",
     "text": [
      "91 students pre-enrolled in BIOMG-4320\n",
      "3 data point is nan during processing\n",
      "Sanity check passed\n",
      "6 students dropped\n"
     ]
    },
    {
     "name": "stderr",
     "output_type": "stream",
     "text": [
      "\r",
      " 23%|██████████████████▏                                                             | 109/478 [01:00<03:15,  1.89it/s]"
     ]
    },
    {
     "name": "stdout",
     "output_type": "stream",
     "text": [
      "19 students pre-enrolled in STSCI-5640\n",
      "0 data point is nan during processing\n",
      "Sanity check passed\n",
      "4 students dropped\n"
     ]
    },
    {
     "name": "stderr",
     "output_type": "stream",
     "text": [
      "\r",
      " 23%|██████████████████▍                                                             | 110/478 [01:00<03:19,  1.84it/s]"
     ]
    },
    {
     "name": "stdout",
     "output_type": "stream",
     "text": [
      "63 students pre-enrolled in MATH-2130\n",
      "0 data point is nan during processing\n",
      "Sanity check passed\n",
      "12 students dropped\n"
     ]
    },
    {
     "name": "stderr",
     "output_type": "stream",
     "text": [
      "\r",
      " 23%|██████████████████▌                                                             | 111/478 [01:01<03:14,  1.89it/s]"
     ]
    },
    {
     "name": "stdout",
     "output_type": "stream",
     "text": [
      "135 students pre-enrolled in ASL-1101\n",
      "0 data point is nan during processing\n",
      "Sanity check passed\n",
      "7 students dropped\n"
     ]
    },
    {
     "name": "stderr",
     "output_type": "stream",
     "text": [
      "\r",
      " 23%|██████████████████▋                                                             | 112/478 [01:01<03:18,  1.84it/s]"
     ]
    },
    {
     "name": "stdout",
     "output_type": "stream",
     "text": [
      "22 students pre-enrolled in PHYS-3360\n",
      "0 data point is nan during processing\n",
      "Sanity check passed\n",
      "3 students dropped\n"
     ]
    },
    {
     "name": "stderr",
     "output_type": "stream",
     "text": [
      "\r",
      " 24%|██████████████████▉                                                             | 113/478 [01:02<03:20,  1.82it/s]"
     ]
    },
    {
     "name": "stdout",
     "output_type": "stream",
     "text": [
      "12 students pre-enrolled in PSYCH-6140\n",
      "2 data point is nan during processing\n",
      "Sanity check passed\n",
      "2 students dropped\n"
     ]
    },
    {
     "name": "stderr",
     "output_type": "stream",
     "text": [
      "\r",
      " 24%|███████████████████                                                             | 114/478 [01:03<03:13,  1.88it/s]"
     ]
    },
    {
     "name": "stdout",
     "output_type": "stream",
     "text": [
      "10 students pre-enrolled in ILRST-5110\n",
      "3 data point is nan during processing\n",
      "Sanity check passed\n",
      "1 students dropped\n"
     ]
    },
    {
     "name": "stderr",
     "output_type": "stream",
     "text": [
      "\r",
      " 24%|███████████████████▏                                                            | 115/478 [01:03<03:17,  1.84it/s]"
     ]
    },
    {
     "name": "stdout",
     "output_type": "stream",
     "text": [
      "262 students pre-enrolled in MAE-3240\n",
      "0 data point is nan during processing\n",
      "Sanity check passed\n",
      "3 students dropped\n"
     ]
    },
    {
     "name": "stderr",
     "output_type": "stream",
     "text": [
      "\r",
      " 24%|███████████████████▍                                                            | 116/478 [01:04<03:20,  1.80it/s]"
     ]
    },
    {
     "name": "stdout",
     "output_type": "stream",
     "text": [
      "255 students pre-enrolled in MAE-3260\n",
      "0 data point is nan during processing\n",
      "Sanity check passed\n",
      "1 students dropped\n"
     ]
    },
    {
     "name": "stderr",
     "output_type": "stream",
     "text": [
      "\r",
      " 24%|███████████████████▌                                                            | 117/478 [01:04<03:14,  1.86it/s]"
     ]
    },
    {
     "name": "stdout",
     "output_type": "stream",
     "text": [
      "16 students pre-enrolled in ECE-1210\n",
      "0 data point is nan during processing\n",
      "Sanity check passed\n",
      "1 students dropped\n"
     ]
    },
    {
     "name": "stderr",
     "output_type": "stream",
     "text": [
      "\r",
      " 25%|███████████████████▋                                                            | 118/478 [01:05<03:16,  1.83it/s]"
     ]
    },
    {
     "name": "stdout",
     "output_type": "stream",
     "text": [
      "18 students pre-enrolled in BIOMS-4140\n",
      "1 data point is nan during processing\n",
      "Sanity check passed\n",
      "2 students dropped\n"
     ]
    },
    {
     "name": "stderr",
     "output_type": "stream",
     "text": [
      "\r",
      " 25%|███████████████████▉                                                            | 119/478 [01:05<03:11,  1.87it/s]"
     ]
    },
    {
     "name": "stdout",
     "output_type": "stream",
     "text": [
      "322 students pre-enrolled in ENGRI-1210\n",
      "2 data point is nan during processing\n",
      "Sanity check passed\n",
      "21 students dropped\n"
     ]
    },
    {
     "name": "stderr",
     "output_type": "stream",
     "text": [
      "\r",
      " 25%|████████████████████                                                            | 120/478 [01:06<03:14,  1.84it/s]"
     ]
    },
    {
     "name": "stdout",
     "output_type": "stream",
     "text": [
      "16 students pre-enrolled in AEP-4840\n",
      "0 data point is nan during processing\n",
      "Sanity check passed\n",
      "0 students dropped\n"
     ]
    },
    {
     "name": "stderr",
     "output_type": "stream",
     "text": [
      "\r",
      " 25%|████████████████████▎                                                           | 121/478 [01:06<03:18,  1.80it/s]"
     ]
    },
    {
     "name": "stdout",
     "output_type": "stream",
     "text": [
      "12 students pre-enrolled in SPAN-2200\n",
      "0 data point is nan during processing\n",
      "Sanity check passed\n",
      "5 students dropped\n"
     ]
    },
    {
     "name": "stderr",
     "output_type": "stream",
     "text": [
      "\r",
      " 26%|████████████████████▍                                                           | 122/478 [01:07<03:11,  1.86it/s]"
     ]
    },
    {
     "name": "stdout",
     "output_type": "stream",
     "text": [
      "15 students pre-enrolled in ASL-2202\n",
      "0 data point is nan during processing\n",
      "Sanity check passed\n",
      "2 students dropped\n"
     ]
    },
    {
     "name": "stderr",
     "output_type": "stream",
     "text": [
      "\r",
      " 26%|████████████████████▌                                                           | 123/478 [01:07<03:14,  1.83it/s]"
     ]
    },
    {
     "name": "stdout",
     "output_type": "stream",
     "text": [
      "24 students pre-enrolled in STSCI-1380\n",
      "0 data point is nan during processing\n",
      "Sanity check passed\n",
      "5 students dropped\n"
     ]
    },
    {
     "name": "stderr",
     "output_type": "stream",
     "text": [
      "\r",
      " 26%|████████████████████▊                                                           | 124/478 [01:08<03:09,  1.87it/s]"
     ]
    },
    {
     "name": "stdout",
     "output_type": "stream",
     "text": [
      "61 students pre-enrolled in HIST-1511\n",
      "4 data point is nan during processing\n",
      "Sanity check passed\n",
      "11 students dropped\n"
     ]
    },
    {
     "name": "stderr",
     "output_type": "stream",
     "text": [
      "\r",
      " 26%|████████████████████▉                                                           | 125/478 [01:09<03:12,  1.84it/s]"
     ]
    },
    {
     "name": "stdout",
     "output_type": "stream",
     "text": [
      "22 students pre-enrolled in NBA-6607\n",
      "3 data point is nan during processing\n",
      "Sanity check passed\n",
      "0 students dropped\n"
     ]
    },
    {
     "name": "stderr",
     "output_type": "stream",
     "text": [
      "\r",
      " 26%|█████████████████████                                                           | 126/478 [01:09<03:05,  1.89it/s]"
     ]
    },
    {
     "name": "stdout",
     "output_type": "stream",
     "text": [
      "14 students pre-enrolled in MATH-6730\n",
      "2 data point is nan during processing\n",
      "Sanity check passed\n",
      "1 students dropped\n"
     ]
    },
    {
     "name": "stderr",
     "output_type": "stream",
     "text": [
      "\r",
      " 27%|█████████████████████▎                                                          | 127/478 [01:10<03:08,  1.86it/s]"
     ]
    },
    {
     "name": "stdout",
     "output_type": "stream",
     "text": [
      "51 students pre-enrolled in EAS-3420\n",
      "0 data point is nan during processing\n",
      "Sanity check passed\n",
      "3 students dropped\n"
     ]
    },
    {
     "name": "stderr",
     "output_type": "stream",
     "text": [
      "\r",
      " 27%|█████████████████████▍                                                          | 128/478 [01:10<03:13,  1.81it/s]"
     ]
    },
    {
     "name": "stdout",
     "output_type": "stream",
     "text": [
      "390 students pre-enrolled in CS-4700\n",
      "5 data point is nan during processing\n",
      "Sanity check passed\n",
      "58 students dropped\n"
     ]
    },
    {
     "name": "stderr",
     "output_type": "stream",
     "text": [
      "\r",
      " 27%|█████████████████████▌                                                          | 129/478 [01:11<03:07,  1.86it/s]"
     ]
    },
    {
     "name": "stdout",
     "output_type": "stream",
     "text": [
      "71 students pre-enrolled in AMST-1500\n",
      "0 data point is nan during processing\n",
      "Sanity check passed\n",
      "16 students dropped\n"
     ]
    },
    {
     "name": "stderr",
     "output_type": "stream",
     "text": [
      "\r",
      " 27%|█████████████████████▊                                                          | 130/478 [01:11<03:17,  1.76it/s]"
     ]
    },
    {
     "name": "stdout",
     "output_type": "stream",
     "text": [
      "1889 students pre-enrolled in CS-1110\n",
      "15 data point is nan during processing\n",
      "Sanity check passed\n",
      "92 students dropped\n"
     ]
    },
    {
     "name": "stderr",
     "output_type": "stream",
     "text": [
      "\r",
      " 27%|█████████████████████▉                                                          | 131/478 [01:12<03:19,  1.74it/s]"
     ]
    },
    {
     "name": "stdout",
     "output_type": "stream",
     "text": [
      "97 students pre-enrolled in AEM-5225\n",
      "0 data point is nan during processing\n",
      "Sanity check passed\n",
      "1 students dropped\n"
     ]
    },
    {
     "name": "stderr",
     "output_type": "stream",
     "text": [
      "\r",
      " 28%|██████████████████████                                                          | 132/478 [01:12<03:20,  1.73it/s]"
     ]
    },
    {
     "name": "stdout",
     "output_type": "stream",
     "text": [
      "2042 students pre-enrolled in HADM-4300\n",
      "21 data point is nan during processing\n",
      "Sanity check passed\n",
      "119 students dropped\n"
     ]
    },
    {
     "name": "stderr",
     "output_type": "stream",
     "text": [
      "\r",
      " 28%|██████████████████████▎                                                         | 133/478 [01:13<03:20,  1.72it/s]"
     ]
    },
    {
     "name": "stdout",
     "output_type": "stream",
     "text": [
      "16 students pre-enrolled in FSAD-4360\n",
      "0 data point is nan during processing\n",
      "Sanity check passed\n",
      "1 students dropped\n"
     ]
    },
    {
     "name": "stderr",
     "output_type": "stream",
     "text": [
      "\r",
      " 28%|██████████████████████▍                                                         | 134/478 [01:14<03:11,  1.80it/s]"
     ]
    },
    {
     "name": "stdout",
     "output_type": "stream",
     "text": [
      "15 students pre-enrolled in CEE-6640\n",
      "1 data point is nan during processing\n",
      "Sanity check passed\n",
      "0 students dropped\n"
     ]
    },
    {
     "name": "stderr",
     "output_type": "stream",
     "text": [
      "\r",
      " 28%|██████████████████████▌                                                         | 135/478 [01:14<03:13,  1.77it/s]"
     ]
    },
    {
     "name": "stdout",
     "output_type": "stream",
     "text": [
      "57 students pre-enrolled in STSCI-4090\n",
      "2 data point is nan during processing\n",
      "Sanity check passed\n",
      "6 students dropped\n"
     ]
    },
    {
     "name": "stderr",
     "output_type": "stream",
     "text": [
      "\r",
      " 28%|██████████████████████▊                                                         | 136/478 [01:15<03:16,  1.74it/s]"
     ]
    },
    {
     "name": "stdout",
     "output_type": "stream",
     "text": [
      "192 students pre-enrolled in BTRY-3080\n",
      "2 data point is nan during processing\n",
      "Sanity check passed\n",
      "19 students dropped\n"
     ]
    },
    {
     "name": "stderr",
     "output_type": "stream",
     "text": [
      "\r",
      " 29%|██████████████████████▉                                                         | 137/478 [01:15<03:08,  1.81it/s]"
     ]
    },
    {
     "name": "stdout",
     "output_type": "stream",
     "text": [
      "76 students pre-enrolled in COMM-3150\n",
      "0 data point is nan during processing\n",
      "Sanity check passed\n",
      "11 students dropped\n"
     ]
    },
    {
     "name": "stderr",
     "output_type": "stream",
     "text": [
      "\r",
      " 29%|███████████████████████                                                         | 138/478 [01:16<03:10,  1.78it/s]"
     ]
    },
    {
     "name": "stdout",
     "output_type": "stream",
     "text": [
      "183 students pre-enrolled in HADM-4870\n",
      "0 data point is nan during processing\n",
      "Sanity check passed\n",
      "12 students dropped\n"
     ]
    },
    {
     "name": "stderr",
     "output_type": "stream",
     "text": [
      "\r",
      " 29%|███████████████████████▎                                                        | 139/478 [01:16<03:08,  1.80it/s]"
     ]
    },
    {
     "name": "stdout",
     "output_type": "stream",
     "text": [
      "770 students pre-enrolled in AEM-2210\n",
      "13 data point is nan during processing\n",
      "Sanity check passed\n",
      "65 students dropped\n"
     ]
    },
    {
     "name": "stderr",
     "output_type": "stream",
     "text": [
      "\r",
      " 29%|███████████████████████▍                                                        | 140/478 [01:17<03:11,  1.77it/s]"
     ]
    },
    {
     "name": "stdout",
     "output_type": "stream",
     "text": [
      "448 students pre-enrolled in STSCI-2100\n",
      "1 data point is nan during processing\n",
      "Sanity check passed\n",
      "37 students dropped\n"
     ]
    },
    {
     "name": "stderr",
     "output_type": "stream",
     "text": [
      "\r",
      " 29%|███████████████████████▌                                                        | 141/478 [01:17<03:05,  1.81it/s]"
     ]
    },
    {
     "name": "stdout",
     "output_type": "stream",
     "text": [
      "16 students pre-enrolled in HADM-6800\n",
      "1 data point is nan during processing\n",
      "Sanity check passed\n",
      "3 students dropped\n"
     ]
    },
    {
     "name": "stderr",
     "output_type": "stream",
     "text": [
      "\r",
      " 30%|███████████████████████▊                                                        | 142/478 [01:18<03:07,  1.79it/s]"
     ]
    },
    {
     "name": "stdout",
     "output_type": "stream",
     "text": [
      "15 students pre-enrolled in BIONB-4910\n",
      "0 data point is nan during processing\n",
      "Sanity check passed\n",
      "2 students dropped\n"
     ]
    },
    {
     "name": "stderr",
     "output_type": "stream",
     "text": [
      "\r",
      " 30%|███████████████████████▉                                                        | 143/478 [01:19<03:09,  1.77it/s]"
     ]
    },
    {
     "name": "stdout",
     "output_type": "stream",
     "text": [
      "12 students pre-enrolled in PLSCI-5825\n",
      "1 data point is nan during processing\n",
      "Sanity check passed\n",
      "1 students dropped\n"
     ]
    },
    {
     "name": "stderr",
     "output_type": "stream",
     "text": [
      "\r",
      " 30%|████████████████████████                                                        | 144/478 [01:19<03:04,  1.81it/s]"
     ]
    },
    {
     "name": "stdout",
     "output_type": "stream",
     "text": [
      "395 students pre-enrolled in HADM-2220\n",
      "0 data point is nan during processing\n",
      "Sanity check passed\n",
      "3 students dropped\n"
     ]
    },
    {
     "name": "stderr",
     "output_type": "stream",
     "text": [
      "\r",
      " 30%|████████████████████████▎                                                       | 145/478 [01:20<03:06,  1.79it/s]"
     ]
    },
    {
     "name": "stdout",
     "output_type": "stream",
     "text": [
      "29 students pre-enrolled in ECE-4320\n",
      "1 data point is nan during processing\n",
      "Sanity check passed\n",
      "4 students dropped\n"
     ]
    },
    {
     "name": "stderr",
     "output_type": "stream",
     "text": [
      "\r",
      " 31%|████████████████████████▍                                                       | 146/478 [01:20<03:00,  1.84it/s]"
     ]
    },
    {
     "name": "stdout",
     "output_type": "stream",
     "text": [
      "22 students pre-enrolled in MAE-4861\n",
      "0 data point is nan during processing\n",
      "Sanity check passed\n",
      "1 students dropped\n"
     ]
    },
    {
     "name": "stderr",
     "output_type": "stream",
     "text": [
      "\r",
      " 31%|████████████████████████▌                                                       | 147/478 [01:21<03:04,  1.80it/s]"
     ]
    },
    {
     "name": "stdout",
     "output_type": "stream",
     "text": [
      "22 students pre-enrolled in ORIE-5310\n",
      "0 data point is nan during processing\n",
      "Sanity check passed\n",
      "6 students dropped\n"
     ]
    },
    {
     "name": "stderr",
     "output_type": "stream",
     "text": [
      "\r",
      " 31%|████████████████████████▊                                                       | 148/478 [01:21<03:06,  1.77it/s]"
     ]
    },
    {
     "name": "stdout",
     "output_type": "stream",
     "text": [
      "41 students pre-enrolled in PLHRT-2150\n",
      "0 data point is nan during processing\n",
      "Sanity check passed\n",
      "9 students dropped\n"
     ]
    },
    {
     "name": "stderr",
     "output_type": "stream",
     "text": [
      "\r",
      " 31%|████████████████████████▉                                                       | 149/478 [01:22<02:59,  1.83it/s]"
     ]
    },
    {
     "name": "stdout",
     "output_type": "stream",
     "text": [
      "11 students pre-enrolled in MUSIC-2102\n",
      "0 data point is nan during processing\n",
      "Sanity check passed\n",
      "2 students dropped\n"
     ]
    },
    {
     "name": "stderr",
     "output_type": "stream",
     "text": [
      "\r",
      " 31%|█████████████████████████                                                       | 150/478 [01:22<03:02,  1.80it/s]"
     ]
    },
    {
     "name": "stdout",
     "output_type": "stream",
     "text": [
      "6 students pre-enrolled in CHEME-4020\n",
      "0 data point is nan during processing\n",
      "Sanity check passed\n",
      "3 students dropped\n"
     ]
    },
    {
     "name": "stderr",
     "output_type": "stream",
     "text": [
      "\r",
      " 32%|█████████████████████████▎                                                      | 151/478 [01:23<03:04,  1.77it/s]"
     ]
    },
    {
     "name": "stdout",
     "output_type": "stream",
     "text": [
      "15 students pre-enrolled in GERST-6320\n",
      "0 data point is nan during processing\n",
      "Sanity check passed\n",
      "0 students dropped\n"
     ]
    },
    {
     "name": "stderr",
     "output_type": "stream",
     "text": [
      "\r",
      " 32%|█████████████████████████▍                                                      | 152/478 [01:24<02:59,  1.82it/s]"
     ]
    },
    {
     "name": "stdout",
     "output_type": "stream",
     "text": [
      "135 students pre-enrolled in CEE-3230\n",
      "0 data point is nan during processing\n",
      "Sanity check passed\n",
      "11 students dropped\n"
     ]
    },
    {
     "name": "stderr",
     "output_type": "stream",
     "text": [
      "\r",
      " 32%|█████████████████████████▌                                                      | 153/478 [01:24<03:02,  1.78it/s]"
     ]
    },
    {
     "name": "stdout",
     "output_type": "stream",
     "text": [
      "140 students pre-enrolled in ENGRD-3200\n",
      "1 data point is nan during processing\n",
      "Sanity check passed\n",
      "13 students dropped\n"
     ]
    },
    {
     "name": "stderr",
     "output_type": "stream",
     "text": [
      "\r",
      " 32%|█████████████████████████▊                                                      | 154/478 [01:25<02:56,  1.83it/s]"
     ]
    },
    {
     "name": "stdout",
     "output_type": "stream",
     "text": [
      "110 students pre-enrolled in MATH-3340\n",
      "1 data point is nan during processing\n",
      "Sanity check passed\n",
      "20 students dropped\n"
     ]
    },
    {
     "name": "stderr",
     "output_type": "stream",
     "text": [
      "\r",
      " 32%|█████████████████████████▉                                                      | 155/478 [01:25<02:59,  1.80it/s]"
     ]
    },
    {
     "name": "stdout",
     "output_type": "stream",
     "text": [
      "37 students pre-enrolled in ILRST-2130\n",
      "0 data point is nan during processing\n",
      "Sanity check passed\n",
      "3 students dropped\n"
     ]
    },
    {
     "name": "stderr",
     "output_type": "stream",
     "text": [
      "\r",
      " 33%|██████████████████████████                                                      | 156/478 [01:26<03:01,  1.78it/s]"
     ]
    },
    {
     "name": "stdout",
     "output_type": "stream",
     "text": [
      "51 students pre-enrolled in CEE-4740\n",
      "0 data point is nan during processing\n",
      "Sanity check passed\n",
      "2 students dropped\n"
     ]
    },
    {
     "name": "stderr",
     "output_type": "stream",
     "text": [
      "\r",
      " 33%|██████████████████████████▎                                                     | 157/478 [01:26<02:56,  1.82it/s]"
     ]
    },
    {
     "name": "stdout",
     "output_type": "stream",
     "text": [
      "77 students pre-enrolled in ILRLE-3440\n",
      "4 data point is nan during processing\n",
      "Sanity check passed\n",
      "4 students dropped\n"
     ]
    },
    {
     "name": "stderr",
     "output_type": "stream",
     "text": [
      "\r",
      " 33%|██████████████████████████▍                                                     | 158/478 [01:27<03:00,  1.77it/s]"
     ]
    },
    {
     "name": "stdout",
     "output_type": "stream",
     "text": [
      "142 students pre-enrolled in BIOG-1445\n",
      "2 data point is nan during processing\n",
      "Sanity check passed\n",
      "24 students dropped\n"
     ]
    },
    {
     "name": "stderr",
     "output_type": "stream",
     "text": [
      "\r",
      " 33%|██████████████████████████▌                                                     | 159/478 [01:27<02:53,  1.83it/s]"
     ]
    },
    {
     "name": "stdout",
     "output_type": "stream",
     "text": [
      "16 students pre-enrolled in EAS-3555\n",
      "0 data point is nan during processing\n",
      "Sanity check passed\n",
      "2 students dropped\n"
     ]
    },
    {
     "name": "stderr",
     "output_type": "stream",
     "text": [
      "\r",
      " 33%|██████████████████████████▊                                                     | 160/478 [01:28<02:58,  1.78it/s]"
     ]
    },
    {
     "name": "stdout",
     "output_type": "stream",
     "text": [
      "116 students pre-enrolled in AMST-2000\n",
      "3 data point is nan during processing\n",
      "Sanity check passed\n",
      "51 students dropped\n"
     ]
    },
    {
     "name": "stderr",
     "output_type": "stream",
     "text": [
      "\r",
      " 34%|██████████████████████████▉                                                     | 161/478 [01:29<03:01,  1.74it/s]"
     ]
    },
    {
     "name": "stdout",
     "output_type": "stream",
     "text": [
      "55 students pre-enrolled in CHEM-6250\n",
      "1 data point is nan during processing\n",
      "Sanity check passed\n",
      "2 students dropped\n"
     ]
    },
    {
     "name": "stderr",
     "output_type": "stream",
     "text": [
      "\r",
      " 34%|███████████████████████████                                                     | 162/478 [01:29<02:54,  1.81it/s]"
     ]
    },
    {
     "name": "stdout",
     "output_type": "stream",
     "text": [
      "76 students pre-enrolled in ARTH-2000\n",
      "4 data point is nan during processing\n",
      "Sanity check passed\n",
      "21 students dropped\n"
     ]
    },
    {
     "name": "stderr",
     "output_type": "stream",
     "text": [
      "\r",
      " 34%|███████████████████████████▎                                                    | 163/478 [01:30<02:57,  1.77it/s]"
     ]
    },
    {
     "name": "stdout",
     "output_type": "stream",
     "text": [
      "23 students pre-enrolled in RUSSA-1122\n",
      "0 data point is nan during processing\n",
      "Sanity check passed\n",
      "1 students dropped\n"
     ]
    },
    {
     "name": "stderr",
     "output_type": "stream",
     "text": [
      "\r",
      " 34%|███████████████████████████▍                                                    | 164/478 [01:30<02:51,  1.83it/s]"
     ]
    },
    {
     "name": "stdout",
     "output_type": "stream",
     "text": [
      "38 students pre-enrolled in PLSCI-5045\n",
      "0 data point is nan during processing\n",
      "Sanity check passed\n",
      "4 students dropped\n"
     ]
    },
    {
     "name": "stderr",
     "output_type": "stream",
     "text": [
      "\r",
      " 35%|███████████████████████████▌                                                    | 165/478 [01:31<02:55,  1.79it/s]"
     ]
    },
    {
     "name": "stdout",
     "output_type": "stream",
     "text": [
      "35 students pre-enrolled in FDSC-6220\n",
      "2 data point is nan during processing\n",
      "Sanity check passed\n",
      "3 students dropped\n"
     ]
    },
    {
     "name": "stderr",
     "output_type": "stream",
     "text": [
      "\r",
      " 35%|███████████████████████████▊                                                    | 166/478 [01:31<02:57,  1.76it/s]"
     ]
    },
    {
     "name": "stdout",
     "output_type": "stream",
     "text": [
      "196 students pre-enrolled in ECE-3150\n",
      "0 data point is nan during processing\n",
      "Sanity check passed\n",
      "11 students dropped\n"
     ]
    },
    {
     "name": "stderr",
     "output_type": "stream",
     "text": [
      "\r",
      " 35%|███████████████████████████▉                                                    | 167/478 [01:32<02:52,  1.80it/s]"
     ]
    },
    {
     "name": "stdout",
     "output_type": "stream",
     "text": [
      "320 students pre-enrolled in SPAN-1230\n",
      "2 data point is nan during processing\n",
      "Sanity check passed\n",
      "28 students dropped\n"
     ]
    },
    {
     "name": "stderr",
     "output_type": "stream",
     "text": [
      "\r",
      " 35%|████████████████████████████                                                    | 168/478 [01:33<02:54,  1.78it/s]"
     ]
    },
    {
     "name": "stdout",
     "output_type": "stream",
     "text": [
      "14 students pre-enrolled in ECON-3875\n",
      "0 data point is nan during processing\n",
      "Sanity check passed\n",
      "4 students dropped\n"
     ]
    },
    {
     "name": "stderr",
     "output_type": "stream",
     "text": [
      "\r",
      " 35%|████████████████████████████▎                                                   | 169/478 [01:33<02:48,  1.83it/s]"
     ]
    },
    {
     "name": "stdout",
     "output_type": "stream",
     "text": [
      "219 students pre-enrolled in HADM-1361\n",
      "0 data point is nan during processing\n",
      "Sanity check passed\n",
      "1 students dropped\n"
     ]
    },
    {
     "name": "stderr",
     "output_type": "stream",
     "text": [
      "\r",
      " 36%|████████████████████████████▍                                                   | 170/478 [01:34<02:53,  1.78it/s]"
     ]
    },
    {
     "name": "stdout",
     "output_type": "stream",
     "text": [
      "7 students pre-enrolled in MAE-4320\n",
      "1 data point is nan during processing\n",
      "Sanity check passed\n",
      "1 students dropped\n"
     ]
    },
    {
     "name": "stderr",
     "output_type": "stream",
     "text": [
      "\r",
      " 36%|████████████████████████████▌                                                   | 171/478 [01:34<02:47,  1.83it/s]"
     ]
    },
    {
     "name": "stdout",
     "output_type": "stream",
     "text": [
      "24 students pre-enrolled in SWAHL-1101\n",
      "1 data point is nan during processing\n",
      "Sanity check passed\n",
      "3 students dropped\n"
     ]
    },
    {
     "name": "stderr",
     "output_type": "stream",
     "text": [
      "\r",
      " 36%|████████████████████████████▊                                                   | 172/478 [01:35<02:50,  1.79it/s]"
     ]
    },
    {
     "name": "stdout",
     "output_type": "stream",
     "text": [
      "16 students pre-enrolled in YORUB-1109\n",
      "0 data point is nan during processing\n",
      "Sanity check passed\n",
      "1 students dropped\n"
     ]
    },
    {
     "name": "stderr",
     "output_type": "stream",
     "text": [
      "\r",
      " 36%|████████████████████████████▉                                                   | 173/478 [01:35<02:51,  1.77it/s]"
     ]
    },
    {
     "name": "stdout",
     "output_type": "stream",
     "text": [
      "7 students pre-enrolled in RUSSA-1126\n",
      "0 data point is nan during processing\n",
      "Sanity check passed\n",
      "1 students dropped\n"
     ]
    },
    {
     "name": "stderr",
     "output_type": "stream",
     "text": [
      "\r",
      " 36%|█████████████████████████████                                                   | 174/478 [01:36<02:51,  1.77it/s]"
     ]
    },
    {
     "name": "stdout",
     "output_type": "stream",
     "text": [
      "790 students pre-enrolled in CS-4410\n",
      "4 data point is nan during processing\n",
      "Sanity check passed\n",
      "22 students dropped\n"
     ]
    },
    {
     "name": "stderr",
     "output_type": "stream",
     "text": [
      "\r",
      " 37%|█████████████████████████████▎                                                  | 175/478 [01:36<02:53,  1.75it/s]"
     ]
    },
    {
     "name": "stdout",
     "output_type": "stream",
     "text": [
      "17 students pre-enrolled in BIONB-3690\n",
      "0 data point is nan during processing\n",
      "Sanity check passed\n",
      "1 students dropped\n"
     ]
    },
    {
     "name": "stderr",
     "output_type": "stream",
     "text": [
      "\r",
      " 37%|█████████████████████████████▍                                                  | 176/478 [01:37<02:54,  1.73it/s]"
     ]
    },
    {
     "name": "stdout",
     "output_type": "stream",
     "text": [
      "18 students pre-enrolled in STSCI-6730\n",
      "1 data point is nan during processing\n",
      "Sanity check passed\n",
      "1 students dropped\n"
     ]
    },
    {
     "name": "stderr",
     "output_type": "stream",
     "text": [
      "\r",
      " 37%|█████████████████████████████▌                                                  | 177/478 [01:38<02:49,  1.78it/s]"
     ]
    },
    {
     "name": "stdout",
     "output_type": "stream",
     "text": [
      "481 students pre-enrolled in MATH-2210\n",
      "6 data point is nan during processing\n",
      "Sanity check passed\n",
      "44 students dropped\n"
     ]
    },
    {
     "name": "stderr",
     "output_type": "stream",
     "text": [
      "\r",
      " 37%|█████████████████████████████▊                                                  | 178/478 [01:38<02:51,  1.75it/s]"
     ]
    },
    {
     "name": "stdout",
     "output_type": "stream",
     "text": [
      "3 students pre-enrolled in LSP-2020\n",
      "0 data point is nan during processing\n",
      "Sanity check passed\n",
      "0 students dropped\n"
     ]
    },
    {
     "name": "stderr",
     "output_type": "stream",
     "text": [
      "\r",
      " 37%|█████████████████████████████▉                                                  | 179/478 [01:39<02:46,  1.79it/s]"
     ]
    },
    {
     "name": "stdout",
     "output_type": "stream",
     "text": [
      "62 students pre-enrolled in BIOMI-3500\n",
      "1 data point is nan during processing\n",
      "Sanity check passed\n",
      "7 students dropped\n"
     ]
    },
    {
     "name": "stderr",
     "output_type": "stream",
     "text": [
      "\r",
      " 38%|██████████████████████████████▏                                                 | 180/478 [01:39<02:49,  1.76it/s]"
     ]
    },
    {
     "name": "stdout",
     "output_type": "stream",
     "text": [
      "178 students pre-enrolled in MATH-1710\n",
      "3 data point is nan during processing\n",
      "Sanity check passed\n",
      "29 students dropped\n"
     ]
    },
    {
     "name": "stderr",
     "output_type": "stream",
     "text": [
      "\r",
      " 38%|██████████████████████████████▎                                                 | 181/478 [01:40<02:42,  1.82it/s]"
     ]
    },
    {
     "name": "stdout",
     "output_type": "stream",
     "text": [
      "41 students pre-enrolled in ECON-3300\n",
      "0 data point is nan during processing\n",
      "Sanity check passed\n",
      "1 students dropped\n"
     ]
    },
    {
     "name": "stderr",
     "output_type": "stream",
     "text": [
      "\r",
      " 38%|██████████████████████████████▍                                                 | 182/478 [01:40<02:44,  1.80it/s]"
     ]
    },
    {
     "name": "stdout",
     "output_type": "stream",
     "text": [
      "64 students pre-enrolled in HADM-3880\n",
      "1 data point is nan during processing\n",
      "Sanity check passed\n",
      "7 students dropped\n"
     ]
    },
    {
     "name": "stderr",
     "output_type": "stream",
     "text": [
      "\r",
      " 38%|██████████████████████████████▋                                                 | 183/478 [01:41<02:46,  1.77it/s]"
     ]
    },
    {
     "name": "stdout",
     "output_type": "stream",
     "text": [
      "143 students pre-enrolled in FDSC-2360\n",
      "2 data point is nan during processing\n",
      "Sanity check passed\n",
      "15 students dropped\n"
     ]
    },
    {
     "name": "stderr",
     "output_type": "stream",
     "text": [
      "\r",
      " 38%|██████████████████████████████▊                                                 | 184/478 [01:41<02:41,  1.82it/s]"
     ]
    },
    {
     "name": "stdout",
     "output_type": "stream",
     "text": [
      "381 students pre-enrolled in ASTRO-1102\n",
      "11 data point is nan during processing\n",
      "Sanity check passed\n",
      "92 students dropped\n"
     ]
    },
    {
     "name": "stderr",
     "output_type": "stream",
     "text": [
      "\r",
      " 39%|██████████████████████████████▉                                                 | 185/478 [01:42<02:45,  1.77it/s]"
     ]
    },
    {
     "name": "stdout",
     "output_type": "stream",
     "text": [
      "498 students pre-enrolled in BIOMG-2801\n",
      "4 data point is nan during processing\n",
      "Sanity check passed\n",
      "31 students dropped\n"
     ]
    },
    {
     "name": "stderr",
     "output_type": "stream",
     "text": [
      "\r",
      " 39%|███████████████████████████████▏                                                | 186/478 [01:43<02:46,  1.76it/s]"
     ]
    },
    {
     "name": "stdout",
     "output_type": "stream",
     "text": [
      "11 students pre-enrolled in ROMS-5070\n",
      "0 data point is nan during processing\n",
      "Sanity check passed\n",
      "0 students dropped\n"
     ]
    },
    {
     "name": "stderr",
     "output_type": "stream",
     "text": [
      "\r",
      " 39%|███████████████████████████████▎                                                | 187/478 [01:43<02:40,  1.81it/s]"
     ]
    },
    {
     "name": "stdout",
     "output_type": "stream",
     "text": [
      "11 students pre-enrolled in AEP-4400\n",
      "0 data point is nan during processing\n",
      "Sanity check passed\n",
      "2 students dropped\n"
     ]
    },
    {
     "name": "stderr",
     "output_type": "stream",
     "text": [
      "\r",
      " 39%|███████████████████████████████▍                                                | 188/478 [01:44<02:42,  1.79it/s]"
     ]
    },
    {
     "name": "stdout",
     "output_type": "stream",
     "text": [
      "8 students pre-enrolled in CHIN-1122\n",
      "0 data point is nan during processing\n",
      "Sanity check passed\n",
      "1 students dropped\n"
     ]
    },
    {
     "name": "stderr",
     "output_type": "stream",
     "text": [
      "\r",
      " 40%|███████████████████████████████▋                                                | 189/478 [01:44<02:37,  1.84it/s]"
     ]
    },
    {
     "name": "stdout",
     "output_type": "stream",
     "text": [
      "21 students pre-enrolled in PLPPM-5020\n",
      "0 data point is nan during processing\n",
      "Sanity check passed\n",
      "1 students dropped\n"
     ]
    },
    {
     "name": "stderr",
     "output_type": "stream",
     "text": [
      "\r",
      " 40%|███████████████████████████████▊                                                | 190/478 [01:45<02:40,  1.79it/s]"
     ]
    },
    {
     "name": "stdout",
     "output_type": "stream",
     "text": [
      "258 students pre-enrolled in EAS-1600\n",
      "1 data point is nan during processing\n",
      "Sanity check passed\n",
      "25 students dropped\n"
     ]
    },
    {
     "name": "stderr",
     "output_type": "stream",
     "text": [
      "\r",
      " 40%|███████████████████████████████▉                                                | 191/478 [01:45<02:42,  1.76it/s]"
     ]
    },
    {
     "name": "stdout",
     "output_type": "stream",
     "text": [
      "303 students pre-enrolled in AEM-2225\n",
      "0 data point is nan during processing\n",
      "Sanity check passed\n",
      "2 students dropped\n"
     ]
    },
    {
     "name": "stderr",
     "output_type": "stream",
     "text": [
      "\r",
      " 40%|████████████████████████████████▏                                               | 192/478 [01:46<02:37,  1.82it/s]"
     ]
    },
    {
     "name": "stdout",
     "output_type": "stream",
     "text": [
      "23 students pre-enrolled in PLBIO-6841\n",
      "1 data point is nan during processing\n",
      "Sanity check passed\n",
      "0 students dropped\n"
     ]
    },
    {
     "name": "stderr",
     "output_type": "stream",
     "text": [
      "\r",
      " 40%|████████████████████████████████▎                                               | 193/478 [01:47<02:40,  1.78it/s]"
     ]
    },
    {
     "name": "stdout",
     "output_type": "stream",
     "text": [
      "19 students pre-enrolled in ORIE-5510\n",
      "2 data point is nan during processing\n",
      "Sanity check passed\n",
      "7 students dropped\n"
     ]
    },
    {
     "name": "stderr",
     "output_type": "stream",
     "text": [
      "\r",
      " 41%|████████████████████████████████▍                                               | 194/478 [01:47<02:34,  1.83it/s]"
     ]
    },
    {
     "name": "stdout",
     "output_type": "stream",
     "text": [
      "68 students pre-enrolled in BIOMG-4390\n",
      "1 data point is nan during processing\n",
      "Sanity check passed\n",
      "17 students dropped\n"
     ]
    },
    {
     "name": "stderr",
     "output_type": "stream",
     "text": [
      "\r",
      " 41%|████████████████████████████████▋                                               | 195/478 [01:48<02:37,  1.80it/s]"
     ]
    },
    {
     "name": "stdout",
     "output_type": "stream",
     "text": [
      "29 students pre-enrolled in CEE-7740\n",
      "0 data point is nan during processing\n",
      "Sanity check passed\n",
      "0 students dropped\n"
     ]
    },
    {
     "name": "stderr",
     "output_type": "stream",
     "text": [
      "\r",
      " 41%|████████████████████████████████▊                                               | 196/478 [01:48<02:39,  1.76it/s]"
     ]
    },
    {
     "name": "stdout",
     "output_type": "stream",
     "text": [
      "3 students pre-enrolled in ANSC-5210\n",
      "0 data point is nan during processing\n",
      "Sanity check passed\n",
      "0 students dropped\n"
     ]
    },
    {
     "name": "stderr",
     "output_type": "stream",
     "text": [
      "\r",
      " 41%|████████████████████████████████▉                                               | 197/478 [01:49<02:35,  1.81it/s]"
     ]
    },
    {
     "name": "stdout",
     "output_type": "stream",
     "text": [
      "120 students pre-enrolled in ILRLR-1845\n",
      "3 data point is nan during processing\n",
      "Sanity check passed\n",
      "16 students dropped\n"
     ]
    },
    {
     "name": "stderr",
     "output_type": "stream",
     "text": [
      "\r",
      " 41%|█████████████████████████████████▏                                              | 198/478 [01:49<02:36,  1.79it/s]"
     ]
    },
    {
     "name": "stdout",
     "output_type": "stream",
     "text": [
      "45 students pre-enrolled in AEM-3370\n",
      "0 data point is nan during processing\n",
      "Sanity check passed\n",
      "2 students dropped\n"
     ]
    },
    {
     "name": "stderr",
     "output_type": "stream",
     "text": [
      "\r",
      " 42%|█████████████████████████████████▎                                              | 199/478 [01:50<02:40,  1.74it/s]"
     ]
    },
    {
     "name": "stdout",
     "output_type": "stream",
     "text": [
      "492 students pre-enrolled in PLSCI-2010\n",
      "13 data point is nan during processing\n",
      "Sanity check passed\n",
      "103 students dropped\n"
     ]
    },
    {
     "name": "stderr",
     "output_type": "stream",
     "text": [
      "\r",
      " 42%|█████████████████████████████████▍                                              | 200/478 [01:50<02:34,  1.80it/s]"
     ]
    },
    {
     "name": "stdout",
     "output_type": "stream",
     "text": [
      "137 students pre-enrolled in ECE-2100\n",
      "0 data point is nan during processing\n",
      "Sanity check passed\n",
      "9 students dropped\n"
     ]
    },
    {
     "name": "stderr",
     "output_type": "stream",
     "text": [
      "\r",
      " 42%|█████████████████████████████████▋                                              | 201/478 [01:51<02:35,  1.78it/s]"
     ]
    },
    {
     "name": "stdout",
     "output_type": "stream",
     "text": [
      "5 students pre-enrolled in PSYCH-7090\n",
      "1 data point is nan during processing\n",
      "Sanity check passed\n",
      "2 students dropped\n"
     ]
    },
    {
     "name": "stderr",
     "output_type": "stream",
     "text": [
      "\r",
      " 42%|█████████████████████████████████▊                                              | 202/478 [01:52<02:31,  1.83it/s]"
     ]
    },
    {
     "name": "stdout",
     "output_type": "stream",
     "text": [
      "298 students pre-enrolled in HADM-1410\n",
      "0 data point is nan during processing\n",
      "Sanity check passed\n",
      "2 students dropped\n"
     ]
    },
    {
     "name": "stderr",
     "output_type": "stream",
     "text": [
      "\r",
      " 42%|█████████████████████████████████▉                                              | 203/478 [01:52<02:34,  1.79it/s]"
     ]
    },
    {
     "name": "stdout",
     "output_type": "stream",
     "text": [
      "99 students pre-enrolled in HADM-4200\n",
      "3 data point is nan during processing\n",
      "Sanity check passed\n",
      "16 students dropped\n"
     ]
    },
    {
     "name": "stderr",
     "output_type": "stream",
     "text": [
      "\r",
      " 43%|██████████████████████████████████▏                                             | 204/478 [01:53<02:30,  1.82it/s]"
     ]
    },
    {
     "name": "stdout",
     "output_type": "stream",
     "text": [
      "93 students pre-enrolled in AEM-2050\n",
      "0 data point is nan during processing\n",
      "Sanity check passed\n",
      "10 students dropped\n"
     ]
    },
    {
     "name": "stderr",
     "output_type": "stream",
     "text": [
      "\r",
      " 43%|██████████████████████████████████▎                                             | 205/478 [01:53<02:32,  1.79it/s]"
     ]
    },
    {
     "name": "stdout",
     "output_type": "stream",
     "text": [
      "19 students pre-enrolled in MAE-5230\n",
      "1 data point is nan during processing\n",
      "Sanity check passed\n",
      "4 students dropped\n"
     ]
    },
    {
     "name": "stderr",
     "output_type": "stream",
     "text": [
      "\r",
      " 43%|██████████████████████████████████▍                                             | 206/478 [01:54<02:34,  1.76it/s]"
     ]
    },
    {
     "name": "stdout",
     "output_type": "stream",
     "text": [
      "113 students pre-enrolled in BIOMG-3350\n",
      "3 data point is nan during processing\n",
      "Sanity check passed\n",
      "19 students dropped\n"
     ]
    },
    {
     "name": "stderr",
     "output_type": "stream",
     "text": [
      "\r",
      " 43%|██████████████████████████████████▋                                             | 207/478 [01:54<02:29,  1.81it/s]"
     ]
    },
    {
     "name": "stdout",
     "output_type": "stream",
     "text": [
      "174 students pre-enrolled in FDSC-1500\n",
      "1 data point is nan during processing\n",
      "Sanity check passed\n",
      "35 students dropped\n"
     ]
    },
    {
     "name": "stderr",
     "output_type": "stream",
     "text": [
      "\r",
      " 44%|██████████████████████████████████▊                                             | 208/478 [01:55<02:32,  1.77it/s]"
     ]
    },
    {
     "name": "stdout",
     "output_type": "stream",
     "text": [
      "432 students pre-enrolled in CS-1112\n",
      "4 data point is nan during processing\n",
      "Sanity check passed\n",
      "27 students dropped\n"
     ]
    },
    {
     "name": "stderr",
     "output_type": "stream",
     "text": [
      "\r",
      " 44%|██████████████████████████████████▉                                             | 209/478 [01:56<02:34,  1.74it/s]"
     ]
    },
    {
     "name": "stdout",
     "output_type": "stream",
     "text": [
      "57 students pre-enrolled in FDSC-2100\n",
      "1 data point is nan during processing\n",
      "Sanity check passed\n",
      "4 students dropped\n"
     ]
    },
    {
     "name": "stderr",
     "output_type": "stream",
     "text": [
      "\r",
      " 44%|███████████████████████████████████▏                                            | 210/478 [01:56<02:28,  1.80it/s]"
     ]
    },
    {
     "name": "stdout",
     "output_type": "stream",
     "text": [
      "41 students pre-enrolled in AEM-6410\n",
      "0 data point is nan during processing\n",
      "Sanity check passed\n",
      "3 students dropped\n"
     ]
    },
    {
     "name": "stderr",
     "output_type": "stream",
     "text": [
      "\r",
      " 44%|███████████████████████████████████▎                                            | 211/478 [01:57<02:32,  1.76it/s]"
     ]
    },
    {
     "name": "stdout",
     "output_type": "stream",
     "text": [
      "433 students pre-enrolled in AEM-3230\n",
      "6 data point is nan during processing\n",
      "Sanity check passed\n",
      "23 students dropped\n"
     ]
    },
    {
     "name": "stderr",
     "output_type": "stream",
     "text": [
      "\r",
      " 44%|███████████████████████████████████▍                                            | 212/478 [01:57<02:27,  1.80it/s]"
     ]
    },
    {
     "name": "stdout",
     "output_type": "stream",
     "text": [
      "458 students pre-enrolled in HADM-2410\n",
      "6 data point is nan during processing\n",
      "Sanity check passed\n",
      "47 students dropped\n"
     ]
    },
    {
     "name": "stderr",
     "output_type": "stream",
     "text": [
      "\r",
      " 45%|███████████████████████████████████▋                                            | 213/478 [01:58<02:32,  1.74it/s]"
     ]
    },
    {
     "name": "stdout",
     "output_type": "stream",
     "text": [
      "1221 students pre-enrolled in CHEM-3580\n",
      "6 data point is nan during processing\n",
      "Sanity check passed\n",
      "59 students dropped\n"
     ]
    },
    {
     "name": "stderr",
     "output_type": "stream",
     "text": [
      "\r",
      " 45%|███████████████████████████████████▊                                            | 214/478 [01:58<02:34,  1.71it/s]"
     ]
    },
    {
     "name": "stdout",
     "output_type": "stream",
     "text": [
      "384 students pre-enrolled in ECON-3120\n",
      "3 data point is nan during processing\n",
      "Sanity check passed\n",
      "41 students dropped\n"
     ]
    },
    {
     "name": "stderr",
     "output_type": "stream",
     "text": [
      "\r",
      " 45%|███████████████████████████████████▉                                            | 215/478 [01:59<02:28,  1.77it/s]"
     ]
    },
    {
     "name": "stdout",
     "output_type": "stream",
     "text": [
      "20 students pre-enrolled in ITAL-1401\n",
      "1 data point is nan during processing\n",
      "Sanity check passed\n",
      "1 students dropped\n"
     ]
    },
    {
     "name": "stderr",
     "output_type": "stream",
     "text": [
      "\r",
      " 45%|████████████████████████████████████▏                                           | 216/478 [01:59<02:29,  1.75it/s]"
     ]
    },
    {
     "name": "stdout",
     "output_type": "stream",
     "text": [
      "72 students pre-enrolled in PLBRG-2250\n",
      "0 data point is nan during processing\n",
      "Sanity check passed\n",
      "3 students dropped\n"
     ]
    },
    {
     "name": "stderr",
     "output_type": "stream",
     "text": [
      "\r",
      " 45%|████████████████████████████████████▎                                           | 217/478 [02:00<02:25,  1.79it/s]"
     ]
    },
    {
     "name": "stdout",
     "output_type": "stream",
     "text": [
      "53 students pre-enrolled in MATH-4340\n",
      "1 data point is nan during processing\n",
      "Sanity check passed\n",
      "10 students dropped\n"
     ]
    },
    {
     "name": "stderr",
     "output_type": "stream",
     "text": [
      "\r",
      " 46%|████████████████████████████████████▍                                           | 218/478 [02:01<02:27,  1.76it/s]"
     ]
    },
    {
     "name": "stdout",
     "output_type": "stream",
     "text": [
      "10 students pre-enrolled in TURK-1331\n",
      "0 data point is nan during processing\n",
      "Sanity check passed\n",
      "0 students dropped\n"
     ]
    },
    {
     "name": "stderr",
     "output_type": "stream",
     "text": [
      "\r",
      " 46%|████████████████████████████████████▋                                           | 219/478 [02:01<02:22,  1.82it/s]"
     ]
    },
    {
     "name": "stdout",
     "output_type": "stream",
     "text": [
      "30 students pre-enrolled in AEM-6480\n",
      "4 data point is nan during processing\n",
      "Sanity check passed\n",
      "2 students dropped\n"
     ]
    },
    {
     "name": "stderr",
     "output_type": "stream",
     "text": [
      "\r",
      " 46%|████████████████████████████████████▊                                           | 220/478 [02:02<02:25,  1.77it/s]"
     ]
    },
    {
     "name": "stdout",
     "output_type": "stream",
     "text": [
      "713 students pre-enrolled in ENGRD-2700\n",
      "6 data point is nan during processing\n",
      "Sanity check passed\n",
      "62 students dropped\n"
     ]
    },
    {
     "name": "stderr",
     "output_type": "stream",
     "text": [
      "\r",
      " 46%|████████████████████████████████████▉                                           | 221/478 [02:02<02:27,  1.74it/s]"
     ]
    },
    {
     "name": "stdout",
     "output_type": "stream",
     "text": [
      "263 students pre-enrolled in ECON-3110\n",
      "1 data point is nan during processing\n",
      "Sanity check passed\n",
      "28 students dropped\n"
     ]
    },
    {
     "name": "stderr",
     "output_type": "stream",
     "text": [
      "\r",
      " 46%|█████████████████████████████████████▏                                          | 222/478 [02:03<02:24,  1.77it/s]"
     ]
    },
    {
     "name": "stdout",
     "output_type": "stream",
     "text": [
      "408 students pre-enrolled in ILRLR-3300\n",
      "7 data point is nan during processing\n",
      "Sanity check passed\n",
      "31 students dropped\n"
     ]
    },
    {
     "name": "stderr",
     "output_type": "stream",
     "text": [
      "\r",
      " 47%|█████████████████████████████████████▎                                          | 223/478 [02:03<02:25,  1.75it/s]"
     ]
    },
    {
     "name": "stdout",
     "output_type": "stream",
     "text": [
      "139 students pre-enrolled in MATH-3320\n",
      "0 data point is nan during processing\n",
      "Sanity check passed\n",
      "18 students dropped\n"
     ]
    },
    {
     "name": "stderr",
     "output_type": "stream",
     "text": [
      "\r",
      " 47%|█████████████████████████████████████▍                                          | 224/478 [02:04<02:26,  1.74it/s]"
     ]
    },
    {
     "name": "stdout",
     "output_type": "stream",
     "text": [
      "17 students pre-enrolled in BIOAP-4140\n",
      "1 data point is nan during processing\n",
      "Sanity check passed\n",
      "2 students dropped\n"
     ]
    },
    {
     "name": "stderr",
     "output_type": "stream",
     "text": [
      "\r",
      " 47%|█████████████████████████████████████▋                                          | 225/478 [02:05<02:21,  1.79it/s]"
     ]
    },
    {
     "name": "stdout",
     "output_type": "stream",
     "text": [
      "354 students pre-enrolled in BIOMG-3320\n",
      "1 data point is nan during processing\n",
      "Sanity check passed\n",
      "20 students dropped\n"
     ]
    },
    {
     "name": "stderr",
     "output_type": "stream",
     "text": [
      "\r",
      " 47%|█████████████████████████████████████▊                                          | 226/478 [02:05<02:22,  1.77it/s]"
     ]
    },
    {
     "name": "stdout",
     "output_type": "stream",
     "text": [
      "44 students pre-enrolled in EAS-6920\n",
      "0 data point is nan during processing\n",
      "Sanity check passed\n",
      "3 students dropped\n"
     ]
    },
    {
     "name": "stderr",
     "output_type": "stream",
     "text": [
      "\r",
      " 47%|█████████████████████████████████████▉                                          | 227/478 [02:06<02:17,  1.82it/s]"
     ]
    },
    {
     "name": "stdout",
     "output_type": "stream",
     "text": [
      "17 students pre-enrolled in BIONB-4140\n",
      "0 data point is nan during processing\n",
      "Sanity check passed\n",
      "5 students dropped\n"
     ]
    },
    {
     "name": "stderr",
     "output_type": "stream",
     "text": [
      "\r",
      " 48%|██████████████████████████████████████▏                                         | 228/478 [02:06<02:20,  1.78it/s]"
     ]
    },
    {
     "name": "stdout",
     "output_type": "stream",
     "text": [
      "421 students pre-enrolled in ECON-3040\n",
      "6 data point is nan during processing\n",
      "Sanity check passed\n",
      "25 students dropped\n"
     ]
    },
    {
     "name": "stderr",
     "output_type": "stream",
     "text": [
      "\r",
      " 48%|██████████████████████████████████████▎                                         | 229/478 [02:07<02:22,  1.75it/s]"
     ]
    },
    {
     "name": "stdout",
     "output_type": "stream",
     "text": [
      "39 students pre-enrolled in PLBIO-1130\n",
      "2 data point is nan during processing\n",
      "Sanity check passed\n",
      "10 students dropped\n"
     ]
    },
    {
     "name": "stderr",
     "output_type": "stream",
     "text": [
      "\r",
      " 48%|██████████████████████████████████████▍                                         | 230/478 [02:07<02:17,  1.80it/s]"
     ]
    },
    {
     "name": "stdout",
     "output_type": "stream",
     "text": [
      "334 students pre-enrolled in ILRLE-2400\n",
      "2 data point is nan during processing\n",
      "Sanity check passed\n",
      "4 students dropped\n"
     ]
    },
    {
     "name": "stderr",
     "output_type": "stream",
     "text": [
      "\r",
      " 48%|██████████████████████████████████████▋                                         | 231/478 [02:08<02:19,  1.77it/s]"
     ]
    },
    {
     "name": "stdout",
     "output_type": "stream",
     "text": [
      "16 students pre-enrolled in ASL-2301\n",
      "2 data point is nan during processing\n",
      "Sanity check passed\n",
      "4 students dropped\n"
     ]
    },
    {
     "name": "stderr",
     "output_type": "stream",
     "text": [
      "\r",
      " 49%|██████████████████████████████████████▊                                         | 232/478 [02:08<02:14,  1.83it/s]"
     ]
    },
    {
     "name": "stdout",
     "output_type": "stream",
     "text": [
      "72 students pre-enrolled in PHYS-4443\n",
      "2 data point is nan during processing\n",
      "Sanity check passed\n",
      "3 students dropped\n"
     ]
    },
    {
     "name": "stderr",
     "output_type": "stream",
     "text": [
      "\r",
      " 49%|██████████████████████████████████████▉                                         | 233/478 [02:09<02:17,  1.79it/s]"
     ]
    },
    {
     "name": "stdout",
     "output_type": "stream",
     "text": [
      "239 students pre-enrolled in HADM-3870\n",
      "4 data point is nan during processing\n",
      "Sanity check passed\n",
      "103 students dropped\n"
     ]
    },
    {
     "name": "stderr",
     "output_type": "stream",
     "text": [
      "\r",
      " 49%|███████████████████████████████████████▏                                        | 234/478 [02:10<02:13,  1.83it/s]"
     ]
    },
    {
     "name": "stdout",
     "output_type": "stream",
     "text": [
      "27 students pre-enrolled in ECE-4840\n",
      "0 data point is nan during processing\n",
      "Sanity check passed\n",
      "6 students dropped\n"
     ]
    },
    {
     "name": "stderr",
     "output_type": "stream",
     "text": [
      "\r",
      " 49%|███████████████████████████████████████▎                                        | 235/478 [02:10<02:15,  1.80it/s]"
     ]
    },
    {
     "name": "stdout",
     "output_type": "stream",
     "text": [
      "40 students pre-enrolled in MSE-2620\n",
      "0 data point is nan during processing\n",
      "Sanity check passed\n",
      "1 students dropped\n"
     ]
    },
    {
     "name": "stderr",
     "output_type": "stream",
     "text": [
      "\r",
      " 49%|███████████████████████████████████████▍                                        | 236/478 [02:11<02:16,  1.77it/s]"
     ]
    },
    {
     "name": "stdout",
     "output_type": "stream",
     "text": [
      "20 students pre-enrolled in AEP-5400\n",
      "1 data point is nan during processing\n",
      "Sanity check passed\n",
      "2 students dropped\n"
     ]
    },
    {
     "name": "stderr",
     "output_type": "stream",
     "text": [
      "\r",
      " 50%|███████████████████████████████████████▋                                        | 237/478 [02:11<02:12,  1.81it/s]"
     ]
    },
    {
     "name": "stdout",
     "output_type": "stream",
     "text": [
      "419 students pre-enrolled in HADM-3210\n",
      "2 data point is nan during processing\n",
      "Sanity check passed\n",
      "3 students dropped\n"
     ]
    },
    {
     "name": "stderr",
     "output_type": "stream",
     "text": [
      "\r",
      " 50%|███████████████████████████████████████▊                                        | 238/478 [02:12<02:15,  1.77it/s]"
     ]
    },
    {
     "name": "stdout",
     "output_type": "stream",
     "text": [
      "377 students pre-enrolled in SPAN-2090\n",
      "4 data point is nan during processing\n",
      "Sanity check passed\n",
      "25 students dropped\n"
     ]
    },
    {
     "name": "stderr",
     "output_type": "stream",
     "text": [
      "\r",
      " 50%|████████████████████████████████████████                                        | 239/478 [02:12<02:17,  1.74it/s]"
     ]
    },
    {
     "name": "stdout",
     "output_type": "stream",
     "text": [
      "45 students pre-enrolled in AEP-3550\n",
      "0 data point is nan during processing\n",
      "Sanity check passed\n",
      "1 students dropped\n"
     ]
    },
    {
     "name": "stderr",
     "output_type": "stream",
     "text": [
      "\r",
      " 50%|████████████████████████████████████████▏                                       | 240/478 [02:13<02:12,  1.80it/s]"
     ]
    },
    {
     "name": "stdout",
     "output_type": "stream",
     "text": [
      "4 students pre-enrolled in ANSC-6280\n",
      "0 data point is nan during processing\n",
      "Sanity check passed\n",
      "0 students dropped\n"
     ]
    },
    {
     "name": "stderr",
     "output_type": "stream",
     "text": [
      "\r",
      " 50%|████████████████████████████████████████▎                                       | 241/478 [02:14<02:13,  1.77it/s]"
     ]
    },
    {
     "name": "stdout",
     "output_type": "stream",
     "text": [
      "193 students pre-enrolled in FREN-2090\n",
      "2 data point is nan during processing\n",
      "Sanity check passed\n",
      "18 students dropped\n"
     ]
    },
    {
     "name": "stderr",
     "output_type": "stream",
     "text": [
      "\r",
      " 51%|████████████████████████████████████████▌                                       | 242/478 [02:14<02:08,  1.84it/s]"
     ]
    },
    {
     "name": "stdout",
     "output_type": "stream",
     "text": [
      "4 students pre-enrolled in MAE-4231\n",
      "0 data point is nan during processing\n",
      "Sanity check passed\n",
      "0 students dropped\n"
     ]
    },
    {
     "name": "stderr",
     "output_type": "stream",
     "text": [
      "\r",
      " 51%|████████████████████████████████████████▋                                       | 243/478 [02:15<02:10,  1.80it/s]"
     ]
    },
    {
     "name": "stdout",
     "output_type": "stream",
     "text": [
      "26 students pre-enrolled in STSCI-4550\n",
      "0 data point is nan during processing\n",
      "Sanity check passed\n",
      "8 students dropped\n"
     ]
    },
    {
     "name": "stderr",
     "output_type": "stream",
     "text": [
      "\r",
      " 51%|████████████████████████████████████████▊                                       | 244/478 [02:15<02:12,  1.76it/s]"
     ]
    },
    {
     "name": "stdout",
     "output_type": "stream",
     "text": [
      "230 students pre-enrolled in MATH-4710\n",
      "1 data point is nan during processing\n",
      "Sanity check passed\n",
      "21 students dropped\n"
     ]
    },
    {
     "name": "stderr",
     "output_type": "stream",
     "text": [
      "\r",
      " 51%|█████████████████████████████████████████                                       | 245/478 [02:16<02:08,  1.82it/s]"
     ]
    },
    {
     "name": "stdout",
     "output_type": "stream",
     "text": [
      "14 students pre-enrolled in COGST-3140\n",
      "0 data point is nan during processing\n",
      "Sanity check passed\n",
      "4 students dropped\n"
     ]
    },
    {
     "name": "stderr",
     "output_type": "stream",
     "text": [
      "\r",
      " 51%|█████████████████████████████████████████▏                                      | 246/478 [02:16<02:09,  1.79it/s]"
     ]
    },
    {
     "name": "stdout",
     "output_type": "stream",
     "text": [
      "304 students pre-enrolled in BIONB-2220\n",
      "5 data point is nan during processing\n",
      "Sanity check passed\n",
      "31 students dropped\n"
     ]
    },
    {
     "name": "stderr",
     "output_type": "stream",
     "text": [
      "\r",
      " 52%|█████████████████████████████████████████▎                                      | 247/478 [02:17<02:05,  1.84it/s]"
     ]
    },
    {
     "name": "stdout",
     "output_type": "stream",
     "text": [
      "26 students pre-enrolled in GERST-1230\n",
      "0 data point is nan during processing\n",
      "Sanity check passed\n",
      "2 students dropped\n"
     ]
    },
    {
     "name": "stderr",
     "output_type": "stream",
     "text": [
      "\r",
      " 52%|█████████████████████████████████████████▌                                      | 248/478 [02:17<02:07,  1.80it/s]"
     ]
    },
    {
     "name": "stdout",
     "output_type": "stream",
     "text": [
      "117 students pre-enrolled in FREN-1230\n",
      "3 data point is nan during processing\n",
      "Sanity check passed\n",
      "11 students dropped\n"
     ]
    },
    {
     "name": "stderr",
     "output_type": "stream",
     "text": [
      "\r",
      " 52%|█████████████████████████████████████████▋                                      | 249/478 [02:18<02:05,  1.83it/s]"
     ]
    },
    {
     "name": "stdout",
     "output_type": "stream",
     "text": [
      "189 students pre-enrolled in ENGRI-1101\n",
      "0 data point is nan during processing\n",
      "Sanity check passed\n",
      "11 students dropped\n"
     ]
    },
    {
     "name": "stderr",
     "output_type": "stream",
     "text": [
      "\r",
      " 52%|█████████████████████████████████████████▊                                      | 250/478 [02:18<02:06,  1.81it/s]"
     ]
    },
    {
     "name": "stdout",
     "output_type": "stream",
     "text": [
      "116 students pre-enrolled in NS-3600\n",
      "1 data point is nan during processing\n",
      "Sanity check passed\n",
      "11 students dropped\n"
     ]
    },
    {
     "name": "stderr",
     "output_type": "stream",
     "text": [
      "\r",
      " 53%|██████████████████████████████████████████                                      | 251/478 [02:19<02:08,  1.77it/s]"
     ]
    },
    {
     "name": "stdout",
     "output_type": "stream",
     "text": [
      "218 students pre-enrolled in ECON-4020\n",
      "3 data point is nan during processing\n",
      "Sanity check passed\n",
      "35 students dropped\n"
     ]
    },
    {
     "name": "stderr",
     "output_type": "stream",
     "text": [
      "\r",
      " 53%|██████████████████████████████████████████▏                                     | 252/478 [02:20<02:04,  1.82it/s]"
     ]
    },
    {
     "name": "stdout",
     "output_type": "stream",
     "text": [
      "126 students pre-enrolled in STSCI-4520\n",
      "0 data point is nan during processing\n",
      "Sanity check passed\n",
      "4 students dropped\n"
     ]
    },
    {
     "name": "stderr",
     "output_type": "stream",
     "text": [
      "\r",
      " 53%|██████████████████████████████████████████▎                                     | 253/478 [02:20<02:06,  1.77it/s]"
     ]
    },
    {
     "name": "stdout",
     "output_type": "stream",
     "text": [
      "53 students pre-enrolled in NTRES-2830\n",
      "1 data point is nan during processing\n",
      "Sanity check passed\n",
      "3 students dropped\n"
     ]
    },
    {
     "name": "stderr",
     "output_type": "stream",
     "text": [
      "\r",
      " 53%|██████████████████████████████████████████▌                                     | 254/478 [02:21<02:09,  1.74it/s]"
     ]
    },
    {
     "name": "stdout",
     "output_type": "stream",
     "text": [
      "552 students pre-enrolled in PHYS-2214\n",
      "1 data point is nan during processing\n",
      "Sanity check passed\n",
      "37 students dropped\n"
     ]
    },
    {
     "name": "stderr",
     "output_type": "stream",
     "text": [
      "\r",
      " 53%|██████████████████████████████████████████▋                                     | 255/478 [02:21<02:03,  1.80it/s]"
     ]
    },
    {
     "name": "stdout",
     "output_type": "stream",
     "text": [
      "24 students pre-enrolled in MAE-5510\n",
      "1 data point is nan during processing\n",
      "Sanity check passed\n",
      "4 students dropped\n"
     ]
    },
    {
     "name": "stderr",
     "output_type": "stream",
     "text": [
      "\r",
      " 54%|██████████████████████████████████████████▊                                     | 256/478 [02:22<02:04,  1.78it/s]"
     ]
    },
    {
     "name": "stdout",
     "output_type": "stream",
     "text": [
      "19 students pre-enrolled in CEE-6091\n",
      "0 data point is nan during processing\n",
      "Sanity check passed\n",
      "2 students dropped\n"
     ]
    },
    {
     "name": "stderr",
     "output_type": "stream",
     "text": [
      "\r",
      " 54%|███████████████████████████████████████████                                     | 257/478 [02:22<02:01,  1.82it/s]"
     ]
    },
    {
     "name": "stdout",
     "output_type": "stream",
     "text": [
      "435 students pre-enrolled in BIOMG-3300\n",
      "2 data point is nan during processing\n",
      "Sanity check passed\n",
      "40 students dropped\n"
     ]
    },
    {
     "name": "stderr",
     "output_type": "stream",
     "text": [
      "\r",
      " 54%|███████████████████████████████████████████▏                                    | 258/478 [02:23<02:03,  1.79it/s]"
     ]
    },
    {
     "name": "stdout",
     "output_type": "stream",
     "text": [
      "27 students pre-enrolled in ENTOM-3690\n",
      "0 data point is nan during processing\n",
      "Sanity check passed\n",
      "3 students dropped\n"
     ]
    },
    {
     "name": "stderr",
     "output_type": "stream",
     "text": [
      "\r",
      " 54%|███████████████████████████████████████████▎                                    | 259/478 [02:24<02:04,  1.75it/s]"
     ]
    },
    {
     "name": "stdout",
     "output_type": "stream",
     "text": [
      "380 students pre-enrolled in HADM-2550\n",
      "1 data point is nan during processing\n",
      "Sanity check passed\n",
      "1 students dropped\n"
     ]
    },
    {
     "name": "stderr",
     "output_type": "stream",
     "text": [
      "\r",
      " 54%|███████████████████████████████████████████▌                                    | 260/478 [02:24<02:00,  1.81it/s]"
     ]
    },
    {
     "name": "stdout",
     "output_type": "stream",
     "text": [
      "154 students pre-enrolled in ECE-2300\n",
      "0 data point is nan during processing\n",
      "Sanity check passed\n",
      "11 students dropped\n"
     ]
    },
    {
     "name": "stderr",
     "output_type": "stream",
     "text": [
      "\r",
      " 55%|███████████████████████████████████████████▋                                    | 261/478 [02:25<02:02,  1.78it/s]"
     ]
    },
    {
     "name": "stdout",
     "output_type": "stream",
     "text": [
      "90 students pre-enrolled in ASIAN-2218\n",
      "3 data point is nan during processing\n",
      "Sanity check passed\n",
      "15 students dropped\n"
     ]
    },
    {
     "name": "stderr",
     "output_type": "stream",
     "text": [
      "\r",
      " 55%|███████████████████████████████████████████▊                                    | 262/478 [02:25<01:57,  1.84it/s]"
     ]
    },
    {
     "name": "stdout",
     "output_type": "stream",
     "text": [
      "3 students pre-enrolled in ECE-5090\n",
      "0 data point is nan during processing\n",
      "Sanity check passed\n",
      "0 students dropped\n"
     ]
    },
    {
     "name": "stderr",
     "output_type": "stream",
     "text": [
      "\r",
      " 55%|████████████████████████████████████████████                                    | 263/478 [02:26<01:59,  1.80it/s]"
     ]
    },
    {
     "name": "stdout",
     "output_type": "stream",
     "text": [
      "67 students pre-enrolled in FDSC-4170\n",
      "0 data point is nan during processing\n",
      "Sanity check passed\n",
      "3 students dropped\n"
     ]
    },
    {
     "name": "stderr",
     "output_type": "stream",
     "text": [
      "\r",
      " 55%|████████████████████████████████████████████▏                                   | 264/478 [02:26<01:56,  1.84it/s]"
     ]
    },
    {
     "name": "stdout",
     "output_type": "stream",
     "text": [
      "14 students pre-enrolled in STSCI-5520\n",
      "0 data point is nan during processing\n",
      "Sanity check passed\n",
      "5 students dropped\n"
     ]
    },
    {
     "name": "stderr",
     "output_type": "stream",
     "text": [
      "\r",
      " 55%|████████████████████████████████████████████▎                                   | 265/478 [02:27<01:57,  1.81it/s]"
     ]
    },
    {
     "name": "stdout",
     "output_type": "stream",
     "text": [
      "85 students pre-enrolled in HADM-6280\n",
      "0 data point is nan during processing\n",
      "Sanity check passed\n",
      "3 students dropped\n"
     ]
    },
    {
     "name": "stderr",
     "output_type": "stream",
     "text": [
      "\r",
      " 56%|████████████████████████████████████████████▌                                   | 266/478 [02:27<01:59,  1.77it/s]"
     ]
    },
    {
     "name": "stdout",
     "output_type": "stream",
     "text": [
      "540 students pre-enrolled in BIOMI-2900\n",
      "1 data point is nan during processing\n",
      "Sanity check passed\n",
      "24 students dropped\n"
     ]
    },
    {
     "name": "stderr",
     "output_type": "stream",
     "text": [
      "\r",
      " 56%|████████████████████████████████████████████▋                                   | 267/478 [02:28<01:55,  1.82it/s]"
     ]
    },
    {
     "name": "stdout",
     "output_type": "stream",
     "text": [
      "84 students pre-enrolled in ECON-3670\n",
      "4 data point is nan during processing\n",
      "Sanity check passed\n",
      "18 students dropped\n"
     ]
    },
    {
     "name": "stderr",
     "output_type": "stream",
     "text": [
      "\r",
      " 56%|████████████████████████████████████████████▊                                   | 268/478 [02:29<01:57,  1.79it/s]"
     ]
    },
    {
     "name": "stdout",
     "output_type": "stream",
     "text": [
      "186 students pre-enrolled in CEE-5900\n",
      "2 data point is nan during processing\n",
      "Sanity check passed\n",
      "13 students dropped\n"
     ]
    },
    {
     "name": "stderr",
     "output_type": "stream",
     "text": [
      "\r",
      " 56%|█████████████████████████████████████████████                                   | 269/478 [02:29<01:57,  1.77it/s]"
     ]
    },
    {
     "name": "stdout",
     "output_type": "stream",
     "text": [
      "29 students pre-enrolled in LATIN-1202\n",
      "0 data point is nan during processing\n",
      "Sanity check passed\n",
      "0 students dropped\n"
     ]
    },
    {
     "name": "stderr",
     "output_type": "stream",
     "text": [
      "\r",
      " 56%|█████████████████████████████████████████████▏                                  | 270/478 [02:30<01:53,  1.83it/s]"
     ]
    },
    {
     "name": "stdout",
     "output_type": "stream",
     "text": [
      "43 students pre-enrolled in VISST-2000\n",
      "5 data point is nan during processing\n",
      "Sanity check passed\n",
      "18 students dropped\n"
     ]
    },
    {
     "name": "stderr",
     "output_type": "stream",
     "text": [
      "\r",
      " 57%|█████████████████████████████████████████████▎                                  | 271/478 [02:30<01:55,  1.79it/s]"
     ]
    },
    {
     "name": "stdout",
     "output_type": "stream",
     "text": [
      "112 students pre-enrolled in CEE-3610\n",
      "0 data point is nan during processing\n",
      "Sanity check passed\n",
      "11 students dropped\n"
     ]
    },
    {
     "name": "stderr",
     "output_type": "stream",
     "text": [
      "\r",
      " 57%|█████████████████████████████████████████████▌                                  | 272/478 [02:31<01:52,  1.83it/s]"
     ]
    },
    {
     "name": "stdout",
     "output_type": "stream",
     "text": [
      "5 students pre-enrolled in STSCI-5110\n",
      "2 data point is nan during processing\n",
      "Sanity check passed\n",
      "1 students dropped\n"
     ]
    },
    {
     "name": "stderr",
     "output_type": "stream",
     "text": [
      "\r",
      " 57%|█████████████████████████████████████████████▋                                  | 273/478 [02:31<01:53,  1.80it/s]"
     ]
    },
    {
     "name": "stdout",
     "output_type": "stream",
     "text": [
      "155 students pre-enrolled in ITAL-1202\n",
      "0 data point is nan during processing\n",
      "Sanity check passed\n",
      "8 students dropped\n"
     ]
    },
    {
     "name": "stderr",
     "output_type": "stream",
     "text": [
      "\r",
      " 57%|█████████████████████████████████████████████▊                                  | 274/478 [02:32<01:55,  1.77it/s]"
     ]
    },
    {
     "name": "stdout",
     "output_type": "stream",
     "text": [
      "10 students pre-enrolled in ILRLR-6300\n",
      "1 data point is nan during processing\n",
      "Sanity check passed\n",
      "1 students dropped\n"
     ]
    },
    {
     "name": "stderr",
     "output_type": "stream",
     "text": [
      "\r",
      " 58%|██████████████████████████████████████████████                                  | 275/478 [02:32<01:50,  1.83it/s]"
     ]
    },
    {
     "name": "stdout",
     "output_type": "stream",
     "text": [
      "6 students pre-enrolled in YORUB-2111\n",
      "0 data point is nan during processing\n",
      "Sanity check passed\n",
      "0 students dropped\n"
     ]
    },
    {
     "name": "stderr",
     "output_type": "stream",
     "text": [
      "\r",
      " 58%|██████████████████████████████████████████████▏                                 | 276/478 [02:33<01:52,  1.80it/s]"
     ]
    },
    {
     "name": "stdout",
     "output_type": "stream",
     "text": [
      "51 students pre-enrolled in INFO-3140\n",
      "1 data point is nan during processing\n",
      "Sanity check passed\n",
      "13 students dropped\n"
     ]
    },
    {
     "name": "stderr",
     "output_type": "stream",
     "text": [
      "\r",
      " 58%|██████████████████████████████████████████████▎                                 | 277/478 [02:33<01:48,  1.85it/s]"
     ]
    },
    {
     "name": "stdout",
     "output_type": "stream",
     "text": [
      "5 students pre-enrolled in MAE-4131\n",
      "0 data point is nan during processing\n",
      "Sanity check passed\n",
      "0 students dropped\n"
     ]
    },
    {
     "name": "stderr",
     "output_type": "stream",
     "text": [
      "\r",
      " 58%|██████████████████████████████████████████████▌                                 | 278/478 [02:34<01:50,  1.81it/s]"
     ]
    },
    {
     "name": "stdout",
     "output_type": "stream",
     "text": [
      "41 students pre-enrolled in PSYCH-3140\n",
      "0 data point is nan during processing\n",
      "Sanity check passed\n",
      "6 students dropped\n"
     ]
    },
    {
     "name": "stderr",
     "output_type": "stream",
     "text": [
      "\r",
      " 58%|██████████████████████████████████████████████▋                                 | 279/478 [02:35<01:48,  1.84it/s]"
     ]
    },
    {
     "name": "stdout",
     "output_type": "stream",
     "text": [
      "140 students pre-enrolled in AEM-2310\n",
      "0 data point is nan during processing\n",
      "Sanity check passed\n",
      "20 students dropped\n"
     ]
    },
    {
     "name": "stderr",
     "output_type": "stream",
     "text": [
      "\r",
      " 59%|██████████████████████████████████████████████▊                                 | 280/478 [02:35<01:50,  1.79it/s]"
     ]
    },
    {
     "name": "stdout",
     "output_type": "stream",
     "text": [
      "129 students pre-enrolled in ENMGT-6091\n",
      "0 data point is nan during processing\n",
      "Sanity check passed\n",
      "4 students dropped\n"
     ]
    },
    {
     "name": "stderr",
     "output_type": "stream",
     "text": [
      "\r",
      " 59%|███████████████████████████████████████████████                                 | 281/478 [02:36<01:51,  1.77it/s]"
     ]
    },
    {
     "name": "stdout",
     "output_type": "stream",
     "text": [
      "39 students pre-enrolled in MATH-2240\n",
      "0 data point is nan during processing\n",
      "Sanity check passed\n",
      "4 students dropped\n"
     ]
    },
    {
     "name": "stderr",
     "output_type": "stream",
     "text": [
      "\r",
      " 59%|███████████████████████████████████████████████▏                                | 282/478 [02:36<01:47,  1.82it/s]"
     ]
    },
    {
     "name": "stdout",
     "output_type": "stream",
     "text": [
      "113 students pre-enrolled in CRP-5590\n",
      "9 data point is nan during processing\n",
      "Sanity check passed\n",
      "13 students dropped\n"
     ]
    },
    {
     "name": "stderr",
     "output_type": "stream",
     "text": [
      "\r",
      " 59%|███████████████████████████████████████████████▎                                | 283/478 [02:37<01:53,  1.72it/s]"
     ]
    },
    {
     "name": "stdout",
     "output_type": "stream",
     "text": [
      "1932 students pre-enrolled in ECON-1110\n",
      "8 data point is nan during processing\n",
      "Sanity check passed\n",
      "74 students dropped\n"
     ]
    },
    {
     "name": "stderr",
     "output_type": "stream",
     "text": [
      "\r",
      " 59%|███████████████████████████████████████████████▌                                | 284/478 [02:37<01:53,  1.71it/s]"
     ]
    },
    {
     "name": "stdout",
     "output_type": "stream",
     "text": [
      "29 students pre-enrolled in PHIL-1620\n",
      "0 data point is nan during processing\n",
      "Sanity check passed\n",
      "9 students dropped\n"
     ]
    },
    {
     "name": "stderr",
     "output_type": "stream",
     "text": [
      "\r",
      " 60%|███████████████████████████████████████████████▋                                | 285/478 [02:38<01:48,  1.78it/s]"
     ]
    },
    {
     "name": "stdout",
     "output_type": "stream",
     "text": [
      "24 students pre-enrolled in ECON-6110\n",
      "0 data point is nan during processing\n",
      "Sanity check passed\n",
      "0 students dropped\n"
     ]
    },
    {
     "name": "stderr",
     "output_type": "stream",
     "text": [
      "\r",
      " 60%|███████████████████████████████████████████████▊                                | 286/478 [02:39<01:49,  1.76it/s]"
     ]
    },
    {
     "name": "stdout",
     "output_type": "stream",
     "text": [
      "28 students pre-enrolled in ORIE-7391\n",
      "0 data point is nan during processing\n",
      "Sanity check passed\n",
      "3 students dropped\n"
     ]
    },
    {
     "name": "stderr",
     "output_type": "stream",
     "text": [
      "\r",
      " 60%|████████████████████████████████████████████████                                | 287/478 [02:39<01:45,  1.81it/s]"
     ]
    },
    {
     "name": "stdout",
     "output_type": "stream",
     "text": [
      "98 students pre-enrolled in ECON-3140\n",
      "0 data point is nan during processing\n",
      "Sanity check passed\n",
      "24 students dropped\n"
     ]
    },
    {
     "name": "stderr",
     "output_type": "stream",
     "text": [
      "\r",
      " 60%|████████████████████████████████████████████████▏                               | 288/478 [02:40<01:46,  1.78it/s]"
     ]
    },
    {
     "name": "stdout",
     "output_type": "stream",
     "text": [
      "24 students pre-enrolled in EAS-3520\n",
      "0 data point is nan during processing\n",
      "Sanity check passed\n",
      "4 students dropped\n"
     ]
    },
    {
     "name": "stderr",
     "output_type": "stream",
     "text": [
      "\r",
      " 60%|████████████████████████████████████████████████▎                               | 289/478 [02:40<01:47,  1.75it/s]"
     ]
    },
    {
     "name": "stdout",
     "output_type": "stream",
     "text": [
      "51 students pre-enrolled in BIOMI-4040\n",
      "2 data point is nan during processing\n",
      "Sanity check passed\n",
      "8 students dropped\n"
     ]
    },
    {
     "name": "stderr",
     "output_type": "stream",
     "text": [
      "\r",
      " 61%|████████████████████████████████████████████████▌                               | 290/478 [02:41<01:44,  1.80it/s]"
     ]
    },
    {
     "name": "stdout",
     "output_type": "stream",
     "text": [
      "13 students pre-enrolled in CEE-6750\n",
      "0 data point is nan during processing\n",
      "Sanity check passed\n",
      "1 students dropped\n"
     ]
    },
    {
     "name": "stderr",
     "output_type": "stream",
     "text": [
      "\r",
      " 61%|████████████████████████████████████████████████▋                               | 291/478 [02:41<01:45,  1.77it/s]"
     ]
    },
    {
     "name": "stdout",
     "output_type": "stream",
     "text": [
      "16 students pre-enrolled in LATA-2200\n",
      "1 data point is nan during processing\n",
      "Sanity check passed\n",
      "4 students dropped\n"
     ]
    },
    {
     "name": "stderr",
     "output_type": "stream",
     "text": [
      "\r",
      " 61%|████████████████████████████████████████████████▊                               | 292/478 [02:42<01:42,  1.81it/s]"
     ]
    },
    {
     "name": "stdout",
     "output_type": "stream",
     "text": [
      "78 students pre-enrolled in INFO-4220\n",
      "2 data point is nan during processing\n",
      "Sanity check passed\n",
      "11 students dropped\n"
     ]
    },
    {
     "name": "stderr",
     "output_type": "stream",
     "text": [
      "\r",
      " 61%|█████████████████████████████████████████████████                               | 293/478 [02:42<01:43,  1.78it/s]"
     ]
    },
    {
     "name": "stdout",
     "output_type": "stream",
     "text": [
      "20 students pre-enrolled in ECE-5550\n",
      "2 data point is nan during processing\n",
      "Sanity check passed\n",
      "6 students dropped\n"
     ]
    },
    {
     "name": "stderr",
     "output_type": "stream",
     "text": [
      "\r",
      " 62%|█████████████████████████████████████████████████▏                              | 294/478 [02:43<01:41,  1.82it/s]"
     ]
    },
    {
     "name": "stdout",
     "output_type": "stream",
     "text": [
      "450 students pre-enrolled in NS-3410\n",
      "3 data point is nan during processing\n",
      "Sanity check passed\n",
      "32 students dropped\n"
     ]
    },
    {
     "name": "stderr",
     "output_type": "stream",
     "text": [
      "\r",
      " 62%|█████████████████████████████████████████████████▎                              | 295/478 [02:44<01:41,  1.80it/s]"
     ]
    },
    {
     "name": "stdout",
     "output_type": "stream",
     "text": [
      "83 students pre-enrolled in MATH-4740\n",
      "3 data point is nan during processing\n",
      "Sanity check passed\n",
      "16 students dropped\n"
     ]
    },
    {
     "name": "stderr",
     "output_type": "stream",
     "text": [
      "\r",
      " 62%|█████████████████████████████████████████████████▌                              | 296/478 [02:44<01:42,  1.77it/s]"
     ]
    },
    {
     "name": "stdout",
     "output_type": "stream",
     "text": [
      "5 students pre-enrolled in ORIE-1380\n",
      "0 data point is nan during processing\n",
      "Sanity check passed\n",
      "1 students dropped\n"
     ]
    },
    {
     "name": "stderr",
     "output_type": "stream",
     "text": [
      "\r",
      " 62%|█████████████████████████████████████████████████▋                              | 297/478 [02:45<01:39,  1.82it/s]"
     ]
    },
    {
     "name": "stdout",
     "output_type": "stream",
     "text": [
      "205 students pre-enrolled in CS-4852\n",
      "3 data point is nan during processing\n",
      "Sanity check passed\n",
      "38 students dropped\n"
     ]
    },
    {
     "name": "stderr",
     "output_type": "stream",
     "text": [
      "\r",
      " 62%|█████████████████████████████████████████████████▊                              | 298/478 [02:45<01:42,  1.76it/s]"
     ]
    },
    {
     "name": "stdout",
     "output_type": "stream",
     "text": [
      "700 students pre-enrolled in BIOEE-1780\n",
      "2 data point is nan during processing\n",
      "Sanity check passed\n",
      "59 students dropped\n"
     ]
    },
    {
     "name": "stderr",
     "output_type": "stream",
     "text": [
      "\r",
      " 63%|██████████████████████████████████████████████████                              | 299/478 [02:46<01:43,  1.73it/s]"
     ]
    },
    {
     "name": "stdout",
     "output_type": "stream",
     "text": [
      "44 students pre-enrolled in HIST-2958\n",
      "1 data point is nan during processing\n",
      "Sanity check passed\n",
      "12 students dropped\n"
     ]
    },
    {
     "name": "stderr",
     "output_type": "stream",
     "text": [
      "\r",
      " 63%|██████████████████████████████████████████████████▏                             | 300/478 [02:46<01:40,  1.78it/s]"
     ]
    },
    {
     "name": "stdout",
     "output_type": "stream",
     "text": [
      "297 students pre-enrolled in COGST-1101\n",
      "4 data point is nan during processing\n",
      "Sanity check passed\n",
      "58 students dropped\n"
     ]
    },
    {
     "name": "stderr",
     "output_type": "stream",
     "text": [
      "\r",
      " 63%|██████████████████████████████████████████████████▍                             | 301/478 [02:47<01:40,  1.75it/s]"
     ]
    },
    {
     "name": "stdout",
     "output_type": "stream",
     "text": [
      "171 students pre-enrolled in AEM-3100\n",
      "3 data point is nan during processing\n",
      "Sanity check passed\n",
      "15 students dropped\n"
     ]
    },
    {
     "name": "stderr",
     "output_type": "stream",
     "text": [
      "\r",
      " 63%|██████████████████████████████████████████████████▌                             | 302/478 [02:47<01:36,  1.82it/s]"
     ]
    },
    {
     "name": "stdout",
     "output_type": "stream",
     "text": [
      "106 students pre-enrolled in AEP-3200\n",
      "1 data point is nan during processing\n",
      "Sanity check passed\n",
      "2 students dropped\n"
     ]
    },
    {
     "name": "stderr",
     "output_type": "stream",
     "text": [
      "\r",
      " 63%|██████████████████████████████████████████████████▋                             | 303/478 [02:48<01:38,  1.78it/s]"
     ]
    },
    {
     "name": "stdout",
     "output_type": "stream",
     "text": [
      "448 students pre-enrolled in HD-1170\n",
      "3 data point is nan during processing\n",
      "Sanity check passed\n",
      "36 students dropped\n"
     ]
    },
    {
     "name": "stderr",
     "output_type": "stream",
     "text": [
      "\r",
      " 64%|██████████████████████████████████████████████████▉                             | 304/478 [02:49<01:39,  1.74it/s]"
     ]
    },
    {
     "name": "stdout",
     "output_type": "stream",
     "text": [
      "22 students pre-enrolled in BIOAP-3300\n",
      "0 data point is nan during processing\n",
      "Sanity check passed\n",
      "1 students dropped\n"
     ]
    },
    {
     "name": "stderr",
     "output_type": "stream",
     "text": [
      "\r",
      " 64%|███████████████████████████████████████████████████                             | 305/478 [02:49<01:35,  1.81it/s]"
     ]
    },
    {
     "name": "stdout",
     "output_type": "stream",
     "text": [
      "31 students pre-enrolled in ECON-3825\n",
      "0 data point is nan during processing\n",
      "Sanity check passed\n",
      "8 students dropped\n"
     ]
    },
    {
     "name": "stderr",
     "output_type": "stream",
     "text": [
      "\r",
      " 64%|███████████████████████████████████████████████████▏                            | 306/478 [02:50<01:36,  1.78it/s]"
     ]
    },
    {
     "name": "stdout",
     "output_type": "stream",
     "text": [
      "120 students pre-enrolled in ENGRD-2300\n",
      "0 data point is nan during processing\n",
      "Sanity check passed\n",
      "12 students dropped\n"
     ]
    },
    {
     "name": "stderr",
     "output_type": "stream",
     "text": [
      "\r",
      " 64%|███████████████████████████████████████████████████▍                            | 307/478 [02:50<01:36,  1.77it/s]"
     ]
    },
    {
     "name": "stdout",
     "output_type": "stream",
     "text": [
      "1745 students pre-enrolled in MATH-1920\n",
      "7 data point is nan during processing\n",
      "Sanity check passed\n",
      "66 students dropped\n"
     ]
    },
    {
     "name": "stderr",
     "output_type": "stream",
     "text": [
      "\r",
      " 64%|███████████████████████████████████████████████████▌                            | 308/478 [02:51<01:37,  1.75it/s]"
     ]
    },
    {
     "name": "stdout",
     "output_type": "stream",
     "text": [
      "10 students pre-enrolled in CHIN-1124\n",
      "0 data point is nan during processing\n",
      "Sanity check passed\n",
      "0 students dropped\n"
     ]
    },
    {
     "name": "stderr",
     "output_type": "stream",
     "text": [
      "\r",
      " 65%|███████████████████████████████████████████████████▋                            | 309/478 [02:51<01:33,  1.81it/s]"
     ]
    },
    {
     "name": "stdout",
     "output_type": "stream",
     "text": [
      "31 students pre-enrolled in BIOMI-3310\n",
      "0 data point is nan during processing\n",
      "Sanity check passed\n",
      "8 students dropped\n"
     ]
    },
    {
     "name": "stderr",
     "output_type": "stream",
     "text": [
      "\r",
      " 65%|███████████████████████████████████████████████████▉                            | 310/478 [02:52<01:34,  1.78it/s]"
     ]
    },
    {
     "name": "stdout",
     "output_type": "stream",
     "text": [
      "80 students pre-enrolled in STSCI-5550\n",
      "6 data point is nan during processing\n",
      "Sanity check passed\n",
      "16 students dropped\n"
     ]
    },
    {
     "name": "stderr",
     "output_type": "stream",
     "text": [
      "\r",
      " 65%|████████████████████████████████████████████████████                            | 311/478 [02:53<01:34,  1.76it/s]"
     ]
    },
    {
     "name": "stdout",
     "output_type": "stream",
     "text": [
      "33 students pre-enrolled in AEM-4225\n",
      "1 data point is nan during processing\n",
      "Sanity check passed\n",
      "2 students dropped\n"
     ]
    },
    {
     "name": "stderr",
     "output_type": "stream",
     "text": [
      "\r",
      " 65%|████████████████████████████████████████████████████▏                           | 312/478 [02:53<01:32,  1.80it/s]"
     ]
    },
    {
     "name": "stdout",
     "output_type": "stream",
     "text": [
      "322 students pre-enrolled in HADM-1350\n",
      "1 data point is nan during processing\n",
      "Sanity check passed\n",
      "1 students dropped\n"
     ]
    },
    {
     "name": "stderr",
     "output_type": "stream",
     "text": [
      "\r",
      " 65%|████████████████████████████████████████████████████▍                           | 313/478 [02:54<01:33,  1.76it/s]"
     ]
    },
    {
     "name": "stdout",
     "output_type": "stream",
     "text": [
      "678 students pre-enrolled in HADM-2250\n",
      "7 data point is nan during processing\n",
      "Sanity check passed\n",
      "24 students dropped\n"
     ]
    },
    {
     "name": "stderr",
     "output_type": "stream",
     "text": [
      "\r",
      " 66%|████████████████████████████████████████████████████▌                           | 314/478 [02:54<01:33,  1.75it/s]"
     ]
    },
    {
     "name": "stdout",
     "output_type": "stream",
     "text": [
      "59 students pre-enrolled in NTRES-3320\n",
      "3 data point is nan during processing\n",
      "Sanity check passed\n",
      "7 students dropped\n"
     ]
    },
    {
     "name": "stderr",
     "output_type": "stream",
     "text": [
      "\r",
      " 66%|████████████████████████████████████████████████████▋                           | 315/478 [02:55<01:30,  1.80it/s]"
     ]
    },
    {
     "name": "stdout",
     "output_type": "stream",
     "text": [
      "57 students pre-enrolled in PAM-3130\n",
      "3 data point is nan during processing\n",
      "Sanity check passed\n",
      "12 students dropped\n"
     ]
    },
    {
     "name": "stderr",
     "output_type": "stream",
     "text": [
      "\r",
      " 66%|████████████████████████████████████████████████████▉                           | 316/478 [02:55<01:34,  1.72it/s]"
     ]
    },
    {
     "name": "stdout",
     "output_type": "stream",
     "text": [
      "1482 students pre-enrolled in CHEM-2080\n",
      "4 data point is nan during processing\n",
      "Sanity check passed\n",
      "52 students dropped\n"
     ]
    },
    {
     "name": "stderr",
     "output_type": "stream",
     "text": [
      "\r",
      " 66%|█████████████████████████████████████████████████████                           | 317/478 [02:56<01:29,  1.79it/s]"
     ]
    },
    {
     "name": "stdout",
     "output_type": "stream",
     "text": [
      "32 students pre-enrolled in ENGRG-3900\n",
      "0 data point is nan during processing\n",
      "Sanity check passed\n",
      "0 students dropped\n"
     ]
    },
    {
     "name": "stderr",
     "output_type": "stream",
     "text": [
      "\r",
      " 67%|█████████████████████████████████████████████████████▏                          | 318/478 [02:57<01:31,  1.75it/s]"
     ]
    },
    {
     "name": "stdout",
     "output_type": "stream",
     "text": [
      "776 students pre-enrolled in CS-4820\n",
      "3 data point is nan during processing\n",
      "Sanity check passed\n",
      "30 students dropped\n"
     ]
    },
    {
     "name": "stderr",
     "output_type": "stream",
     "text": [
      "\r",
      " 67%|█████████████████████████████████████████████████████▍                          | 319/478 [02:57<01:31,  1.74it/s]"
     ]
    },
    {
     "name": "stdout",
     "output_type": "stream",
     "text": [
      "14 students pre-enrolled in PLBRG-7170\n",
      "1 data point is nan during processing\n",
      "Sanity check passed\n",
      "1 students dropped\n"
     ]
    },
    {
     "name": "stderr",
     "output_type": "stream",
     "text": [
      "\r",
      " 67%|█████████████████████████████████████████████████████▌                          | 320/478 [02:58<01:27,  1.80it/s]"
     ]
    },
    {
     "name": "stdout",
     "output_type": "stream",
     "text": [
      "46 students pre-enrolled in ORIE-5640\n",
      "0 data point is nan during processing\n",
      "Sanity check passed\n",
      "9 students dropped\n"
     ]
    },
    {
     "name": "stderr",
     "output_type": "stream",
     "text": [
      "\r",
      " 67%|█████████████████████████████████████████████████████▋                          | 321/478 [02:58<01:28,  1.77it/s]"
     ]
    },
    {
     "name": "stdout",
     "output_type": "stream",
     "text": [
      "11 students pre-enrolled in STSCI-3510\n",
      "0 data point is nan during processing\n",
      "Sanity check passed\n",
      "4 students dropped\n"
     ]
    },
    {
     "name": "stderr",
     "output_type": "stream",
     "text": [
      "\r",
      " 67%|█████████████████████████████████████████████████████▉                          | 322/478 [02:59<01:25,  1.82it/s]"
     ]
    },
    {
     "name": "stdout",
     "output_type": "stream",
     "text": [
      "14 students pre-enrolled in ENGL-3021\n",
      "1 data point is nan during processing\n",
      "Sanity check passed\n",
      "4 students dropped\n"
     ]
    },
    {
     "name": "stderr",
     "output_type": "stream",
     "text": [
      "\r",
      " 68%|██████████████████████████████████████████████████████                          | 323/478 [02:59<01:26,  1.79it/s]"
     ]
    },
    {
     "name": "stdout",
     "output_type": "stream",
     "text": [
      "84 students pre-enrolled in CS-5670\n",
      "1 data point is nan during processing\n",
      "Sanity check passed\n",
      "3 students dropped\n"
     ]
    },
    {
     "name": "stderr",
     "output_type": "stream",
     "text": [
      "\r",
      " 68%|██████████████████████████████████████████████████████▏                         | 324/478 [03:00<01:23,  1.84it/s]"
     ]
    },
    {
     "name": "stdout",
     "output_type": "stream",
     "text": [
      "16 students pre-enrolled in VIEN-3620\n",
      "0 data point is nan during processing\n",
      "Sanity check passed\n",
      "3 students dropped\n"
     ]
    },
    {
     "name": "stderr",
     "output_type": "stream",
     "text": [
      "\r",
      " 68%|██████████████████████████████████████████████████████▍                         | 325/478 [03:00<01:24,  1.81it/s]"
     ]
    },
    {
     "name": "stdout",
     "output_type": "stream",
     "text": [
      "52 students pre-enrolled in FDSC-5960\n",
      "1 data point is nan during processing\n",
      "Sanity check passed\n",
      "1 students dropped\n"
     ]
    },
    {
     "name": "stderr",
     "output_type": "stream",
     "text": [
      "\r",
      " 68%|██████████████████████████████████████████████████████▌                         | 326/478 [03:01<01:26,  1.76it/s]"
     ]
    },
    {
     "name": "stdout",
     "output_type": "stream",
     "text": [
      "459 students pre-enrolled in BIOMG-2800\n",
      "3 data point is nan during processing\n",
      "Sanity check passed\n",
      "35 students dropped\n"
     ]
    },
    {
     "name": "stderr",
     "output_type": "stream",
     "text": [
      "\r",
      " 68%|██████████████████████████████████████████████████████▋                         | 327/478 [03:02<01:22,  1.83it/s]"
     ]
    },
    {
     "name": "stdout",
     "output_type": "stream",
     "text": [
      "25 students pre-enrolled in ECE-5310\n",
      "2 data point is nan during processing\n",
      "Sanity check passed\n",
      "3 students dropped\n"
     ]
    },
    {
     "name": "stderr",
     "output_type": "stream",
     "text": [
      "\r",
      " 69%|██████████████████████████████████████████████████████▉                         | 328/478 [03:02<01:24,  1.78it/s]"
     ]
    },
    {
     "name": "stdout",
     "output_type": "stream",
     "text": [
      "139 students pre-enrolled in BME-2110\n",
      "0 data point is nan during processing\n",
      "Sanity check passed\n",
      "4 students dropped\n"
     ]
    },
    {
     "name": "stderr",
     "output_type": "stream",
     "text": [
      "\r",
      " 69%|███████████████████████████████████████████████████████                         | 329/478 [03:03<01:25,  1.75it/s]"
     ]
    },
    {
     "name": "stdout",
     "output_type": "stream",
     "text": [
      "44 students pre-enrolled in ENGRD-2100\n",
      "0 data point is nan during processing\n",
      "Sanity check passed\n",
      "2 students dropped\n"
     ]
    },
    {
     "name": "stderr",
     "output_type": "stream",
     "text": [
      "\r",
      " 69%|███████████████████████████████████████████████████████▏                        | 330/478 [03:03<01:25,  1.73it/s]"
     ]
    },
    {
     "name": "stdout",
     "output_type": "stream",
     "text": [
      "1622 students pre-enrolled in MATH-2940\n",
      "4 data point is nan during processing\n",
      "Sanity check passed\n",
      "49 students dropped\n"
     ]
    },
    {
     "name": "stderr",
     "output_type": "stream",
     "text": [
      "\r",
      " 69%|███████████████████████████████████████████████████████▍                        | 331/478 [03:04<01:25,  1.72it/s]"
     ]
    },
    {
     "name": "stdout",
     "output_type": "stream",
     "text": [
      "11 students pre-enrolled in GREEK-1104\n",
      "0 data point is nan during processing\n",
      "Sanity check passed\n",
      "2 students dropped\n"
     ]
    },
    {
     "name": "stderr",
     "output_type": "stream",
     "text": [
      "\r",
      " 69%|███████████████████████████████████████████████████████▌                        | 332/478 [03:04<01:21,  1.79it/s]"
     ]
    },
    {
     "name": "stdout",
     "output_type": "stream",
     "text": [
      "33 students pre-enrolled in CHIN-2202\n",
      "0 data point is nan during processing\n",
      "Sanity check passed\n",
      "0 students dropped\n"
     ]
    },
    {
     "name": "stderr",
     "output_type": "stream",
     "text": [
      "\r",
      " 70%|███████████████████████████████████████████████████████▋                        | 333/478 [03:05<01:22,  1.76it/s]"
     ]
    },
    {
     "name": "stdout",
     "output_type": "stream",
     "text": [
      "65 students pre-enrolled in MATH-3040\n",
      "1 data point is nan during processing\n",
      "Sanity check passed\n",
      "16 students dropped\n"
     ]
    },
    {
     "name": "stderr",
     "output_type": "stream",
     "text": [
      "\r",
      " 70%|███████████████████████████████████████████████████████▉                        | 334/478 [03:06<01:22,  1.74it/s]"
     ]
    },
    {
     "name": "stdout",
     "output_type": "stream",
     "text": [
      "27 students pre-enrolled in SPAN-2170\n",
      "2 data point is nan during processing\n",
      "Sanity check passed\n",
      "3 students dropped\n"
     ]
    },
    {
     "name": "stderr",
     "output_type": "stream",
     "text": [
      "\r",
      " 70%|████████████████████████████████████████████████████████                        | 335/478 [03:06<01:19,  1.79it/s]"
     ]
    },
    {
     "name": "stdout",
     "output_type": "stream",
     "text": [
      "264 students pre-enrolled in ILRLR-1100\n",
      "3 data point is nan during processing\n",
      "Sanity check passed\n",
      "2 students dropped\n"
     ]
    },
    {
     "name": "stderr",
     "output_type": "stream",
     "text": [
      "\r",
      " 70%|████████████████████████████████████████████████████████▏                       | 336/478 [03:07<01:20,  1.77it/s]"
     ]
    },
    {
     "name": "stdout",
     "output_type": "stream",
     "text": [
      "9 students pre-enrolled in BIOMS-3310\n",
      "0 data point is nan during processing\n",
      "Sanity check passed\n",
      "4 students dropped\n"
     ]
    },
    {
     "name": "stderr",
     "output_type": "stream",
     "text": [
      "\r",
      " 71%|████████████████████████████████████████████████████████▍                       | 337/478 [03:07<01:17,  1.82it/s]"
     ]
    },
    {
     "name": "stdout",
     "output_type": "stream",
     "text": [
      "156 students pre-enrolled in AEM-4210\n",
      "0 data point is nan during processing\n",
      "Sanity check passed\n",
      "13 students dropped\n"
     ]
    },
    {
     "name": "stderr",
     "output_type": "stream",
     "text": [
      "\r",
      " 71%|████████████████████████████████████████████████████████▌                       | 338/478 [03:08<01:18,  1.79it/s]"
     ]
    },
    {
     "name": "stdout",
     "output_type": "stream",
     "text": [
      "103 students pre-enrolled in PHYS-3318\n",
      "2 data point is nan during processing\n",
      "Sanity check passed\n",
      "3 students dropped\n"
     ]
    },
    {
     "name": "stderr",
     "output_type": "stream",
     "text": [
      "\r",
      " 71%|████████████████████████████████████████████████████████▋                       | 339/478 [03:08<01:15,  1.84it/s]"
     ]
    },
    {
     "name": "stdout",
     "output_type": "stream",
     "text": [
      "78 students pre-enrolled in CHEME-3900\n",
      "0 data point is nan during processing\n",
      "Sanity check passed\n",
      "1 students dropped\n"
     ]
    },
    {
     "name": "stderr",
     "output_type": "stream",
     "text": [
      "\r",
      " 71%|████████████████████████████████████████████████████████▉                       | 340/478 [03:09<01:17,  1.79it/s]"
     ]
    },
    {
     "name": "stdout",
     "output_type": "stream",
     "text": [
      "122 students pre-enrolled in HADM-4280\n",
      "2 data point is nan during processing\n",
      "Sanity check passed\n",
      "5 students dropped\n"
     ]
    },
    {
     "name": "stderr",
     "output_type": "stream",
     "text": [
      "\r",
      " 71%|█████████████████████████████████████████████████████████                       | 341/478 [03:09<01:17,  1.76it/s]"
     ]
    },
    {
     "name": "stdout",
     "output_type": "stream",
     "text": [
      "33 students pre-enrolled in ECE-5320\n",
      "3 data point is nan during processing\n",
      "Sanity check passed\n",
      "7 students dropped\n"
     ]
    },
    {
     "name": "stderr",
     "output_type": "stream",
     "text": [
      "\r",
      " 72%|█████████████████████████████████████████████████████████▏                      | 342/478 [03:10<01:14,  1.82it/s]"
     ]
    },
    {
     "name": "stdout",
     "output_type": "stream",
     "text": [
      "64 students pre-enrolled in CHEM-3010\n",
      "0 data point is nan during processing\n",
      "Sanity check passed\n",
      "8 students dropped\n"
     ]
    },
    {
     "name": "stderr",
     "output_type": "stream",
     "text": [
      "\r",
      " 72%|█████████████████████████████████████████████████████████▍                      | 343/478 [03:11<01:15,  1.80it/s]"
     ]
    },
    {
     "name": "stdout",
     "output_type": "stream",
     "text": [
      "18 students pre-enrolled in CEE-4330\n",
      "0 data point is nan during processing\n",
      "Sanity check passed\n",
      "5 students dropped\n"
     ]
    },
    {
     "name": "stderr",
     "output_type": "stream",
     "text": [
      "\r",
      " 72%|█████████████████████████████████████████████████████████▌                      | 344/478 [03:11<01:15,  1.77it/s]"
     ]
    },
    {
     "name": "stdout",
     "output_type": "stream",
     "text": [
      "19 students pre-enrolled in LATIN-2201\n",
      "0 data point is nan during processing\n",
      "Sanity check passed\n",
      "2 students dropped\n"
     ]
    },
    {
     "name": "stderr",
     "output_type": "stream",
     "text": [
      "\r",
      " 72%|█████████████████████████████████████████████████████████▋                      | 345/478 [03:12<01:13,  1.81it/s]"
     ]
    },
    {
     "name": "stdout",
     "output_type": "stream",
     "text": [
      "465 students pre-enrolled in CHEM-1570\n",
      "2 data point is nan during processing\n",
      "Sanity check passed\n",
      "26 students dropped\n"
     ]
    },
    {
     "name": "stderr",
     "output_type": "stream",
     "text": [
      "\r",
      " 72%|█████████████████████████████████████████████████████████▉                      | 346/478 [03:12<01:14,  1.77it/s]"
     ]
    },
    {
     "name": "stdout",
     "output_type": "stream",
     "text": [
      "373 students pre-enrolled in HADM-2360\n",
      "1 data point is nan during processing\n",
      "Sanity check passed\n",
      "2 students dropped\n"
     ]
    },
    {
     "name": "stderr",
     "output_type": "stream",
     "text": [
      "\r",
      " 73%|██████████████████████████████████████████████████████████                      | 347/478 [03:13<01:12,  1.82it/s]"
     ]
    },
    {
     "name": "stdout",
     "output_type": "stream",
     "text": [
      "121 students pre-enrolled in ENGRI-1130\n",
      "1 data point is nan during processing\n",
      "Sanity check passed\n",
      "19 students dropped\n"
     ]
    },
    {
     "name": "stderr",
     "output_type": "stream",
     "text": [
      "\r",
      " 73%|██████████████████████████████████████████████████████████▏                     | 348/478 [03:13<01:13,  1.78it/s]"
     ]
    },
    {
     "name": "stdout",
     "output_type": "stream",
     "text": [
      "89 students pre-enrolled in CRP-6560\n",
      "1 data point is nan during processing\n",
      "Sanity check passed\n",
      "5 students dropped\n"
     ]
    },
    {
     "name": "stderr",
     "output_type": "stream",
     "text": [
      "\r",
      " 73%|██████████████████████████████████████████████████████████▍                     | 349/478 [03:14<01:10,  1.84it/s]"
     ]
    },
    {
     "name": "stdout",
     "output_type": "stream",
     "text": [
      "9 students pre-enrolled in GREEK-3120\n",
      "0 data point is nan during processing\n",
      "Sanity check passed\n",
      "0 students dropped\n"
     ]
    },
    {
     "name": "stderr",
     "output_type": "stream",
     "text": [
      "\r",
      " 73%|██████████████████████████████████████████████████████████▌                     | 350/478 [03:14<01:11,  1.80it/s]"
     ]
    },
    {
     "name": "stdout",
     "output_type": "stream",
     "text": [
      "25 students pre-enrolled in CEE-6550\n",
      "1 data point is nan during processing\n",
      "Sanity check passed\n",
      "3 students dropped\n"
     ]
    },
    {
     "name": "stderr",
     "output_type": "stream",
     "text": [
      "\r",
      " 73%|██████████████████████████████████████████████████████████▋                     | 351/478 [03:15<01:12,  1.75it/s]"
     ]
    },
    {
     "name": "stdout",
     "output_type": "stream",
     "text": [
      "290 students pre-enrolled in HADM-2430\n",
      "1 data point is nan during processing\n",
      "Sanity check passed\n",
      "52 students dropped\n"
     ]
    },
    {
     "name": "stderr",
     "output_type": "stream",
     "text": [
      "\r",
      " 74%|██████████████████████████████████████████████████████████▉                     | 352/478 [03:16<01:10,  1.79it/s]"
     ]
    },
    {
     "name": "stdout",
     "output_type": "stream",
     "text": [
      "281 students pre-enrolled in HADM-1150\n",
      "0 data point is nan during processing\n",
      "Sanity check passed\n",
      "61 students dropped\n"
     ]
    },
    {
     "name": "stderr",
     "output_type": "stream",
     "text": [
      "\r",
      " 74%|███████████████████████████████████████████████████████████                     | 353/478 [03:16<01:10,  1.77it/s]"
     ]
    },
    {
     "name": "stdout",
     "output_type": "stream",
     "text": [
      "70 students pre-enrolled in BIOAP-2140\n",
      "1 data point is nan during processing\n",
      "Sanity check passed\n",
      "9 students dropped\n"
     ]
    },
    {
     "name": "stderr",
     "output_type": "stream",
     "text": [
      "\r",
      " 74%|███████████████████████████████████████████████████████████▏                    | 354/478 [03:17<01:07,  1.83it/s]"
     ]
    },
    {
     "name": "stdout",
     "output_type": "stream",
     "text": [
      "38 students pre-enrolled in BIOEE-3690\n",
      "0 data point is nan during processing\n",
      "Sanity check passed\n",
      "6 students dropped\n"
     ]
    },
    {
     "name": "stderr",
     "output_type": "stream",
     "text": [
      "\r",
      " 74%|███████████████████████████████████████████████████████████▍                    | 355/478 [03:17<01:08,  1.80it/s]"
     ]
    },
    {
     "name": "stdout",
     "output_type": "stream",
     "text": [
      "38 students pre-enrolled in CEE-4665\n",
      "0 data point is nan during processing\n",
      "Sanity check passed\n",
      "5 students dropped\n"
     ]
    },
    {
     "name": "stderr",
     "output_type": "stream",
     "text": [
      "\r",
      " 74%|███████████████████████████████████████████████████████████▌                    | 356/478 [03:18<01:08,  1.77it/s]"
     ]
    },
    {
     "name": "stdout",
     "output_type": "stream",
     "text": [
      "91 students pre-enrolled in ANSC-2000\n",
      "1 data point is nan during processing\n",
      "Sanity check passed\n",
      "12 students dropped\n"
     ]
    },
    {
     "name": "stderr",
     "output_type": "stream",
     "text": [
      "\r",
      " 75%|███████████████████████████████████████████████████████████▋                    | 357/478 [03:18<01:06,  1.83it/s]"
     ]
    },
    {
     "name": "stdout",
     "output_type": "stream",
     "text": [
      "39 students pre-enrolled in ITAL-2202\n",
      "1 data point is nan during processing\n",
      "Sanity check passed\n",
      "7 students dropped\n"
     ]
    },
    {
     "name": "stderr",
     "output_type": "stream",
     "text": [
      "\r",
      " 75%|███████████████████████████████████████████████████████████▉                    | 358/478 [03:19<01:07,  1.78it/s]"
     ]
    },
    {
     "name": "stdout",
     "output_type": "stream",
     "text": [
      "190 students pre-enrolled in ECE-2720\n",
      "1 data point is nan during processing\n",
      "Sanity check passed\n",
      "24 students dropped\n"
     ]
    },
    {
     "name": "stderr",
     "output_type": "stream",
     "text": [
      "\r",
      " 75%|████████████████████████████████████████████████████████████                    | 359/478 [03:20<01:07,  1.76it/s]"
     ]
    },
    {
     "name": "stdout",
     "output_type": "stream",
     "text": [
      "66 students pre-enrolled in VIEN-2360\n",
      "0 data point is nan during processing\n",
      "Sanity check passed\n",
      "6 students dropped\n"
     ]
    },
    {
     "name": "stderr",
     "output_type": "stream",
     "text": [
      "\r",
      " 75%|████████████████████████████████████████████████████████████▎                   | 360/478 [03:20<01:04,  1.82it/s]"
     ]
    },
    {
     "name": "stdout",
     "output_type": "stream",
     "text": [
      "22 students pre-enrolled in CLASS-3645\n",
      "0 data point is nan during processing\n",
      "Sanity check passed\n",
      "6 students dropped\n"
     ]
    },
    {
     "name": "stderr",
     "output_type": "stream",
     "text": [
      "\r",
      " 76%|████████████████████████████████████████████████████████████▍                   | 361/478 [03:21<01:05,  1.79it/s]"
     ]
    },
    {
     "name": "stdout",
     "output_type": "stream",
     "text": [
      "6 students pre-enrolled in PLBIO-6880\n",
      "0 data point is nan during processing\n",
      "Sanity check passed\n",
      "2 students dropped\n"
     ]
    },
    {
     "name": "stderr",
     "output_type": "stream",
     "text": [
      "\r",
      " 76%|████████████████████████████████████████████████████████████▌                   | 362/478 [03:21<01:03,  1.83it/s]"
     ]
    },
    {
     "name": "stdout",
     "output_type": "stream",
     "text": [
      "36 students pre-enrolled in AEM-5210\n",
      "2 data point is nan during processing\n",
      "Sanity check passed\n",
      "4 students dropped\n"
     ]
    },
    {
     "name": "stderr",
     "output_type": "stream",
     "text": [
      "\r",
      " 76%|████████████████████████████████████████████████████████████▊                   | 363/478 [03:22<01:04,  1.79it/s]"
     ]
    },
    {
     "name": "stdout",
     "output_type": "stream",
     "text": [
      "51 students pre-enrolled in ASRC-1500\n",
      "0 data point is nan during processing\n",
      "Sanity check passed\n",
      "7 students dropped\n"
     ]
    },
    {
     "name": "stderr",
     "output_type": "stream",
     "text": [
      "\r",
      " 76%|████████████████████████████████████████████████████████████▉                   | 364/478 [03:22<01:04,  1.76it/s]"
     ]
    },
    {
     "name": "stdout",
     "output_type": "stream",
     "text": [
      "15 students pre-enrolled in MAE-5135\n",
      "0 data point is nan during processing\n",
      "Sanity check passed\n",
      "1 students dropped\n"
     ]
    },
    {
     "name": "stderr",
     "output_type": "stream",
     "text": [
      "\r",
      " 76%|█████████████████████████████████████████████████████████████                   | 365/478 [03:23<01:04,  1.75it/s]"
     ]
    },
    {
     "name": "stdout",
     "output_type": "stream",
     "text": [
      "1669 students pre-enrolled in CS-2110\n",
      "20 data point is nan during processing\n",
      "Sanity check passed\n",
      "116 students dropped\n"
     ]
    },
    {
     "name": "stderr",
     "output_type": "stream",
     "text": [
      "\r",
      " 77%|█████████████████████████████████████████████████████████████▎                  | 366/478 [03:23<01:04,  1.74it/s]"
     ]
    },
    {
     "name": "stdout",
     "output_type": "stream",
     "text": [
      "52 students pre-enrolled in CHEM-6660\n",
      "1 data point is nan during processing\n",
      "Sanity check passed\n",
      "5 students dropped\n"
     ]
    },
    {
     "name": "stderr",
     "output_type": "stream",
     "text": [
      "\r",
      " 77%|█████████████████████████████████████████████████████████████▍                  | 367/478 [03:24<01:01,  1.79it/s]"
     ]
    },
    {
     "name": "stdout",
     "output_type": "stream",
     "text": [
      "225 students pre-enrolled in ENMGT-5900\n",
      "6 data point is nan during processing\n",
      "Sanity check passed\n",
      "11 students dropped\n"
     ]
    },
    {
     "name": "stderr",
     "output_type": "stream",
     "text": [
      "\r",
      " 77%|█████████████████████████████████████████████████████████████▌                  | 368/478 [03:25<01:02,  1.75it/s]"
     ]
    },
    {
     "name": "stdout",
     "output_type": "stream",
     "text": [
      "87 students pre-enrolled in NTRES-1201\n",
      "1 data point is nan during processing\n",
      "Sanity check passed\n",
      "7 students dropped\n"
     ]
    },
    {
     "name": "stderr",
     "output_type": "stream",
     "text": [
      "\r",
      " 77%|█████████████████████████████████████████████████████████████▊                  | 369/478 [03:25<01:02,  1.74it/s]"
     ]
    },
    {
     "name": "stdout",
     "output_type": "stream",
     "text": [
      "17 students pre-enrolled in PLBIO-3880\n",
      "0 data point is nan during processing\n",
      "Sanity check passed\n",
      "6 students dropped\n"
     ]
    },
    {
     "name": "stderr",
     "output_type": "stream",
     "text": [
      "\r",
      " 77%|█████████████████████████████████████████████████████████████▉                  | 370/478 [03:26<01:00,  1.77it/s]"
     ]
    },
    {
     "name": "stdout",
     "output_type": "stream",
     "text": [
      "801 students pre-enrolled in CHEM-2090\n",
      "1 data point is nan during processing\n",
      "Sanity check passed\n",
      "39 students dropped\n"
     ]
    },
    {
     "name": "stderr",
     "output_type": "stream",
     "text": [
      "\r",
      " 78%|██████████████████████████████████████████████████████████████                  | 371/478 [03:26<01:01,  1.75it/s]"
     ]
    },
    {
     "name": "stdout",
     "output_type": "stream",
     "text": [
      "186 students pre-enrolled in SOC-2208\n",
      "5 data point is nan during processing\n",
      "Sanity check passed\n",
      "26 students dropped\n"
     ]
    },
    {
     "name": "stderr",
     "output_type": "stream",
     "text": [
      "\r",
      " 78%|██████████████████████████████████████████████████████████████▎                 | 372/478 [03:27<00:58,  1.80it/s]"
     ]
    },
    {
     "name": "stdout",
     "output_type": "stream",
     "text": [
      "57 students pre-enrolled in MATH-4180\n",
      "0 data point is nan during processing\n",
      "Sanity check passed\n",
      "10 students dropped\n"
     ]
    },
    {
     "name": "stderr",
     "output_type": "stream",
     "text": [
      "\r",
      " 78%|██████████████████████████████████████████████████████████████▍                 | 373/478 [03:27<00:58,  1.78it/s]"
     ]
    },
    {
     "name": "stdout",
     "output_type": "stream",
     "text": [
      "78 students pre-enrolled in CHIN-1102\n",
      "2 data point is nan during processing\n",
      "Sanity check passed\n",
      "2 students dropped\n"
     ]
    },
    {
     "name": "stderr",
     "output_type": "stream",
     "text": [
      "\r",
      " 78%|██████████████████████████████████████████████████████████████▌                 | 374/478 [03:28<00:59,  1.74it/s]"
     ]
    },
    {
     "name": "stdout",
     "output_type": "stream",
     "text": [
      "229 students pre-enrolled in ORIE-3510\n",
      "5 data point is nan during processing\n",
      "Sanity check passed\n",
      "13 students dropped\n"
     ]
    },
    {
     "name": "stderr",
     "output_type": "stream",
     "text": [
      "\r",
      " 78%|██████████████████████████████████████████████████████████████▊                 | 375/478 [03:29<00:57,  1.80it/s]"
     ]
    },
    {
     "name": "stdout",
     "output_type": "stream",
     "text": [
      "34 students pre-enrolled in ILRHR-5607\n",
      "0 data point is nan during processing\n",
      "Sanity check passed\n",
      "2 students dropped\n"
     ]
    },
    {
     "name": "stderr",
     "output_type": "stream",
     "text": [
      "\r",
      " 79%|██████████████████████████████████████████████████████████████▉                 | 376/478 [03:29<00:58,  1.76it/s]"
     ]
    },
    {
     "name": "stdout",
     "output_type": "stream",
     "text": [
      "55 students pre-enrolled in PLSCI-3940\n",
      "1 data point is nan during processing\n",
      "Sanity check passed\n",
      "4 students dropped\n"
     ]
    },
    {
     "name": "stderr",
     "output_type": "stream",
     "text": [
      "\r",
      " 79%|███████████████████████████████████████████████████████████████                 | 377/478 [03:30<00:58,  1.73it/s]"
     ]
    },
    {
     "name": "stdout",
     "output_type": "stream",
     "text": [
      "28 students pre-enrolled in BIOMG-6391\n",
      "1 data point is nan during processing\n",
      "Sanity check passed\n",
      "5 students dropped\n"
     ]
    },
    {
     "name": "stderr",
     "output_type": "stream",
     "text": [
      "\r",
      " 79%|███████████████████████████████████████████████████████████████▎                | 378/478 [03:30<00:55,  1.80it/s]"
     ]
    },
    {
     "name": "stdout",
     "output_type": "stream",
     "text": [
      "74 students pre-enrolled in CHEME-3320\n",
      "0 data point is nan during processing\n",
      "Sanity check passed\n",
      "1 students dropped\n"
     ]
    },
    {
     "name": "stderr",
     "output_type": "stream",
     "text": [
      "\r",
      " 79%|███████████████████████████████████████████████████████████████▍                | 379/478 [03:31<00:56,  1.77it/s]"
     ]
    },
    {
     "name": "stdout",
     "output_type": "stream",
     "text": [
      "180 students pre-enrolled in ANSC-2210\n",
      "2 data point is nan during processing\n",
      "Sanity check passed\n",
      "5 students dropped\n"
     ]
    },
    {
     "name": "stderr",
     "output_type": "stream",
     "text": [
      "\r",
      " 79%|███████████████████████████████████████████████████████████████▌                | 380/478 [03:31<00:53,  1.83it/s]"
     ]
    },
    {
     "name": "stdout",
     "output_type": "stream",
     "text": [
      "4 students pre-enrolled in ECE-4910\n",
      "0 data point is nan during processing\n",
      "Sanity check passed\n",
      "1 students dropped\n"
     ]
    },
    {
     "name": "stderr",
     "output_type": "stream",
     "text": [
      "\r",
      " 80%|███████████████████████████████████████████████████████████████▊                | 381/478 [03:32<00:54,  1.79it/s]"
     ]
    },
    {
     "name": "stdout",
     "output_type": "stream",
     "text": [
      "154 students pre-enrolled in PAM-3100\n",
      "4 data point is nan during processing\n",
      "Sanity check passed\n",
      "6 students dropped\n"
     ]
    },
    {
     "name": "stderr",
     "output_type": "stream",
     "text": [
      "\r",
      " 80%|███████████████████████████████████████████████████████████████▉                | 382/478 [03:32<00:52,  1.83it/s]"
     ]
    },
    {
     "name": "stdout",
     "output_type": "stream",
     "text": [
      "67 students pre-enrolled in BTRY-4090\n",
      "0 data point is nan during processing\n",
      "Sanity check passed\n",
      "6 students dropped\n"
     ]
    },
    {
     "name": "stderr",
     "output_type": "stream",
     "text": [
      "\r",
      " 80%|████████████████████████████████████████████████████████████████                | 383/478 [03:33<00:53,  1.79it/s]"
     ]
    },
    {
     "name": "stdout",
     "output_type": "stream",
     "text": [
      "44 students pre-enrolled in PHIL-2310\n",
      "2 data point is nan during processing\n",
      "Sanity check passed\n",
      "6 students dropped\n"
     ]
    },
    {
     "name": "stderr",
     "output_type": "stream",
     "text": [
      "\r",
      " 80%|████████████████████████████████████████████████████████████████▎               | 384/478 [03:34<00:53,  1.76it/s]"
     ]
    },
    {
     "name": "stdout",
     "output_type": "stream",
     "text": [
      "173 students pre-enrolled in ORIE-5270\n",
      "4 data point is nan during processing\n",
      "Sanity check passed\n",
      "7 students dropped\n"
     ]
    },
    {
     "name": "stderr",
     "output_type": "stream",
     "text": [
      "\r",
      " 81%|████████████████████████████████████████████████████████████████▍               | 385/478 [03:34<00:53,  1.75it/s]"
     ]
    },
    {
     "name": "stdout",
     "output_type": "stream",
     "text": [
      "1523 students pre-enrolled in ECON-1120\n",
      "3 data point is nan during processing\n",
      "Sanity check passed\n",
      "121 students dropped\n"
     ]
    },
    {
     "name": "stderr",
     "output_type": "stream",
     "text": [
      "\r",
      " 81%|████████████████████████████████████████████████████████████████▌               | 386/478 [03:35<00:52,  1.74it/s]"
     ]
    },
    {
     "name": "stdout",
     "output_type": "stream",
     "text": [
      "100 students pre-enrolled in PHYS-2218\n",
      "0 data point is nan during processing\n",
      "Sanity check passed\n",
      "14 students dropped\n"
     ]
    },
    {
     "name": "stderr",
     "output_type": "stream",
     "text": [
      "\r",
      " 81%|████████████████████████████████████████████████████████████████▊               | 387/478 [03:35<00:52,  1.72it/s]"
     ]
    },
    {
     "name": "stdout",
     "output_type": "stream",
     "text": [
      "46 students pre-enrolled in CEE-4750\n",
      "0 data point is nan during processing\n",
      "Sanity check passed\n",
      "7 students dropped\n"
     ]
    },
    {
     "name": "stderr",
     "output_type": "stream",
     "text": [
      "\r",
      " 81%|████████████████████████████████████████████████████████████████▉               | 388/478 [03:36<00:50,  1.78it/s]"
     ]
    },
    {
     "name": "stdout",
     "output_type": "stream",
     "text": [
      "369 students pre-enrolled in HADM-2210\n",
      "1 data point is nan during processing\n",
      "Sanity check passed\n",
      "2 students dropped\n"
     ]
    },
    {
     "name": "stderr",
     "output_type": "stream",
     "text": [
      "\r",
      " 81%|█████████████████████████████████████████████████████████████████               | 389/478 [03:36<00:50,  1.75it/s]"
     ]
    },
    {
     "name": "stdout",
     "output_type": "stream",
     "text": [
      "288 students pre-enrolled in PHIL-1100\n",
      "4 data point is nan during processing\n",
      "Sanity check passed\n",
      "94 students dropped\n"
     ]
    },
    {
     "name": "stderr",
     "output_type": "stream",
     "text": [
      "\r",
      " 82%|█████████████████████████████████████████████████████████████████▎              | 390/478 [03:37<00:48,  1.81it/s]"
     ]
    },
    {
     "name": "stdout",
     "output_type": "stream",
     "text": [
      "80 students pre-enrolled in FDSC-3960\n",
      "0 data point is nan during processing\n",
      "Sanity check passed\n",
      "5 students dropped\n"
     ]
    },
    {
     "name": "stderr",
     "output_type": "stream",
     "text": [
      "\r",
      " 82%|█████████████████████████████████████████████████████████████████▍              | 391/478 [03:38<00:49,  1.77it/s]"
     ]
    },
    {
     "name": "stdout",
     "output_type": "stream",
     "text": [
      "522 students pre-enrolled in AEM-2420\n",
      "0 data point is nan during processing\n",
      "Sanity check passed\n",
      "2 students dropped\n"
     ]
    },
    {
     "name": "stderr",
     "output_type": "stream",
     "text": [
      "\r",
      " 82%|█████████████████████████████████████████████████████████████████▌              | 392/478 [03:38<00:47,  1.81it/s]"
     ]
    },
    {
     "name": "stdout",
     "output_type": "stream",
     "text": [
      "457 students pre-enrolled in ENGRD-2020\n",
      "0 data point is nan during processing\n",
      "Sanity check passed\n",
      "16 students dropped\n"
     ]
    },
    {
     "name": "stderr",
     "output_type": "stream",
     "text": [
      "\r",
      " 82%|█████████████████████████████████████████████████████████████████▊              | 393/478 [03:39<00:47,  1.78it/s]"
     ]
    },
    {
     "name": "stdout",
     "output_type": "stream",
     "text": [
      "6 students pre-enrolled in PORT-1220\n",
      "0 data point is nan during processing\n",
      "Sanity check passed\n",
      "0 students dropped\n"
     ]
    },
    {
     "name": "stderr",
     "output_type": "stream",
     "text": [
      "\r",
      " 82%|█████████████████████████████████████████████████████████████████▉              | 394/478 [03:39<00:47,  1.75it/s]"
     ]
    },
    {
     "name": "stdout",
     "output_type": "stream",
     "text": [
      "20 students pre-enrolled in ASTRO-1104\n",
      "1 data point is nan during processing\n",
      "Sanity check passed\n",
      "3 students dropped\n"
     ]
    },
    {
     "name": "stderr",
     "output_type": "stream",
     "text": [
      "\r",
      " 83%|██████████████████████████████████████████████████████████████████              | 395/478 [03:40<00:46,  1.80it/s]"
     ]
    },
    {
     "name": "stdout",
     "output_type": "stream",
     "text": [
      "9 students pre-enrolled in GREEK-2103\n",
      "0 data point is nan during processing\n",
      "Sanity check passed\n",
      "2 students dropped\n"
     ]
    },
    {
     "name": "stderr",
     "output_type": "stream",
     "text": [
      "\r",
      " 83%|██████████████████████████████████████████████████████████████████▎             | 396/478 [03:40<00:46,  1.77it/s]"
     ]
    },
    {
     "name": "stdout",
     "output_type": "stream",
     "text": [
      "5 students pre-enrolled in BME-4910\n",
      "0 data point is nan during processing\n",
      "Sanity check passed\n",
      "0 students dropped\n"
     ]
    },
    {
     "name": "stderr",
     "output_type": "stream",
     "text": [
      "\r",
      " 83%|██████████████████████████████████████████████████████████████████▍             | 397/478 [03:41<00:46,  1.75it/s]"
     ]
    },
    {
     "name": "stdout",
     "output_type": "stream",
     "text": [
      "82 students pre-enrolled in ANSC-3300\n",
      "1 data point is nan during processing\n",
      "Sanity check passed\n",
      "5 students dropped\n"
     ]
    },
    {
     "name": "stderr",
     "output_type": "stream",
     "text": [
      "\r",
      " 83%|██████████████████████████████████████████████████████████████████▌             | 398/478 [03:41<00:44,  1.79it/s]"
     ]
    },
    {
     "name": "stdout",
     "output_type": "stream",
     "text": [
      "383 students pre-enrolled in ENGRD-2110\n",
      "1 data point is nan during processing\n",
      "Sanity check passed\n",
      "12 students dropped\n"
     ]
    },
    {
     "name": "stderr",
     "output_type": "stream",
     "text": [
      "\r",
      " 83%|██████████████████████████████████████████████████████████████████▊             | 399/478 [03:42<00:44,  1.77it/s]"
     ]
    },
    {
     "name": "stdout",
     "output_type": "stream",
     "text": [
      "50 students pre-enrolled in MSE-5210\n",
      "1 data point is nan during processing\n",
      "Sanity check passed\n",
      "1 students dropped\n"
     ]
    },
    {
     "name": "stderr",
     "output_type": "stream",
     "text": [
      "\r",
      " 84%|██████████████████████████████████████████████████████████████████▉             | 400/478 [03:43<00:42,  1.82it/s]"
     ]
    },
    {
     "name": "stdout",
     "output_type": "stream",
     "text": [
      "8 students pre-enrolled in ITAL-2204\n",
      "0 data point is nan during processing\n",
      "Sanity check passed\n",
      "2 students dropped\n"
     ]
    },
    {
     "name": "stderr",
     "output_type": "stream",
     "text": [
      "\r",
      " 84%|███████████████████████████████████████████████████████████████████             | 401/478 [03:43<00:43,  1.79it/s]"
     ]
    },
    {
     "name": "stdout",
     "output_type": "stream",
     "text": [
      "91 students pre-enrolled in PLSCI-1150\n",
      "3 data point is nan during processing\n",
      "Sanity check passed\n",
      "20 students dropped\n"
     ]
    },
    {
     "name": "stderr",
     "output_type": "stream",
     "text": [
      "\r",
      " 84%|███████████████████████████████████████████████████████████████████▎            | 402/478 [03:44<00:42,  1.78it/s]"
     ]
    },
    {
     "name": "stdout",
     "output_type": "stream",
     "text": [
      "226 students pre-enrolled in MATH-3110\n",
      "3 data point is nan during processing\n",
      "Sanity check passed\n",
      "30 students dropped\n"
     ]
    },
    {
     "name": "stderr",
     "output_type": "stream",
     "text": [
      "\r",
      " 84%|███████████████████████████████████████████████████████████████████▍            | 403/478 [03:44<00:42,  1.76it/s]"
     ]
    },
    {
     "name": "stdout",
     "output_type": "stream",
     "text": [
      "173 students pre-enrolled in HADM-2810\n",
      "0 data point is nan during processing\n",
      "Sanity check passed\n",
      "1 students dropped\n"
     ]
    },
    {
     "name": "stderr",
     "output_type": "stream",
     "text": [
      "\r",
      " 85%|███████████████████████████████████████████████████████████████████▌            | 404/478 [03:45<00:42,  1.73it/s]"
     ]
    },
    {
     "name": "stdout",
     "output_type": "stream",
     "text": [
      "30 students pre-enrolled in STSCI-3080\n",
      "0 data point is nan during processing\n",
      "Sanity check passed\n",
      "3 students dropped\n"
     ]
    },
    {
     "name": "stderr",
     "output_type": "stream",
     "text": [
      "\r",
      " 85%|███████████████████████████████████████████████████████████████████▊            | 405/478 [03:45<00:41,  1.77it/s]"
     ]
    },
    {
     "name": "stdout",
     "output_type": "stream",
     "text": [
      "6 students pre-enrolled in CEE-5665\n",
      "0 data point is nan during processing\n",
      "Sanity check passed\n",
      "2 students dropped\n"
     ]
    },
    {
     "name": "stderr",
     "output_type": "stream",
     "text": [
      "\r",
      " 85%|███████████████████████████████████████████████████████████████████▉            | 406/478 [03:46<00:42,  1.71it/s]"
     ]
    },
    {
     "name": "stdout",
     "output_type": "stream",
     "text": [
      "199 students pre-enrolled in PSYCH-3420\n",
      "8 data point is nan during processing\n",
      "Sanity check passed\n",
      "18 students dropped\n"
     ]
    },
    {
     "name": "stderr",
     "output_type": "stream",
     "text": [
      "\r",
      " 85%|████████████████████████████████████████████████████████████████████            | 407/478 [03:47<00:42,  1.67it/s]"
     ]
    },
    {
     "name": "stdout",
     "output_type": "stream",
     "text": [
      "126 students pre-enrolled in BTRY-6020\n",
      "2 data point is nan during processing\n",
      "Sanity check passed\n",
      "9 students dropped\n"
     ]
    },
    {
     "name": "stderr",
     "output_type": "stream",
     "text": [
      "\r",
      " 85%|████████████████████████████████████████████████████████████████████▎           | 408/478 [03:47<00:40,  1.74it/s]"
     ]
    },
    {
     "name": "stdout",
     "output_type": "stream",
     "text": [
      "85 students pre-enrolled in AEM-4350\n",
      "2 data point is nan during processing\n",
      "Sanity check passed\n",
      "19 students dropped\n"
     ]
    },
    {
     "name": "stderr",
     "output_type": "stream",
     "text": [
      "\r",
      " 86%|████████████████████████████████████████████████████████████████████▍           | 409/478 [03:48<00:40,  1.71it/s]"
     ]
    },
    {
     "name": "stdout",
     "output_type": "stream",
     "text": [
      "95 students pre-enrolled in MAE-4860\n",
      "0 data point is nan during processing\n",
      "Sanity check passed\n",
      "15 students dropped\n"
     ]
    },
    {
     "name": "stderr",
     "output_type": "stream",
     "text": [
      "\r",
      " 86%|████████████████████████████████████████████████████████████████████▌           | 410/478 [03:48<00:38,  1.75it/s]"
     ]
    },
    {
     "name": "stdout",
     "output_type": "stream",
     "text": [
      "301 students pre-enrolled in COMM-1300\n",
      "3 data point is nan during processing\n",
      "Sanity check passed\n",
      "34 students dropped\n"
     ]
    },
    {
     "name": "stderr",
     "output_type": "stream",
     "text": [
      "\r",
      " 86%|████████████████████████████████████████████████████████████████████▊           | 411/478 [03:49<00:38,  1.72it/s]"
     ]
    },
    {
     "name": "stdout",
     "output_type": "stream",
     "text": [
      "15 students pre-enrolled in PLSCI-5940\n",
      "1 data point is nan during processing\n",
      "Sanity check passed\n",
      "4 students dropped\n"
     ]
    },
    {
     "name": "stderr",
     "output_type": "stream",
     "text": [
      "\r",
      " 86%|████████████████████████████████████████████████████████████████████▉           | 412/478 [03:50<00:38,  1.70it/s]"
     ]
    },
    {
     "name": "stdout",
     "output_type": "stream",
     "text": [
      "195 students pre-enrolled in ORIE-3310\n",
      "4 data point is nan during processing\n",
      "Sanity check passed\n",
      "6 students dropped\n"
     ]
    },
    {
     "name": "stderr",
     "output_type": "stream",
     "text": [
      "\r",
      " 86%|█████████████████████████████████████████████████████████████████████           | 413/478 [03:50<00:37,  1.74it/s]"
     ]
    },
    {
     "name": "stdout",
     "output_type": "stream",
     "text": [
      "361 students pre-enrolled in MAE-2030\n",
      "0 data point is nan during processing\n",
      "Sanity check passed\n",
      "18 students dropped\n"
     ]
    },
    {
     "name": "stderr",
     "output_type": "stream",
     "text": [
      "\r",
      " 87%|█████████████████████████████████████████████████████████████████████▎          | 414/478 [03:51<00:38,  1.66it/s]"
     ]
    },
    {
     "name": "stdout",
     "output_type": "stream",
     "text": [
      "550 students pre-enrolled in MATH-1120\n",
      "6 data point is nan during processing\n",
      "Sanity check passed\n",
      "62 students dropped\n"
     ]
    },
    {
     "name": "stderr",
     "output_type": "stream",
     "text": [
      "\r",
      " 87%|█████████████████████████████████████████████████████████████████████▍          | 415/478 [03:51<00:36,  1.72it/s]"
     ]
    },
    {
     "name": "stdout",
     "output_type": "stream",
     "text": [
      "29 students pre-enrolled in DEA-4040\n",
      "0 data point is nan during processing\n",
      "Sanity check passed\n",
      "0 students dropped\n"
     ]
    },
    {
     "name": "stderr",
     "output_type": "stream",
     "text": [
      "\r",
      " 87%|█████████████████████████████████████████████████████████████████████▌          | 416/478 [03:52<00:36,  1.70it/s]"
     ]
    },
    {
     "name": "stdout",
     "output_type": "stream",
     "text": [
      "199 students pre-enrolled in HD-3700\n",
      "4 data point is nan during processing\n",
      "Sanity check passed\n",
      "34 students dropped\n"
     ]
    },
    {
     "name": "stderr",
     "output_type": "stream",
     "text": [
      "\r",
      " 87%|█████████████████████████████████████████████████████████████████████▊          | 417/478 [03:53<00:36,  1.68it/s]"
     ]
    },
    {
     "name": "stdout",
     "output_type": "stream",
     "text": [
      "61 students pre-enrolled in MATH-4280\n",
      "0 data point is nan during processing\n",
      "Sanity check passed\n",
      "27 students dropped\n"
     ]
    },
    {
     "name": "stderr",
     "output_type": "stream",
     "text": [
      "\r",
      " 87%|█████████████████████████████████████████████████████████████████████▉          | 418/478 [03:53<00:34,  1.74it/s]"
     ]
    },
    {
     "name": "stdout",
     "output_type": "stream",
     "text": [
      "19 students pre-enrolled in MILS-2202\n",
      "0 data point is nan during processing\n",
      "Sanity check passed\n",
      "1 students dropped\n"
     ]
    },
    {
     "name": "stderr",
     "output_type": "stream",
     "text": [
      "\r",
      " 88%|██████████████████████████████████████████████████████████████████████▏         | 419/478 [03:54<00:34,  1.69it/s]"
     ]
    },
    {
     "name": "stdout",
     "output_type": "stream",
     "text": [
      "891 students pre-enrolled in PHYS-2213\n",
      "3 data point is nan during processing\n",
      "Sanity check passed\n",
      "41 students dropped\n"
     ]
    },
    {
     "name": "stderr",
     "output_type": "stream",
     "text": [
      "\r",
      " 88%|██████████████████████████████████████████████████████████████████████▎         | 420/478 [03:54<00:33,  1.74it/s]"
     ]
    },
    {
     "name": "stdout",
     "output_type": "stream",
     "text": [
      "8 students pre-enrolled in AEP-1100\n",
      "0 data point is nan during processing\n",
      "Sanity check passed\n",
      "1 students dropped\n"
     ]
    },
    {
     "name": "stderr",
     "output_type": "stream",
     "text": [
      "\r",
      " 88%|██████████████████████████████████████████████████████████████████████▍         | 421/478 [03:55<00:32,  1.73it/s]"
     ]
    },
    {
     "name": "stdout",
     "output_type": "stream",
     "text": [
      "56 students pre-enrolled in INFO-1380\n",
      "5 data point is nan during processing\n",
      "Sanity check passed\n",
      "15 students dropped\n"
     ]
    },
    {
     "name": "stderr",
     "output_type": "stream",
     "text": [
      "\r",
      " 88%|██████████████████████████████████████████████████████████████████████▋         | 422/478 [03:55<00:32,  1.71it/s]"
     ]
    },
    {
     "name": "stdout",
     "output_type": "stream",
     "text": [
      "21 students pre-enrolled in ECE-5210\n",
      "1 data point is nan during processing\n",
      "Sanity check passed\n",
      "4 students dropped\n"
     ]
    },
    {
     "name": "stderr",
     "output_type": "stream",
     "text": [
      "\r",
      " 88%|██████████████████████████████████████████████████████████████████████▊         | 423/478 [03:56<00:30,  1.78it/s]"
     ]
    },
    {
     "name": "stdout",
     "output_type": "stream",
     "text": [
      "42 students pre-enrolled in AEP-3620\n",
      "0 data point is nan during processing\n",
      "Sanity check passed\n",
      "1 students dropped\n"
     ]
    },
    {
     "name": "stderr",
     "output_type": "stream",
     "text": [
      "\r",
      " 89%|██████████████████████████████████████████████████████████████████████▉         | 424/478 [03:57<00:30,  1.75it/s]"
     ]
    },
    {
     "name": "stdout",
     "output_type": "stream",
     "text": [
      "16 students pre-enrolled in FDSC-4250\n",
      "0 data point is nan during processing\n",
      "Sanity check passed\n",
      "0 students dropped\n"
     ]
    },
    {
     "name": "stderr",
     "output_type": "stream",
     "text": [
      "\r",
      " 89%|███████████████████████████████████████████████████████████████████████▏        | 425/478 [03:57<00:29,  1.80it/s]"
     ]
    },
    {
     "name": "stdout",
     "output_type": "stream",
     "text": [
      "6 students pre-enrolled in BIOMG-6350\n",
      "0 data point is nan during processing\n",
      "Sanity check passed\n",
      "3 students dropped\n"
     ]
    },
    {
     "name": "stderr",
     "output_type": "stream",
     "text": [
      "\r",
      " 89%|███████████████████████████████████████████████████████████████████████▎        | 426/478 [03:58<00:29,  1.75it/s]"
     ]
    },
    {
     "name": "stdout",
     "output_type": "stream",
     "text": [
      "9 students pre-enrolled in EAS-7930\n",
      "0 data point is nan during processing\n",
      "Sanity check passed\n",
      "1 students dropped\n"
     ]
    },
    {
     "name": "stderr",
     "output_type": "stream",
     "text": [
      "\r",
      " 89%|███████████████████████████████████████████████████████████████████████▍        | 427/478 [03:58<00:28,  1.79it/s]"
     ]
    },
    {
     "name": "stdout",
     "output_type": "stream",
     "text": [
      "56 students pre-enrolled in HADM-4800\n",
      "2 data point is nan during processing\n",
      "Sanity check passed\n",
      "6 students dropped\n"
     ]
    },
    {
     "name": "stderr",
     "output_type": "stream",
     "text": [
      "\r",
      " 90%|███████████████████████████████████████████████████████████████████████▋        | 428/478 [03:59<00:29,  1.71it/s]"
     ]
    },
    {
     "name": "stdout",
     "output_type": "stream",
     "text": [
      "1369 students pre-enrolled in CS-2800\n",
      "9 data point is nan during processing\n",
      "Sanity check passed\n",
      "73 students dropped\n"
     ]
    },
    {
     "name": "stderr",
     "output_type": "stream",
     "text": [
      "\r",
      " 90%|███████████████████████████████████████████████████████████████████████▊        | 429/478 [03:59<00:29,  1.68it/s]"
     ]
    },
    {
     "name": "stdout",
     "output_type": "stream",
     "text": [
      "97 students pre-enrolled in HADM-4760\n",
      "0 data point is nan during processing\n",
      "Sanity check passed\n",
      "12 students dropped\n"
     ]
    },
    {
     "name": "stderr",
     "output_type": "stream",
     "text": [
      "\r",
      " 90%|███████████████████████████████████████████████████████████████████████▉        | 430/478 [04:00<00:28,  1.71it/s]"
     ]
    },
    {
     "name": "stdout",
     "output_type": "stream",
     "text": [
      "643 students pre-enrolled in MATH-1910\n",
      "2 data point is nan during processing\n",
      "Sanity check passed\n",
      "12 students dropped\n"
     ]
    },
    {
     "name": "stderr",
     "output_type": "stream",
     "text": [
      "\r",
      " 90%|████████████████████████████████████████████████████████████████████████▏       | 431/478 [04:01<00:28,  1.68it/s]"
     ]
    },
    {
     "name": "stdout",
     "output_type": "stream",
     "text": [
      "27 students pre-enrolled in CEE-6330\n",
      "2 data point is nan during processing\n",
      "Sanity check passed\n",
      "2 students dropped\n"
     ]
    },
    {
     "name": "stderr",
     "output_type": "stream",
     "text": [
      "\r",
      " 90%|████████████████████████████████████████████████████████████████████████▎       | 432/478 [04:01<00:27,  1.67it/s]"
     ]
    },
    {
     "name": "stdout",
     "output_type": "stream",
     "text": [
      "36 students pre-enrolled in MAE-4230\n",
      "0 data point is nan during processing\n",
      "Sanity check passed\n",
      "10 students dropped\n"
     ]
    },
    {
     "name": "stderr",
     "output_type": "stream",
     "text": [
      "\r",
      " 91%|████████████████████████████████████████████████████████████████████████▍       | 433/478 [04:02<00:25,  1.74it/s]"
     ]
    },
    {
     "name": "stdout",
     "output_type": "stream",
     "text": [
      "11 students pre-enrolled in TAG-2202\n",
      "0 data point is nan during processing\n",
      "Sanity check passed\n",
      "1 students dropped\n"
     ]
    },
    {
     "name": "stderr",
     "output_type": "stream",
     "text": [
      "\r",
      " 91%|████████████████████████████████████████████████████████████████████████▋       | 434/478 [04:02<00:25,  1.71it/s]"
     ]
    },
    {
     "name": "stdout",
     "output_type": "stream",
     "text": [
      "327 students pre-enrolled in MAE-2250\n",
      "0 data point is nan during processing\n",
      "Sanity check passed\n",
      "6 students dropped\n"
     ]
    },
    {
     "name": "stderr",
     "output_type": "stream",
     "text": [
      "\r",
      " 91%|████████████████████████████████████████████████████████████████████████▊       | 435/478 [04:03<00:24,  1.76it/s]"
     ]
    },
    {
     "name": "stdout",
     "output_type": "stream",
     "text": [
      "22 students pre-enrolled in PORT-2020\n",
      "1 data point is nan during processing\n",
      "Sanity check passed\n",
      "2 students dropped\n"
     ]
    },
    {
     "name": "stderr",
     "output_type": "stream",
     "text": [
      "\r",
      " 91%|████████████████████████████████████████████████████████████████████████▉       | 436/478 [04:03<00:24,  1.72it/s]"
     ]
    },
    {
     "name": "stdout",
     "output_type": "stream",
     "text": [
      "418 students pre-enrolled in MATH-1106\n",
      "0 data point is nan during processing\n",
      "Sanity check passed\n",
      "27 students dropped\n"
     ]
    },
    {
     "name": "stderr",
     "output_type": "stream",
     "text": [
      "\r",
      " 91%|█████████████████████████████████████████████████████████████████████████▏      | 437/478 [04:04<00:24,  1.70it/s]"
     ]
    },
    {
     "name": "stdout",
     "output_type": "stream",
     "text": [
      "6 students pre-enrolled in ANSC-6410\n",
      "0 data point is nan during processing\n",
      "Sanity check passed\n",
      "1 students dropped\n"
     ]
    },
    {
     "name": "stderr",
     "output_type": "stream",
     "text": [
      "\r",
      " 92%|█████████████████████████████████████████████████████████████████████████▎      | 438/478 [04:05<00:22,  1.77it/s]"
     ]
    },
    {
     "name": "stdout",
     "output_type": "stream",
     "text": [
      "82 students pre-enrolled in HD-3530\n",
      "1 data point is nan during processing\n",
      "Sanity check passed\n",
      "31 students dropped\n"
     ]
    },
    {
     "name": "stderr",
     "output_type": "stream",
     "text": [
      "\r",
      " 92%|█████████████████████████████████████████████████████████████████████████▍      | 439/478 [04:05<00:22,  1.75it/s]"
     ]
    },
    {
     "name": "stdout",
     "output_type": "stream",
     "text": [
      "97 students pre-enrolled in AEM-2480\n",
      "1 data point is nan during processing\n",
      "Sanity check passed\n",
      "11 students dropped\n"
     ]
    },
    {
     "name": "stderr",
     "output_type": "stream",
     "text": [
      "\r",
      " 92%|█████████████████████████████████████████████████████████████████████████▋      | 440/478 [04:06<00:21,  1.76it/s]"
     ]
    },
    {
     "name": "stdout",
     "output_type": "stream",
     "text": [
      "1204 students pre-enrolled in BIOMG-1350\n",
      "3 data point is nan during processing\n",
      "Sanity check passed\n",
      "51 students dropped\n"
     ]
    },
    {
     "name": "stderr",
     "output_type": "stream",
     "text": [
      "\r",
      " 92%|█████████████████████████████████████████████████████████████████████████▊      | 441/478 [04:06<00:21,  1.74it/s]"
     ]
    },
    {
     "name": "stdout",
     "output_type": "stream",
     "text": [
      "10 students pre-enrolled in PLBIO-5430\n",
      "0 data point is nan during processing\n",
      "Sanity check passed\n",
      "0 students dropped\n"
     ]
    },
    {
     "name": "stderr",
     "output_type": "stream",
     "text": [
      "\r",
      " 92%|█████████████████████████████████████████████████████████████████████████▉      | 442/478 [04:07<00:20,  1.72it/s]"
     ]
    },
    {
     "name": "stdout",
     "output_type": "stream",
     "text": [
      "145 students pre-enrolled in ENGRD-2720\n",
      "0 data point is nan during processing\n",
      "Sanity check passed\n",
      "34 students dropped\n"
     ]
    },
    {
     "name": "stderr",
     "output_type": "stream",
     "text": [
      "\r",
      " 93%|██████████████████████████████████████████████████████████████████████████▏     | 443/478 [04:07<00:19,  1.78it/s]"
     ]
    },
    {
     "name": "stdout",
     "output_type": "stream",
     "text": [
      "5 students pre-enrolled in SWAHL-2102\n",
      "0 data point is nan during processing\n",
      "Sanity check passed\n",
      "0 students dropped\n"
     ]
    },
    {
     "name": "stderr",
     "output_type": "stream",
     "text": [
      "\r",
      " 93%|██████████████████████████████████████████████████████████████████████████▎     | 444/478 [04:08<00:19,  1.76it/s]"
     ]
    },
    {
     "name": "stdout",
     "output_type": "stream",
     "text": [
      "4 students pre-enrolled in ILRST-3110\n",
      "0 data point is nan during processing\n",
      "Sanity check passed\n",
      "0 students dropped\n"
     ]
    },
    {
     "name": "stderr",
     "output_type": "stream",
     "text": [
      "\r",
      " 93%|██████████████████████████████████████████████████████████████████████████▍     | 445/478 [04:09<00:18,  1.82it/s]"
     ]
    },
    {
     "name": "stdout",
     "output_type": "stream",
     "text": [
      "19 students pre-enrolled in RUSSA-1132\n",
      "1 data point is nan during processing\n",
      "Sanity check passed\n",
      "7 students dropped\n"
     ]
    },
    {
     "name": "stderr",
     "output_type": "stream",
     "text": [
      "\r",
      " 93%|██████████████████████████████████████████████████████████████████████████▋     | 446/478 [04:09<00:17,  1.78it/s]"
     ]
    },
    {
     "name": "stdout",
     "output_type": "stream",
     "text": [
      "87 students pre-enrolled in ENGRI-1100\n",
      "1 data point is nan during processing\n",
      "Sanity check passed\n",
      "12 students dropped\n"
     ]
    },
    {
     "name": "stderr",
     "output_type": "stream",
     "text": [
      "\r",
      " 94%|██████████████████████████████████████████████████████████████████████████▊     | 447/478 [04:10<00:17,  1.79it/s]"
     ]
    },
    {
     "name": "stdout",
     "output_type": "stream",
     "text": [
      "77 students pre-enrolled in PLBIO-2490\n",
      "2 data point is nan during processing\n",
      "Sanity check passed\n",
      "8 students dropped\n"
     ]
    },
    {
     "name": "stderr",
     "output_type": "stream",
     "text": [
      "\r",
      " 94%|██████████████████████████████████████████████████████████████████████████▉     | 448/478 [04:10<00:17,  1.76it/s]"
     ]
    },
    {
     "name": "stdout",
     "output_type": "stream",
     "text": [
      "2 students pre-enrolled in ANSC-5300\n",
      "0 data point is nan during processing\n",
      "Sanity check passed\n",
      "0 students dropped\n"
     ]
    },
    {
     "name": "stderr",
     "output_type": "stream",
     "text": [
      "\r",
      " 94%|███████████████████████████████████████████████████████████████████████████▏    | 449/478 [04:11<00:16,  1.75it/s]"
     ]
    },
    {
     "name": "stdout",
     "output_type": "stream",
     "text": [
      "27 students pre-enrolled in ECE-4370\n",
      "0 data point is nan during processing\n",
      "Sanity check passed\n",
      "6 students dropped\n"
     ]
    },
    {
     "name": "stderr",
     "output_type": "stream",
     "text": [
      "\r",
      " 94%|███████████████████████████████████████████████████████████████████████████▎    | 450/478 [04:11<00:15,  1.81it/s]"
     ]
    },
    {
     "name": "stdout",
     "output_type": "stream",
     "text": [
      "69 students pre-enrolled in CS-1710\n",
      "1 data point is nan during processing\n",
      "Sanity check passed\n",
      "11 students dropped\n"
     ]
    },
    {
     "name": "stderr",
     "output_type": "stream",
     "text": [
      "\r",
      " 94%|███████████████████████████████████████████████████████████████████████████▍    | 451/478 [04:12<00:15,  1.78it/s]"
     ]
    },
    {
     "name": "stdout",
     "output_type": "stream",
     "text": [
      "119 students pre-enrolled in PHYS-3316\n",
      "1 data point is nan during processing\n",
      "Sanity check passed\n",
      "5 students dropped\n"
     ]
    },
    {
     "name": "stderr",
     "output_type": "stream",
     "text": [
      "\r",
      " 95%|███████████████████████████████████████████████████████████████████████████▋    | 452/478 [04:13<00:14,  1.74it/s]"
     ]
    },
    {
     "name": "stdout",
     "output_type": "stream",
     "text": [
      "250 students pre-enrolled in ECON-4210\n",
      "0 data point is nan during processing\n",
      "Sanity check passed\n",
      "9 students dropped\n"
     ]
    },
    {
     "name": "stderr",
     "output_type": "stream",
     "text": [
      "\r",
      " 95%|███████████████████████████████████████████████████████████████████████████▊    | 453/478 [04:13<00:14,  1.76it/s]"
     ]
    },
    {
     "name": "stdout",
     "output_type": "stream",
     "text": [
      "1245 students pre-enrolled in MATH-2930\n",
      "1 data point is nan during processing\n",
      "Sanity check passed\n",
      "59 students dropped\n"
     ]
    },
    {
     "name": "stderr",
     "output_type": "stream",
     "text": [
      "\r",
      " 95%|███████████████████████████████████████████████████████████████████████████▉    | 454/478 [04:14<00:13,  1.72it/s]"
     ]
    },
    {
     "name": "stdout",
     "output_type": "stream",
     "text": [
      "717 students pre-enrolled in VIEN-1104\n",
      "7 data point is nan during processing\n",
      "Sanity check passed\n",
      "63 students dropped\n"
     ]
    },
    {
     "name": "stderr",
     "output_type": "stream",
     "text": [
      "\r",
      " 95%|████████████████████████████████████████████████████████████████████████████▏   | 455/478 [04:14<00:12,  1.78it/s]"
     ]
    },
    {
     "name": "stdout",
     "output_type": "stream",
     "text": [
      "65 students pre-enrolled in BIOMG-7510\n",
      "2 data point is nan during processing\n",
      "Sanity check passed\n",
      "5 students dropped\n"
     ]
    },
    {
     "name": "stderr",
     "output_type": "stream",
     "text": [
      "\r",
      " 95%|████████████████████████████████████████████████████████████████████████████▎   | 456/478 [04:15<00:12,  1.75it/s]"
     ]
    },
    {
     "name": "stdout",
     "output_type": "stream",
     "text": [
      "39 students pre-enrolled in AEM-4315\n",
      "0 data point is nan during processing\n",
      "Sanity check passed\n",
      "22 students dropped\n"
     ]
    },
    {
     "name": "stderr",
     "output_type": "stream",
     "text": [
      "\r",
      " 96%|████████████████████████████████████████████████████████████████████████████▍   | 457/478 [04:15<00:11,  1.79it/s]"
     ]
    },
    {
     "name": "stdout",
     "output_type": "stream",
     "text": [
      "296 students pre-enrolled in PSYCH-3250\n",
      "6 data point is nan during processing\n",
      "Sanity check passed\n",
      "27 students dropped\n"
     ]
    },
    {
     "name": "stderr",
     "output_type": "stream",
     "text": [
      "\r",
      " 96%|████████████████████████████████████████████████████████████████████████████▋   | 458/478 [04:16<00:11,  1.76it/s]"
     ]
    },
    {
     "name": "stdout",
     "output_type": "stream",
     "text": [
      "177 students pre-enrolled in MATH-1340\n",
      "3 data point is nan during processing\n",
      "Sanity check passed\n",
      "30 students dropped\n"
     ]
    },
    {
     "name": "stderr",
     "output_type": "stream",
     "text": [
      "\r",
      " 96%|████████████████████████████████████████████████████████████████████████████▊   | 459/478 [04:17<00:10,  1.74it/s]"
     ]
    },
    {
     "name": "stdout",
     "output_type": "stream",
     "text": [
      "18 students pre-enrolled in MAE-4590\n",
      "0 data point is nan during processing\n",
      "Sanity check passed\n",
      "2 students dropped\n"
     ]
    },
    {
     "name": "stderr",
     "output_type": "stream",
     "text": [
      "\r",
      " 96%|████████████████████████████████████████████████████████████████████████████▉   | 460/478 [04:17<00:10,  1.78it/s]"
     ]
    },
    {
     "name": "stdout",
     "output_type": "stream",
     "text": [
      "23 students pre-enrolled in MAE-4130\n",
      "0 data point is nan during processing\n",
      "Sanity check passed\n",
      "3 students dropped\n"
     ]
    },
    {
     "name": "stderr",
     "output_type": "stream",
     "text": [
      "\r",
      " 96%|█████████████████████████████████████████████████████████████████████████████▏  | 461/478 [04:18<00:09,  1.75it/s]"
     ]
    },
    {
     "name": "stdout",
     "output_type": "stream",
     "text": [
      "16 students pre-enrolled in BME-3310\n",
      "1 data point is nan during processing\n",
      "Sanity check passed\n",
      "4 students dropped\n"
     ]
    },
    {
     "name": "stderr",
     "output_type": "stream",
     "text": [
      "\r",
      " 97%|█████████████████████████████████████████████████████████████████████████████▎  | 462/478 [04:18<00:08,  1.79it/s]"
     ]
    },
    {
     "name": "stdout",
     "output_type": "stream",
     "text": [
      "131 students pre-enrolled in BIOMI-2911\n",
      "1 data point is nan during processing\n",
      "Sanity check passed\n",
      "10 students dropped\n"
     ]
    },
    {
     "name": "stderr",
     "output_type": "stream",
     "text": [
      "\r",
      " 97%|█████████████████████████████████████████████████████████████████████████████▍  | 463/478 [04:19<00:08,  1.75it/s]"
     ]
    },
    {
     "name": "stdout",
     "output_type": "stream",
     "text": [
      "72 students pre-enrolled in HIST-1540\n",
      "2 data point is nan during processing\n",
      "Sanity check passed\n",
      "20 students dropped\n"
     ]
    },
    {
     "name": "stderr",
     "output_type": "stream",
     "text": [
      "\r",
      " 97%|█████████████████████████████████████████████████████████████████████████████▋  | 464/478 [04:19<00:08,  1.71it/s]"
     ]
    },
    {
     "name": "stdout",
     "output_type": "stream",
     "text": [
      "68 students pre-enrolled in PAM-3340\n",
      "2 data point is nan during processing\n",
      "Sanity check passed\n",
      "8 students dropped\n"
     ]
    },
    {
     "name": "stderr",
     "output_type": "stream",
     "text": [
      "\r",
      " 97%|█████████████████████████████████████████████████████████████████████████████▊  | 465/478 [04:20<00:07,  1.76it/s]"
     ]
    },
    {
     "name": "stdout",
     "output_type": "stream",
     "text": [
      "205 students pre-enrolled in NS-1220\n",
      "1 data point is nan during processing\n",
      "Sanity check passed\n",
      "9 students dropped\n"
     ]
    },
    {
     "name": "stderr",
     "output_type": "stream",
     "text": [
      "\r",
      " 97%|█████████████████████████████████████████████████████████████████████████████▉  | 466/478 [04:21<00:06,  1.73it/s]"
     ]
    },
    {
     "name": "stdout",
     "output_type": "stream",
     "text": [
      "13 students pre-enrolled in GREEK-1102\n",
      "0 data point is nan during processing\n",
      "Sanity check passed\n",
      "0 students dropped\n"
     ]
    },
    {
     "name": "stderr",
     "output_type": "stream",
     "text": [
      "\r",
      " 98%|██████████████████████████████████████████████████████████████████████████████▏ | 467/478 [04:21<00:06,  1.70it/s]"
     ]
    },
    {
     "name": "stdout",
     "output_type": "stream",
     "text": [
      "81 students pre-enrolled in NTRES-2320\n",
      "3 data point is nan during processing\n",
      "Sanity check passed\n",
      "16 students dropped\n"
     ]
    },
    {
     "name": "stderr",
     "output_type": "stream",
     "text": [
      "\r",
      " 98%|██████████████████████████████████████████████████████████████████████████████▎ | 468/478 [04:22<00:05,  1.75it/s]"
     ]
    },
    {
     "name": "stdout",
     "output_type": "stream",
     "text": [
      "58 students pre-enrolled in PAM-3301\n",
      "0 data point is nan during processing\n",
      "Sanity check passed\n",
      "3 students dropped\n"
     ]
    },
    {
     "name": "stderr",
     "output_type": "stream",
     "text": [
      "\r",
      " 98%|██████████████████████████████████████████████████████████████████████████████▍ | 469/478 [04:22<00:05,  1.70it/s]"
     ]
    },
    {
     "name": "stdout",
     "output_type": "stream",
     "text": [
      "255 students pre-enrolled in ANSC-2400\n",
      "2 data point is nan during processing\n",
      "Sanity check passed\n",
      "11 students dropped\n"
     ]
    },
    {
     "name": "stderr",
     "output_type": "stream",
     "text": [
      "\r",
      " 98%|██████████████████████████████████████████████████████████████████████████████▋ | 470/478 [04:23<00:04,  1.75it/s]"
     ]
    },
    {
     "name": "stdout",
     "output_type": "stream",
     "text": [
      "231 students pre-enrolled in AEM-1500\n",
      "0 data point is nan during processing\n",
      "Sanity check passed\n",
      "15 students dropped\n"
     ]
    },
    {
     "name": "stderr",
     "output_type": "stream",
     "text": [
      "\r",
      " 99%|██████████████████████████████████████████████████████████████████████████████▊ | 471/478 [04:23<00:04,  1.71it/s]"
     ]
    },
    {
     "name": "stdout",
     "output_type": "stream",
     "text": [
      "375 students pre-enrolled in HADM-3010\n",
      "2 data point is nan during processing\n",
      "Sanity check passed\n",
      "5 students dropped\n"
     ]
    },
    {
     "name": "stderr",
     "output_type": "stream",
     "text": [
      "\r",
      " 99%|██████████████████████████████████████████████████████████████████████████████▉ | 472/478 [04:24<00:03,  1.70it/s]"
     ]
    },
    {
     "name": "stdout",
     "output_type": "stream",
     "text": [
      "77 students pre-enrolled in ECON-3550\n",
      "2 data point is nan during processing\n",
      "Sanity check passed\n",
      "37 students dropped\n"
     ]
    },
    {
     "name": "stderr",
     "output_type": "stream",
     "text": [
      "\r",
      " 99%|███████████████████████████████████████████████████████████████████████████████▏| 473/478 [04:25<00:02,  1.77it/s]"
     ]
    },
    {
     "name": "stdout",
     "output_type": "stream",
     "text": [
      "42 students pre-enrolled in CLASS-2689\n",
      "0 data point is nan during processing\n",
      "Sanity check passed\n",
      "15 students dropped\n"
     ]
    },
    {
     "name": "stderr",
     "output_type": "stream",
     "text": [
      "\r",
      " 99%|███████████████████████████████████████████████████████████████████████████████▎| 474/478 [04:25<00:02,  1.73it/s]"
     ]
    },
    {
     "name": "stdout",
     "output_type": "stream",
     "text": [
      "5 students pre-enrolled in STSCI-3110\n",
      "0 data point is nan during processing\n",
      "Sanity check passed\n",
      "2 students dropped\n"
     ]
    },
    {
     "name": "stderr",
     "output_type": "stream",
     "text": [
      "\r",
      " 99%|███████████████████████████████████████████████████████████████████████████████▍| 475/478 [04:26<00:01,  1.78it/s]"
     ]
    },
    {
     "name": "stdout",
     "output_type": "stream",
     "text": [
      "5 students pre-enrolled in ECE-5840\n",
      "0 data point is nan during processing\n",
      "Sanity check passed\n",
      "1 students dropped\n"
     ]
    },
    {
     "name": "stderr",
     "output_type": "stream",
     "text": [
      "\r",
      "100%|███████████████████████████████████████████████████████████████████████████████▋| 476/478 [04:26<00:01,  1.71it/s]"
     ]
    },
    {
     "name": "stdout",
     "output_type": "stream",
     "text": [
      "966 students pre-enrolled in BIOG-1440\n",
      "1 data point is nan during processing\n",
      "Sanity check passed\n",
      "56 students dropped\n"
     ]
    },
    {
     "name": "stderr",
     "output_type": "stream",
     "text": [
      "\r",
      "100%|███████████████████████████████████████████████████████████████████████████████▊| 477/478 [04:27<00:00,  1.69it/s]"
     ]
    },
    {
     "name": "stdout",
     "output_type": "stream",
     "text": [
      "436 students pre-enrolled in CS-4670\n",
      "4 data point is nan during processing\n",
      "Sanity check passed\n",
      "44 students dropped\n"
     ]
    },
    {
     "name": "stderr",
     "output_type": "stream",
     "text": [
      "100%|████████████████████████████████████████████████████████████████████████████████| 478/478 [04:27<00:00,  1.78it/s]"
     ]
    },
    {
     "name": "stdout",
     "output_type": "stream",
     "text": [
      "475 students pre-enrolled in AEM-2241\n",
      "9 data point is nan during processing\n",
      "Sanity check passed\n",
      "52 students dropped\n",
      "207\n",
      "Number of courses remaining:  91\n"
     ]
    },
    {
     "name": "stderr",
     "output_type": "stream",
     "text": [
      "\n"
     ]
    }
   ],
   "source": [
    "sp22_pre_df = pd.read_csv('./data_by_student/sp22_pre.csv')\n",
    "sp22_pre_df['exams'] = sp22_pre_df['exams'].apply(literal_eval)\n",
    "\n",
    "fa22_pre_df = pd.read_csv('./data_by_student/fa22_pre.csv')\n",
    "fa22_pre_df['exams'] = fa22_pre_df['exams'].apply(literal_eval)\n",
    "\n",
    "sp23_pre_df = pd.read_csv('./data_by_student/sp23_pre.csv')\n",
    "sp23_pre_df['exams'] = sp23_pre_df['exams'].apply(literal_eval)\n",
    "\n",
    "sp22_post_df = pd.read_csv('./data_by_student/sp22_post.csv')\n",
    "sp22_post_df['exams'] = sp22_post_df['exams'].apply(literal_eval)\n",
    "\n",
    "fa22_post_df = pd.read_csv('./data_by_student/fa22_post.csv')\n",
    "fa22_post_df['exams'] = fa22_post_df['exams'].apply(literal_eval)\n",
    "\n",
    "sp23_post_df = pd.read_csv('./data_by_student/sp23_post.csv')\n",
    "sp23_post_df['exams'] = sp23_post_df['exams'].apply(literal_eval)\n",
    "\n",
    "\n",
    "\n",
    "# Check list of courses that can apply the model \n",
    "# (i.e., at least one student dropped a class in spring 2022 and fall 2022;\n",
    "# not all students dropped a class in any semester;\n",
    "# the course appear in all pre- and post- of sp22, fa22, and sp23)\n",
    "sp23_pre_exams = list(sp23_pre_df.explode('exams')['exams'].unique())\n",
    "sp23_post_exams = list(sp23_post_df.explode('exams')['exams'].unique())\n",
    "sp22_pre_exams = list(sp22_pre_df.explode('exams')['exams'].unique())\n",
    "fa22_pre_exams = list(fa22_pre_df.explode('exams')['exams'].unique())\n",
    "sp22_post_exams = list(sp22_post_df.explode('exams')['exams'].unique())\n",
    "fa22_post_exams = list(fa22_post_df.explode('exams')['exams'].unique())\n",
    "\n",
    "cur_exams = set(sp23_post_exams).intersection(set(sp23_pre_exams))\n",
    "# filter exams not in both spring 2022 and fall 2022\n",
    "past_exams = (set(sp22_pre_exams).intersection(set(sp22_post_exams))).union(set(fa22_pre_exams).intersection(set(fa22_post_exams)))\n",
    "filtered_exams = set(cur_exams).intersection(past_exams)\n",
    "# print(filtered_exams)\n",
    "print(len(filtered_exams))\n",
    "\n",
    "\n",
    "# Filter out courses with less than 2 dropped students or less than 2 stayed students\n",
    "filtered_exams2 = copy.copy(filtered_exams)\n",
    "for course in tqdm(filtered_exams):\n",
    "    merge = make_feature_data(course)\n",
    "    num_drop = len(merge[merge['dropped'] == 1])\n",
    "    if (num_drop <= 1) or (num_drop >= len(merge) - 1) :\n",
    "        filtered_exams2.remove(course)\n",
    "        continue\n",
    "        \n",
    "    for sem in ['sp22', 'fa22', 'sp23']:\n",
    "        train_data_df = merge[merge['semester'] == sem]\n",
    "        if len(train_data_df) == 0:\n",
    "            break\n",
    "        num_drop_train = len(train_data_df[train_data_df['dropped'] == 1])\n",
    "        if (num_drop_train == 0) or (num_drop >= len(train_data_df) -1):\n",
    "            filtered_exams2.remove(course)\n",
    "            break\n",
    "print(len(filtered_exams2))\n",
    "\n",
    "\n",
    "# Keep only those in engineering\n",
    "eng_list =['CS', 'INFO', 'ORIE', 'CEE', 'CHEME', 'BME', 'BEE', 'ECE', 'MAE', 'MSE', \n",
    "            'AEP', 'ENGRC', 'ENGRD', 'ENGRI', 'ENGRG', 'ENMGT', 'SYSEN', 'STSCI', \n",
    "            'MATH', 'PHYS', 'EAS', 'CHEM']\n",
    "eng_filtered_exams = []\n",
    "for course in filtered_exams2:\n",
    "    if course.split('-')[0] in eng_list:\n",
    "        eng_filtered_exams.append(course)\n",
    "print('Number of courses remaining: ', len(eng_filtered_exams))\n",
    "eng_filtered_exams = sorted(eng_filtered_exams)\n",
    "\n",
    "\n",
    "# Save the list to a file\n",
    "with open('useful_courses.pkl', 'wb') as f:\n",
    "    pickle.dump(eng_filtered_exams, f)"
   ]
  },
  {
   "cell_type": "code",
   "execution_count": 5,
   "metadata": {},
   "outputs": [],
   "source": [
    "with open('useful_courses.pkl', 'rb') as f:\n",
    "    eng_filtered_exams = pickle.load(f)"
   ]
  }
 ],
 "metadata": {
  "kernelspec": {
   "display_name": "Python 3",
   "language": "python",
   "name": "python3"
  },
  "language_info": {
   "codemirror_mode": {
    "name": "ipython",
    "version": 3
   },
   "file_extension": ".py",
   "mimetype": "text/x-python",
   "name": "python",
   "nbconvert_exporter": "python",
   "pygments_lexer": "ipython3",
   "version": "3.7.6"
  }
 },
 "nbformat": 4,
 "nbformat_minor": 5
}
